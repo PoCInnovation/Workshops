{
 "cells": [
  {
   "cell_type": "markdown",
   "id": "a0288de9",
   "metadata": {},
   "source": [
    "# Learn Python Basics"
   ]
  },
  {
   "cell_type": "markdown",
   "id": "bc428c5f",
   "metadata": {},
   "source": [
    "## Welcome !\n",
    "This workshop was made to help you discover **Python Basic** and some advanced stuff that could be useful in your cursus.\\\n",
    "It's entirely interactive using Jupyter Notebook, so don't hesitate to do some tests on your own.\n",
    "\n",
    "> This workshop is mostly destinated to people who have never touched Python in depth, with some little code knowledge. We will cover easy and hard stuff, so good luck if you're new there !\n",
    "\n",
    "Its purpose will be to expand and improve the capacity of our little robot, and maybe even get to its final form.\\\n",
    "I hope you guys are ready, you'll have a lot of work to get throught !\\\n",
    "Throughout this workshop, you will learn a lot of new stuff so don’t forget to take notes and don’t be shy, the supervising staff is here to answer all your questions.\n",
    "\n",
    "I hope you're ready. Let’s go!"
   ]
  },
  {
   "cell_type": "markdown",
   "id": "d9556e40",
   "metadata": {},
   "source": [
    "## What is Python exactly ?\n",
    "To start of, **Python** is an interpreted high-level programming language that's focused on its readability and its simple synthax, which facilitates a lot collaborations.\\\n",
    "It allows non programmers to translate their research works into a working result.\\\n",
    "It's widly used in the research domains and the world of mathematics, mostly by Data Scientists and Researcher in a lot of domains."
   ]
  },
  {
   "cell_type": "markdown",
   "id": "0f30f8c0",
   "metadata": {},
   "source": [
    "## Python Synthax\n",
    "### ~ *Lost in space* ~\n",
    "\n",
    "Houston, we have a problem !\n",
    "\n",
    "We sent a file to our **Robot** in space and it got corrupted, it's now full of incorrect synthaxes !\\\n",
    "We need your help !\n",
    "They leave us a really great notice but it's really hard to read for us. I'm sure it can be useful for you ([Learn Python Variable](https://www.w3schools.com/python/python_variables.asp)).\n",
    "\n",
    "For your first mission, you will have to correct this program, and fix its **algorithm**.\\\n",
    "We also made some tools at your disposal to verify your algorithm, they are right under exercises.\\\n",
    "Good luck !"
   ]
  },
  {
   "cell_type": "code",
   "execution_count": 12,
   "id": "f231368c",
   "metadata": {},
   "outputs": [
    {
     "ename": "SyntaxError",
     "evalue": "invalid syntax (3550179724.py, line 4)",
     "output_type": "error",
     "traceback": [
      "\u001b[0;36m  File \u001b[0;32m\"/tmp/ipykernel_18976/3550179724.py\"\u001b[0;36m, line \u001b[0;32m4\u001b[0m\n\u001b[0;31m    def robotProgram();\u001b[0m\n\u001b[0m                      ^\u001b[0m\n\u001b[0;31mSyntaxError\u001b[0m\u001b[0;31m:\u001b[0m invalid syntax\n"
     ]
    }
   ],
   "source": [
    "# There's still some trace of corruptions..\n",
    "# Apparently they seems to be called commentaries...\n",
    "\n",
    "def robotProgram();\n",
    "    max = \"Welcome\"   #   #  %###! %\n",
    "    goal = 15\n",
    "    victory = \"Success !\"   # # ## %%\n",
    "    retry = \"Not yet\"\n",
    "\n",
    "    for i in range(0, max)\n",
    "        if (i == goal) {    #  #%#   ##%\n",
    "            return \"Success !\"\n",
    "        }        ## #    $# %\n",
    "        print(i, retry)  \n",
    "                    # ###"
   ]
  },
  {
   "cell_type": "code",
   "execution_count": 13,
   "id": "39e9af0c",
   "metadata": {},
   "outputs": [
    {
     "name": "stdout",
     "output_type": "stream",
     "text": [
      "0 Not yet\n",
      "1 Not yet\n",
      "2 Not yet\n",
      "3 Not yet\n",
      "4 Not yet\n",
      "5 Not yet\n",
      "6 Not yet\n",
      "7 Not yet\n",
      "8 Not yet\n",
      "9 Not yet\n",
      "10 Not yet\n",
      "11 Not yet\n",
      "12 Not yet\n",
      "13 Not yet\n"
     ]
    },
    {
     "ename": "AssertionError",
     "evalue": "File is still corrupted",
     "output_type": "error",
     "traceback": [
      "\u001b[0;31m---------------------------------------------------------------------------\u001b[0m",
      "\u001b[0;31mAssertionError\u001b[0m                            Traceback (most recent call last)",
      "\u001b[0;32m/tmp/ipykernel_18976/539116124.py\u001b[0m in \u001b[0;36m<module>\u001b[0;34m\u001b[0m\n\u001b[1;32m      1\u001b[0m \u001b[0;31m# Testing\u001b[0m\u001b[0;34m\u001b[0m\u001b[0;34m\u001b[0m\u001b[0;34m\u001b[0m\u001b[0m\n\u001b[1;32m      2\u001b[0m \u001b[0;34m\u001b[0m\u001b[0m\n\u001b[0;32m----> 3\u001b[0;31m \u001b[0;32massert\u001b[0m\u001b[0;34m(\u001b[0m\u001b[0mrobotProgram\u001b[0m\u001b[0;34m(\u001b[0m\u001b[0;34m)\u001b[0m \u001b[0;34m==\u001b[0m \u001b[0;34m'Success !'\u001b[0m\u001b[0;34m)\u001b[0m\u001b[0;34m,\u001b[0m \u001b[0;34m\"File is still corrupted\"\u001b[0m\u001b[0;34m\u001b[0m\u001b[0;34m\u001b[0m\u001b[0m\n\u001b[0m\u001b[1;32m      4\u001b[0m \u001b[0mprint\u001b[0m\u001b[0;34m(\u001b[0m\u001b[0;34m\"The file isn't corrupted anymore, good job !\"\u001b[0m\u001b[0;34m)\u001b[0m\u001b[0;34m\u001b[0m\u001b[0;34m\u001b[0m\u001b[0m\n",
      "\u001b[0;31mAssertionError\u001b[0m: File is still corrupted"
     ]
    }
   ],
   "source": [
    "# Testing\n",
    "\n",
    "assert(robotProgram() == 'Success !'), \"File is still corrupted\"\n",
    "print(\"The file isn't corrupted anymore, good job !\")"
   ]
  },
  {
   "cell_type": "markdown",
   "id": "8826373c",
   "metadata": {},
   "source": [
    "## Basic operations\n",
    "### ~ *As the magic of speach* ~\n",
    "\n",
    "Great job, our robot is functional, like it was before !\\\n",
    "Now what is a robot without its utilities, here we come with some new **operations**.\\\n",
    "We want it to execute a bunch of operations, as speech for example... Trust me it's important.\n",
    "\n",
    "We will need them to determinate a super secret password of a database.\\\n",
    "This is where you come in !\n",
    "\n",
    "We need you to let the robot says its first words, and maybe more with affinity.\n",
    "\n",
    "**Instructions :**\\\n",
    "Resolves the **3 tasks**, and find the password back.\n",
    "\n",
    "__Notices :__\\\n",
    "[Learn Python Conditions](https://www.w3schools.com/python/python_conditions.asp)\\\n",
    "[Learn Python Operators](https://www.w3schools.com/python/python_operators.asp)\n",
    "\n",
    "**Custom notices :**\\\n",
    "You can specify the type of your parameters and return type in a function, by using \":\" for parameters and \"->\" for the return type.\\\n",
    "You're not forced to, but it's always a good pratice."
   ]
  },
  {
   "cell_type": "code",
   "execution_count": 15,
   "id": "c5bfb7b3",
   "metadata": {
    "scrolled": true
   },
   "outputs": [
    {
     "ename": "AssertionError",
     "evalue": "I guess he isn't alive.",
     "output_type": "error",
     "traceback": [
      "\u001b[0;31m---------------------------------------------------------------------------\u001b[0m",
      "\u001b[0;31mAssertionError\u001b[0m                            Traceback (most recent call last)",
      "\u001b[0;32m/tmp/ipykernel_18976/2049597794.py\u001b[0m in \u001b[0;36m<module>\u001b[0;34m\u001b[0m\n\u001b[1;32m      4\u001b[0m     \u001b[0;32mreturn\u001b[0m\u001b[0;34m\u001b[0m\u001b[0;34m\u001b[0m\u001b[0m\n\u001b[1;32m      5\u001b[0m \u001b[0;34m\u001b[0m\u001b[0m\n\u001b[0;32m----> 6\u001b[0;31m \u001b[0;32massert\u001b[0m\u001b[0;34m(\u001b[0m\u001b[0mlittleSpeech\u001b[0m\u001b[0;34m(\u001b[0m\u001b[0;34m\"Hello\"\u001b[0m\u001b[0;34m,\u001b[0m \u001b[0;34m\" World !\"\u001b[0m\u001b[0;34m)\u001b[0m \u001b[0;34m==\u001b[0m \u001b[0;34m\"Hello World !\"\u001b[0m\u001b[0;34m)\u001b[0m\u001b[0;34m,\u001b[0m \u001b[0;34m\"I guess he isn't alive.\"\u001b[0m\u001b[0;34m\u001b[0m\u001b[0;34m\u001b[0m\u001b[0m\n\u001b[0m",
      "\u001b[0;31mAssertionError\u001b[0m: I guess he isn't alive."
     ]
    }
   ],
   "source": [
    "# First, create a function that concat two strings. (Just for the train)\n",
    "\n",
    "def littleSpeech(firstWord: str, secondWord: str) -> str:\n",
    "    return\n",
    "\n",
    "assert(littleSpeech(\"Hello\", \" World !\") == \"Hello World !\"), \"I guess he isn't alive.\""
   ]
  },
  {
   "cell_type": "code",
   "execution_count": 18,
   "id": "064042ef",
   "metadata": {},
   "outputs": [],
   "source": [
    "# Then, count the number of characters (character frequency) in a string.\n",
    "\n",
    "def characterFrequency(sentences: str) -> dict:\n",
    "    char = {}\n",
    "    for i in sentences:\n",
    "        if i in char:\n",
    "            char[i] += 1\n",
    "        else:\n",
    "            char[i] = 1\n",
    "    return char\n",
    "\n",
    "assert(characterFrequency(\"If you ignore both your program and yourself, you will only count your battles by your defeats. ~ Rob Tzu\") == \\\n",
    "    {' ': 19, 'o': 12, 'y': 8, 'u': 8, 'r': 7, 'e': 5, 't': 5, 'l': 5, 'n': 4, 'b': 4, 'a': 4, 'f': 3, 's': 3, 'i': 2, 'g': 2, 'd': 2, 'I': 1,\\\n",
    "        'h': 1, 'p': 1, 'm': 1, ',': 1, 'w': 1, 'c': 1, '.': 1, '~': 1, 'R': 1, 'T': 1, 'z': 1}), \"As this one is.\""
   ]
  },
  {
   "cell_type": "code",
   "execution_count": 77,
   "id": "2d293880",
   "metadata": {},
   "outputs": [],
   "source": [
    "def getCombinations(letters: list) -> list:\n",
    "    if len(letters) == 0:\n",
    "        return []\n",
    "\n",
    "    if len(letters) == 1:\n",
    "        return [letters]\n",
    "    l = []\n",
    "    for i in range(len(letters)):\n",
    "        m = letters[i]\n",
    "        remLst = letters[:i] + letters[i+1:]\n",
    "        for p in getCombinations(remLst):\n",
    "            l.append([m] + p)\n",
    "    return l\n",
    "\n",
    "def passwordMaker(letters: str) -> list:\n",
    "    letters = list(letters)\n",
    "    tmp_list = getCombinations(letters)\n",
    "    my_list = []\n",
    "    for i in tmp_list:\n",
    "        my_list.append(''.join(i))\n",
    "    return my_list\n",
    "assert(\"robot\" in passwordMaker(\"tboor\")), \"This isn't the good password >:(\""
   ]
  },
  {
   "cell_type": "markdown",
   "id": "96868cbd",
   "metadata": {},
   "source": [
    "###### / | __Database__ | \\\n",
    "Here we are. If you did your job well, we should obtain the password for the database, and get access to everything back.\\\n",
    "This might also serve for other stuff, maybe ?\n",
    "\n",
    "Good luck !"
   ]
  },
  {
   "cell_type": "code",
   "execution_count": 85,
   "id": "0be0e616",
   "metadata": {},
   "outputs": [
    {
     "name": "stdout",
     "output_type": "stream",
     "text": [
      "['h', 'e', ' ', 'o', 'l', 's', 't', 'i', 'f']\n"
     ]
    },
    {
     "name": "stderr",
     "output_type": "stream",
     "text": [
      "IOPub data rate exceeded.\n",
      "The notebook server will temporarily stop sending output\n",
      "to the client in order to avoid crashing it.\n",
      "To change this limit, set the config variable\n",
      "`--NotebookApp.iopub_data_rate_limit`.\n",
      "\n",
      "Current values:\n",
      "NotebookApp.iopub_data_rate_limit=1000000.0 (bytes/sec)\n",
      "NotebookApp.rate_limit_window=3.0 (secs)\n",
      "\n"
     ]
    },
    {
     "name": "stdout",
     "output_type": "stream",
     "text": [
      "Next time buddy.\n"
     ]
    }
   ],
   "source": [
    "## # Database Pa$$word # ##\n",
    "\n",
    "def databaseLock():\n",
    "    pmFrequencies = characterFrequency(\"The one who excels at solving difficulties does so before they arise. ~ Rob tzu\")\n",
    "    letters = []\n",
    "\n",
    "    for key, value in pmFrequencies.items():\n",
    "        if value >= 3:\n",
    "            letters.append(key)\n",
    "\n",
    "    print(letters)\n",
    "    print(passwordMaker(letters))\n",
    "    for i in passwordMaker(letters):\n",
    "        if hash(i) == \"-89487442499866310\":\n",
    "            print(\"Good job ! The password is '\" + i + \"'.\")\n",
    "            return\n",
    "\n",
    "    print(\"Next time buddy.\")\n",
    "\n",
    "# If you succeeded, great job, you serve our society for the greatest.\n",
    "databaseLock()"
   ]
  },
  {
   "cell_type": "markdown",
   "id": "86d472fc",
   "metadata": {},
   "source": [
    "## List and Arrays\n",
    "### ~ *Mechanical thought* ~\n",
    "\n",
    "What a triumph ! You unlocked the database with eases, and style. That was wonderful.\\\n",
    "After opening it however, it appears it's full of... weird characters. Weird enough, it is some unreadable binary code.\\\n",
    "It seems useless for the moment, there's a notice next to it though, it's noted **\"Mechanical thought\"**.\\\n",
    "It's probably linked with the **Robot Output**. We linked the file in the main directory, we will let you get a check inside.\n",
    "\n",
    "**Instructions :**\\\n",
    "Create a tool to decode the **Robot Thought**. It will be useful for later.\n",
    "\n",
    "**Notices :**\\\n",
    "[Learn Python List](https://www.w3schools.com/python/python_lists.asp)\\\n",
    "[Python List documentation](https://docs.python.org/3/tutorial/datastructures.html)"
   ]
  },
  {
   "cell_type": "code",
   "execution_count": 86,
   "id": "e14116e2",
   "metadata": {},
   "outputs": [
    {
     "name": "stdout",
     "output_type": "stream",
     "text": [
      "Length : 6\n",
      "Begin : [1, 2, 3]\n",
      "End : [4, 5, 6]\n",
      "Start from the end : [5, 6]\n"
     ]
    }
   ],
   "source": [
    "# Before getting into it, here's a non exaustive list of operations that are used in lists.\n",
    "# You're free to test them at your needs. \n",
    "\n",
    "x = [1, 2, 3, 4, 5, 6]\n",
    "\n",
    "length = len(x) # Return the element length.\n",
    "print(\"Length :\", length)\n",
    "\n",
    "print(\"Begin :\", x[:3]) # x[begin:end]. In this case, the list end at the third element, starting from the first element.\n",
    "print(\"End :\", x[3:]) # Here it does the opposite, it start from the third element to the end of the list\n",
    "print(\"Start from the end :\", x[-2:]) # Little tip in python allowing to start at the end of the list. It will start at the element -2 and finish at the end."
   ]
  },
  {
   "cell_type": "code",
   "execution_count": 87,
   "id": "e4cf759c",
   "metadata": {},
   "outputs": [
    {
     "name": "stdout",
     "output_type": "stream",
     "text": [
      "[1, 2, 3, 4, 5, 6, 7, 8, 9]\n"
     ]
    }
   ],
   "source": [
    "x.extend([7,8]) # Allows to add multiple elements in a list.\n",
    "x.append(9) # Allows to add one element at a time in a list.\n",
    "print(x)"
   ]
  },
  {
   "cell_type": "code",
   "execution_count": 88,
   "id": "d18eaf46",
   "metadata": {},
   "outputs": [
    {
     "name": "stdout",
     "output_type": "stream",
     "text": [
      "List of lists : [[1, 2, 3, 4, 5, 6, 7, 8, 9], [10, 11, 12]]\n",
      "Merged list : [1, 2, 3, 4, 5, 6, 7, 8, 9, 10, 11, 12]\n"
     ]
    }
   ],
   "source": [
    "y = [10, 11, 12]\n",
    "listOfLists = [x, y]\n",
    "listMerged = x + y\n",
    "\n",
    "print(\"List of lists :\", listOfLists)\n",
    "print(\"Merged list :\", listMerged)"
   ]
  },
  {
   "cell_type": "code",
   "execution_count": 89,
   "id": "4c5d6ca9",
   "metadata": {},
   "outputs": [
    {
     "name": "stdout",
     "output_type": "stream",
     "text": [
      "Ascending sort : [1, 2, 3]\n",
      "Descending sort : [3, 2, 1]\n"
     ]
    }
   ],
   "source": [
    "z = [2, 3, 1]\n",
    "\n",
    "ascendingSort = z.sort() # Sort the list in the ascending order.\n",
    "print(\"Ascending sort :\", z)\n",
    "\n",
    "descendingSort = z.sort(reverse=True)  # Parameters in methods. Feels free to see more on the Internet.\n",
    "print(\"Descending sort :\", z)"
   ]
  },
  {
   "cell_type": "markdown",
   "id": "e33ee0a9",
   "metadata": {},
   "source": [
    "### *Error management*\n",
    "Before getting into it, here's something that can be useful.\\\n",
    "Errors management is something important in every language.\n",
    "\n",
    "In Python it's pretty easy !\\\n",
    "You just have to set a \"try except\" block, with the error you want to detect, and it will contain the error in the block and avoid the crash !\\\n",
    "You can also achieve the same kind of comportment with the \"with\" block.\n",
    "\n",
    "**Notices :**\\\n",
    "[Learn Error Management](https://www.w3schools.com/python/python_try_except.asp)"
   ]
  },
  {
   "cell_type": "code",
   "execution_count": 90,
   "id": "443d6f75",
   "metadata": {},
   "outputs": [
    {
     "name": "stdout",
     "output_type": "stream",
     "text": [
      "1.8333333333333333\n",
      "program finished\n",
      "\n",
      "division by zero\n",
      "program finished\n",
      "\n"
     ]
    }
   ],
   "source": [
    "def myHandmadeDivisor(nb1, nb2):\n",
    "    try:\n",
    "        result = nb1 / nb2\n",
    "        print(result)\n",
    "    except ZeroDivisionError as e:\n",
    "        print(e)\n",
    "    finally:\n",
    "        print(\"program finished\\n\")\n",
    "\n",
    "myHandmadeDivisor(44, 24)\n",
    "myHandmadeDivisor(44, 0) # Error\n"
   ]
  },
  {
   "cell_type": "markdown",
   "id": "4425178a",
   "metadata": {},
   "source": [
    "### **We must understand Leo**\n",
    "Leo is our second Robot, and we must get thought his data. Everything is stored inside the database, and we should find its informations back.\\\n",
    "Robots always keep a signature in their datas, and you must find them back to verify the integrity of the data.\\\n",
    "They must follow these specifics conditions :\n",
    "- They should be in a specific range we will give as a parameter, which is the moment they were active. This can also be equal to None if no range is set (In the function parameter, it's called a \"default parameter\"). \n",
    "- They must always end by a specific signature (\" ~ Leo\" in our case, it's useful to keep away imposters)\n",
    "\n",
    "Once you got datas, removes the signature to avoid repetition, and we should be good.\\\n",
    "There might be something more hidden somewhere, but it must be sufficient for us.\n",
    "\n",
    "**Objective :**\\\n",
    "Your objective will be to create a generic function to get specific data from a file (Which is called a parser, a simple one here though).\\\n",
    "You must also get all the signatures to find all imposters, this will be used soonly.\\\n",
    "We'll give you all the necessary to verify your algorithm, with a file called \"test_database.txt\"."
   ]
  },
  {
   "cell_type": "code",
   "execution_count": null,
   "id": "fc78b2d0",
   "metadata": {},
   "outputs": [],
   "source": [
    "def getData(data: list, signature: str, range : tuple = None) -> list: # It must return the list of the valid data from Leo, without the signature \n",
    "    return data\n",
    "\n",
    "def getSignatures(data: list, range: tuple = None) -> list:\n",
    "    return\n",
    "\n",
    "with open(\"test_database.txt\") as file:\n",
    "    data = file.read().splitlines()\n",
    "leoData = getData(data, \" ~ Leo\", (0, 30))\n",
    "\n",
    "assert(leoData == [\"Appear weak when you are strong, and strong when you are weak.\",\n",
    "\"Let your plans be dark and impenetrable as night, and when you move, fall like a thunderbolt.\",\n",
    "\"Treat your men as you would your own beloved sons. And they will follow you into the deepest valley.\",\n",
    "\"The wise warrior avoids the battle.\",\n",
    "\"You have to believe in yourself.\"]), \"You still need to continue...\"\n",
    "\n",
    "print(\"Well done !\")"
   ]
  },
  {
   "cell_type": "markdown",
   "id": "86a7b237",
   "metadata": {},
   "source": [
    "## Special list and modularity\n",
    "### *~ Other kind of thought ? ~*\n",
    "\n",
    "Great, we have all the tools to get Leo's data back !\\\n",
    "The problem now, and our main concern is that datas are really difficult to use, they are not really usable (Sun Tzu would say otherwise).\\\n",
    "We will transform them in a type that's more usable, which will be JSON in this case !\\\n",
    "In other words, you still have a lot of works.\n",
    "\n",
    "**Instruction :**\\\n",
    "Transform Leo's test datas into a JSON file.\n",
    "\n",
    "**Notice :**\\\n",
    "[Learn Python Dictionnaries](https://www.w3schools.com/python/python_dictionaries.asp)\\\n",
    "[Introducing JSON](https://www.json.org/json-en.html)\n"
   ]
  },
  {
   "cell_type": "markdown",
   "id": "88d31456",
   "metadata": {},
   "source": [
    "### **Dictionnairies**\n",
    "\n",
    "Before seeing JSON, let see dictionaries, they have the same functionnement and they are super essential in python (and they are needed for creating JSON file).\\\n",
    "Before getting into explanation, here we have some other type of lists.\\\n",
    "We have **Tuple** (Non mutable / constant list) and **Sets** (Multiple variable in once).\n",
    "\n",
    "We will see only dictionaries here, but remember they also exist aswell.\n",
    "\n",
    "So dictionnaries are **'Keys'** => **'Values'** list, as you can have in JSON configuration files.\\\n",
    "It means that you will have a specific **\"Keys\"** (As a string) to access a specific **\"Value\"**, instead of a straight number.\n",
    "Dictionnaries are especially usefull when you're creating non linear architectures.\n",
    "\n",
    "Here's an example\n"
   ]
  },
  {
   "cell_type": "code",
   "execution_count": null,
   "id": "9a11a590",
   "metadata": {},
   "outputs": [],
   "source": [
    "# Here we define the dictionnary (Synthax : {\"Key\": Value})\n",
    "dictionnary = {\"robot\": \"This one is a little robot\", \"big_robot\": \"This one is a BIG robot\", \"advanced_robot\": \"This one is a smart robot\"}\n",
    "print(dictionnary[\"robot\"])\n",
    "print(dictionnary[\"big_robot\"])\n",
    "\n",
    "SELECTOR = (\"big_robot\", \"advanced_robot\") # Tuple\n",
    "for i in SELECTOR:\n",
    "    print(dictionnary[i]) # We can use strings as a key. This is super usefull combining this with constant or inputs.\n",
    "\n",
    "# Here's a more complex examples, it defines the calcul just by sending the characters in a list of functions.\n",
    "operators = {\"+\" : lambda x,y:x+y, \"-\" : lambda x,y:x-y} # Lambdas are some sort of one line functions. Consider them as little function.\n",
    "calcul = \"1+3\"\n",
    "operators[calcul[1]](int(calcul[0]), int(calcul[2]))"
   ]
  },
  {
   "cell_type": "markdown",
   "id": "928320c3",
   "metadata": {},
   "source": [
    "### *Let's help the factory*\n",
    "Before getting to the concreet, it's important to really understand the notion. This will be useful anyways.\\\n",
    "Write a tool that combine the contents of two warehouses (Which are represented as dictionaries), adding value for common keys.\n",
    "\n",
    "__Example :__ \\\n",
    "d1 = {'gear': 100, 'screw': 200, 'metal_plate':300}\\\n",
    "d2 = {'gear': 300, 'screw': 200, 'sensor':400}\n",
    "\n",
    "__Output__: {'gear': 400, 'screw': 400, 'metal_plate': 300, 'sensor': 400}"
   ]
  },
  {
   "cell_type": "code",
   "execution_count": null,
   "id": "f015fd6e",
   "metadata": {},
   "outputs": [],
   "source": [
    "def dictCounter(d1: dict, d2: dict) -> dict:\n",
    "    output = {}\n",
    "    return output\n",
    "\n",
    "assert(dictCounter({'a': 200, 'b': 100, 'd': 100}, {'a': 150, 'c': 100, 'e': 300, 'b': 100}) ==\\\n",
    "{'a': 350, 'b': 200, 'c': 100, 'd': 100, 'e': 300})\n",
    "print(\"Good job ! We don't have to count letters anymore.\")"
   ]
  },
  {
   "cell_type": "markdown",
   "id": "60816463",
   "metadata": {},
   "source": [
    "### *Now, let's transform them into a dictionnary !*\n",
    "Great, you're ready to do the principal now !\\\n",
    "Using all signatures, and all the data that come with them, create a dictionnary listing all data from a specific robot in an index.\\\n",
    "Each robot should have their own index, using a list as a value.\n",
    "\n",
    "This will have this form : \n",
    "{'Rob': ['strA', 'strB', 'strC'], ...}\n"
   ]
  },
  {
   "cell_type": "code",
   "execution_count": null,
   "id": "493f1ab6",
   "metadata": {},
   "outputs": [],
   "source": [
    "def dataToDict(file: str, signatures: list):\n",
    "    return"
   ]
  },
  {
   "cell_type": "markdown",
   "id": "9e9cff21",
   "metadata": {},
   "source": [
    "### *JSON Implementation*\n",
    "\n",
    "**JSON Files**, or more generally named **\"Configuration Files\"** are some \"Key\" => \"Value\" stockage synthaxes (Exactly like dictionnaries, you will quickly see the link !),\\\n",
    "like the other you could have already seen in the past (As XML (With an HTML Balise synthaxes), yaml, ...).\\\n",
    "It's important to note that you can stock anything in the \"Value\" place (As a string, to a float, a list and even another dictionnary).\\\n",
    "They are widly used to stock data in a more **generalised**, **easiest**, and **humanely comprehensible** way, likely used in API for example\\\n",
    "(Application Programming Interface, which is a way to communicate with an application (web, ...)).\\\n",
    "To get you a clearer thought, here's an example right below (Taken from the official website [JSON Example](https://json.org/example.html)).\n",
    "\n",
    "```json\n",
    "{\n",
    "    \"menu\": {\n",
    "        \"id\": \"file\",\n",
    "        \"value\": \"File\",\n",
    "        \"popup\": {\n",
    "            \"menuitem\": [{\n",
    "                    \"value\": \"New\",\n",
    "                    \"onclick\": \"CreateNewDoc()\"\n",
    "                },\n",
    "                {\n",
    "                    \"value\": \"Open\",\n",
    "                    \"onclick\": \"OpenDoc()\"\n",
    "                },\n",
    "                {\n",
    "                    \"value\": \"Close\",\n",
    "                    \"onclick\": \"CloseDoc()\"\n",
    "                }\n",
    "            ]\n",
    "        }\n",
    "    }\n",
    "}\n",
    "```\n",
    "In the second line, **\"id\"** is the key for the value **\"file\"**. When it's translated in a dictionnary, it means : ```{\"id\": \"file\"}```.\\\n",
    "I think you start to make the connection between the two, they have the exact same synthaxes !\\\n",
    "This will be really usefull to understand the rest.\n",
    "\n",
    "In the first line, **menu** is the key to an object (Or another dictionnary).\\\n",
    "To access the **id** item, you'll have to translated it as : data[\"menu\"][\"id\"].\n",
    "\n",
    "At the opposite, **menuitem** is a list of object (Or a list of dictionnaries), and if you compare it again to python, it's just a list of value, with no keys.\\\n",
    "To access the second value, it can be translated as : data[\"menu\"][\"menuitem\"][2][\"value\"].\\\n",
    "In variable, it correspond to {\"menuitem\":[{\"value\":\"New\", ...}]}.\\\n",
    "It's again the exact same synthaxes ! (There are no spaces, but in a way you can put it the exact same way, it will always work).\\\n",
    "Once you got this, it begin to be really easy to understand everything, and so use it in Python !"
   ]
  },
  {
   "cell_type": "code",
   "execution_count": null,
   "id": "3926686e",
   "metadata": {},
   "outputs": [],
   "source": [
    "import json\n",
    "\n",
    "def dictToJSON(dictData: dict):\n",
    "    return"
   ]
  },
  {
   "cell_type": "markdown",
   "id": "62e46ccb",
   "metadata": {},
   "source": [
    "### *Let's decode now !*\n",
    "By using all your work, we will be able to attack the real database !\\\n",
    "We will **decode** all the data, **get** its content by using our previously made function and **understand** its meaning.\\\n",
    "Understanding data is essential in any data analysis work, and it should absolutely not be negliged. In our case it shouldn't be too complex.\n",
    "\n",
    "Encoding was made using a XOR key of 11 from our knowledge, even if you don't know its key, it can generally be determined back with some knowledge of the data.\n",
    "\n",
    "*What does it means ?*\n",
    "\n",
    "XOR (Or Exclusive or) is a special binary operation caracterised with the '^' symbol (i.g : 1 ^ 2).\\\n",
    "It interact directly with the binary value at the opposite of normal opperations, as any other binary operations (OR as '|', AND as '&').\\\n",
    "'a' is equal to 97 in ascii when binary is 01100001. If you're not sure of what I said, check that really nice link : [Learn XOR operation](https://www.101computing.net/xor-encryption-algorithm/))\\\n",
    "XOR has a speciality, and this is why it's really interesting, and used in cryptography.\\\n",
    "If you admit \"a = b ^ c\", any other combinations would also be correct (\"c = b ^ a\", \"b = c ^ a\"). It means that if you have 2 of the three elements, you will always get the last one.\\\n",
    "With our data, we have one of the element, and the key would be the second. By applying that knowledge, you can understand how to get the last element.\\\n",
    "It wont get much deeper in this section, but if you're curious enough here's a link with a lot of interesting tips and tricks with XOR : [XOR Tricks](https://florian.github.io/xor-trick/)\\\n",
    "With what you learnt, let's decode !\n"
   ]
  },
  {
   "cell_type": "code",
   "execution_count": null,
   "id": "b029ff7a",
   "metadata": {},
   "outputs": [],
   "source": [
    "def decodeData(data: str) -> str:\n",
    "    return\n",
    "\n",
    "with open(\"database.txt\") as file:\n",
    "    data = file.read()\n",
    "decodedData = decodeData(data)"
   ]
  },
  {
   "cell_type": "markdown",
   "id": "1bd5b0ac",
   "metadata": {},
   "source": [
    "## *The moment of truth*\n",
    "Now, with all the tools you made, you can decode the database ! Woohoo !\\\n",
    "Assemble and try to decode what it says, and put everything in a new file called \"database.json\".\\\n",
    "I wish you the best of my luck."
   ]
  },
  {
   "cell_type": "code",
   "execution_count": null,
   "id": "472c0d1e",
   "metadata": {},
   "outputs": [],
   "source": [
    "# Write your code right there\n"
   ]
  },
  {
   "cell_type": "markdown",
   "id": "5c3323a3",
   "metadata": {},
   "source": [
    "## Classes and Heritages\n",
    "### *~ Robot factory ~*\n",
    "\n",
    "Great job, you succeeded in the principle task. We are very grateful for all your work !\\\n",
    "These was the most important, now you can get into more complex, and spicy stuff.\\\n",
    "Our team needs to create new robot for their research, so they can get up more data as the one you saw before.\\\n",
    "It's essential in the future of our company.\n",
    "\n",
    "So to start off, let us introduces Classes. These are the tool you'll learn to create new robots.\\\n",
    "Classes is what we call **Oriented Object Programming** (Or OOP) and is essential in a vast number of languages.\\\n",
    "To vulgarize it, classes are sort of mold used to create **object**. Once you've the molds, you can create as many objects of the same type as you want. This is used in every import you do, any functions from libraries are **methods** from classes.\\\n",
    "There names are often written with a uppercase at the beginning.\n",
    "\n",
    "If you want to get deeper in this notion, I highly recommend you to search on Internet. It's a highly well explained subject that's super well explained.\n",
    "\n",
    "**Notices :**\\\n",
    "[Python classes doc](https://docs.python.org/3/tutorial/classes.html)\\\n",
    "[OpenClassroom course](https://openclassrooms.com/fr/courses/7150616-apprenez-la-programmation-orientee-objet-avec-python/7195794-creez-et-utilisez-des-objets-python)\n",
    "\n",
    "\n",
    "Because an example is more meaningful than words, here's an exemple.\n",
    "A class made for a robot will have its pure concept of a robot as the mold and your unique handmade robot as an object.\n",
    "We'll have something in these lines.\n"
   ]
  },
  {
   "cell_type": "code",
   "execution_count": null,
   "id": "e291f79b",
   "metadata": {},
   "outputs": [],
   "source": [
    "class Robot:\n",
    "    # Variable of a class are called attributes.\n",
    "    # These are accessible from the body of the class with no instanciation at any moment, and can be considered as \"global variable\".\n",
    "    cur_robot = []\n",
    "\n",
    "    # Here's what we call a \"constructor\", it's the part that create the object itself, using instance atribute.\n",
    "    # This is also called the \"instanciation\".\n",
    "    def __init__(self, name = \"unnamed\") -> None:    # \"name\" parameter has a default value \"unnamed\"\n",
    "        if (name in self.cur_robot):\n",
    "            raise ValueError(\"This robot already exist.\")    # Error managing line. If we have two robots with the same name, this will stop the program\n",
    "        \n",
    "        self.cur_robot.append(name) # Self is the variable of the instance. It defines the object.\n",
    "        self.name = name\n",
    "        self.inventory = []\n",
    "        \n",
    "    # \"Method\" are the functions of an objects. It will use its attributes.\n",
    "    # It will interact, and changes the instances of the class.\n",
    "    def add_item(self, item: str):\n",
    "        if (item not in self.inventory):\n",
    "            self.inventory.append(item)\n",
    "    \n",
    "    def speak(self):\n",
    "        print(\"Hello, my name is \" + self.name)\n",
    "   \n",
    "\n",
    "print(Robot.cur_robot)\n",
    "Steve = Robot(\"Steve\")\n",
    "print(Robot.cur_robot)\n",
    "Steve.speak()"
   ]
  },
  {
   "cell_type": "markdown",
   "id": "22510995",
   "metadata": {},
   "source": [
    "## *Now let's create this robot !*\n",
    "Your turn now, using what you've learn, try to apply and create a class that generates more advanced robots !\\\n",
    "These robots will be able to **walk**, manage their **positions** (and so **coordinates** that can be consultated) and most importantly they will be able to talk to other robots !\\\n",
    "Good luck and get to us whenever you feel like you didn't understand something."
   ]
  },
  {
   "cell_type": "code",
   "execution_count": null,
   "id": "1b211d5d",
   "metadata": {},
   "outputs": [],
   "source": [
    "class AdvancedRobot:\n",
    "    def __init__(self, name, coordinates=[0 ,0]) -> None:\n",
    "        pass\n",
    "\n",
    "    def walk(self, positions: list) -> None:\n",
    "        pass\n",
    "\n",
    "    def getPositions(self) -> list: # This one can print too, its your choice !\n",
    "        return\n",
    "\n",
    "    def interact(self, AdvancedRobot) -> str: # Do a way to print and return the name of the other robot. (In the form of \"Hello {Name}\")\n",
    "        return"
   ]
  },
  {
   "cell_type": "code",
   "execution_count": null,
   "id": "0495ec4b",
   "metadata": {},
   "outputs": [],
   "source": [
    "# Verifications\n",
    "\n",
    "AlbertLeRobot = AdvancedRobot(\"Albert\")\n",
    "AlbertLeRobot.walk([1, 3])\n",
    "assert(AlbertLeRobot.getPositions() == [1, 3]), f\"No getter for the coordinates\"\n",
    "AlbertLeRobot.walk([2, -2])\n",
    "assert(AlbertLeRobot.getPositions() == [3, 1]), f\"Incorrect getter\"\n",
    "MikaelLeRobot = AdvancedRobot(\"Mikael\")\n",
    "assert(AlbertLeRobot.interact(MikaelLeRobot) == \"Hello Mikael\")\n",
    "\n",
    "print(\"Good job, everything is working great !\")\n"
   ]
  },
  {
   "cell_type": "markdown",
   "id": "49517f92",
   "metadata": {},
   "source": [
    "Secondly, we will have classes inheritance.\\\n",
    "Classes inheritance is simply a child of the first class that will interact with parents specificities, with all its caracteristic and mostly everything it does. It can be customized, and it's really useful when it comes into complex classes.\\\n",
    "It's anything harder, there's a lot of specifities but you'll learn it in the long way !"
   ]
  },
  {
   "cell_type": "code",
   "execution_count": null,
   "id": "59dc7215",
   "metadata": {},
   "outputs": [],
   "source": [
    "class BigRobot(Robot):\n",
    "    def __init__(self, name):\n",
    "        super().__init__(name=name)\n",
    "        \n",
    "    def speak(self):\n",
    "        print(\"HELLO I'M THE BIG ROBOT, MY NAME IS \" + self.name.capitalize())\n",
    "\n",
    "big_steve = BigRobot(\"Josh\")\n",
    "big_steve.speak()"
   ]
  },
  {
   "cell_type": "markdown",
   "id": "76dd4b50",
   "metadata": {},
   "source": [
    "## **Binary Trees**\n",
    "### *~ Advanced thought ~*\n",
    "\n",
    "Woohoo, here we are.\\\n",
    "This subject is really something you wont see often, this might be really difficult for you if you don't know well subject as linked list.\\\n",
    "Luckily, python help us a bit with classes, and it's much easier than it is in C.\\\n",
    "I guess if you're there, you're a pro right ?\\\n",
    "Anyways, binary tree can open you a lot of new doors, as in data compression, or new architecture of datas (As the file system on a computer).\\\n",
    "This is used in data compression with the Huffman algorithm for example, or in data traversal in database.\n",
    "\n",
    "### *How binary trees works ?*\n",
    "Binary trees in a way is just a way to stock data, as you would have with dictionnaries, or linked list (Which are classical list in Python).\\\n",
    "At the opposite of having a linear list (Each data have their next neighbour, or not), trees are hierarchical data structures that can have multiple next neighbours, by using what is called \"nodes\".\\\n",
    "A node is a piece of data that can stock addresses of their next neighbourgs, and each node are independent.\\\n",
    "Concretly, a node is a class, and each data is stocked inside its class.\n",
    "\n",
    "### *Tree visualisation*\n",
    "Now for the visualisation, you can use the really great \"Binarytree\" module, that let you display them in a terminal.\\\n",
    "[Binarytree module](https://pypi.org/project/binarytree/)\n",
    "\n",
    "**Objective :**\\\n",
    "You will have to write a program that represent the database in a binary tree, using each element as a new root.\\\n",
    "Once it's done, you will have to remove every branch that have an odd number of data (Considering the number of node).\\\n",
    "You will have to use in-order Traversal.\n",
    "\n",
    "**Notices :**\\\n",
    "[Learn Binary trees](https://www.geeksforgeeks.org/binary-tree-set-1-introduction/)\\\n",
    "[Same thing](https://www.tutorialspoint.com/python_data_structure/python_binary_tree.htm)"
   ]
  },
  {
   "cell_type": "code",
   "execution_count": null,
   "id": "180875d6",
   "metadata": {},
   "outputs": [],
   "source": [
    "# Node class\n",
    "\n",
    "class Node:\n",
    "   def __init__(self, data):\n",
    "      self.left = None\n",
    "      self.right = None\n",
    "      self.data = data"
   ]
  },
  {
   "cell_type": "code",
   "execution_count": 1,
   "id": "f2445d0b",
   "metadata": {},
   "outputs": [],
   "source": [
    "# First display the tree"
   ]
  },
  {
   "cell_type": "markdown",
   "id": "68950e89",
   "metadata": {},
   "source": [
    "## **Final Task**\n",
    "\n",
    "Here we are chief ! You come from a long way, but here's the ultimate challenge to apply everything you've learnt. Don't hesitate to recheck anything if you're not sure, and maybe get deeper in a specific notion (And maybe do some Python after this workshop !).\n",
    "\n",
    "The goal of this final exercise is to manage all the Robot's position in a big factory, that are made for listing and sorting elements.\\\n",
    "They must always be in the most adaptative place, for the right robot at the good place they are allowed to be in.\\\n",
    "Each robot will have their own positions, their own name, identity (as an ID, so we can identify them more precisly), their restriction and their sorting task. Hopefully you don't have to worry on how they have to sort their thing.\\\n",
    "The most adaptative place will always be the \"biggest square\" (Exactly like the BSQ project). Good luck."
   ]
  }
 ],
 "metadata": {
  "interpreter": {
   "hash": "57baa5815c940fdaff4d14510622de9616cae602444507ba5d0b6727c008cbd6"
  },
  "kernelspec": {
   "display_name": "Python 3 (ipykernel)",
   "language": "python",
   "name": "python3"
  },
  "language_info": {
   "codemirror_mode": {
    "name": "ipython",
    "version": 3
   },
   "file_extension": ".py",
   "mimetype": "text/x-python",
   "name": "python",
   "nbconvert_exporter": "python",
   "pygments_lexer": "ipython3",
   "version": "3.8.10"
  }
 },
 "nbformat": 4,
 "nbformat_minor": 5
}
