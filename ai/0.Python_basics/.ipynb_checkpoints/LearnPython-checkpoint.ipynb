{
 "cells": [
  {
   "cell_type": "markdown",
   "source": [
    "# Learn Python Basics"
   ],
   "metadata": {}
  },
  {
   "cell_type": "markdown",
   "source": [
    "## Welcome !\n",
    "This workshop was made to help you discover **Python Basic** and some advanced stuff that could be useful in your cursus.\\\n",
    "It's entirely interactive using Jupyter Notebook, so don't hesitate to do some tests on your own.\n",
    "\n",
    "> This workshop is mostly destinated to people who have never touched Python in depth, with some little code knowledge. We will cover easy and hard stuff, so good luck if you're new there !\n",
    "\n",
    "Its purpose will be to expand and improve the capacity of our little robot, and maybe even get to its final form.\\\n",
    "I hope you guys are ready, you'll have a lot of work to get throught !\\\n",
    "Throughout this workshop, you will learn a lot of new stuff so don’t forget to take notes and don’t be shy, the supervising staff is here to answer all your questions.\n",
    "\n",
    "I hope you're ready. Let’s go!"
   ],
   "metadata": {}
  },
  {
   "cell_type": "markdown",
   "source": [
    "## What is Python exactly ?\n",
    "To start of, **Python** is an interpreted high-level programming language that's focused on its readability and its simple synthax, which facilitates a lot collaborations.\\\n",
    "It allows non programmers to translate their research works into a working result.\\\n",
    "It's widly used in the research domains and the world of mathematics, mostly by Data Scientists and Researcher in a lot of domains."
   ],
   "metadata": {}
  },
  {
   "cell_type": "markdown",
   "source": [
    "## Python Synthax\n",
    "### ~ *Lost in space* ~\n",
    "\n",
    "Houston, we have a problem !\n",
    "\n",
    "We sent a file to our **Robot** in space and it got corrupted, it's now full of incorrect synthaxes !\\\n",
    "We need your help !\n",
    "They leave us a really great notice but it's really hard to read for us. I'm sure it can be useful for you ([Learn Python Variable](https://www.w3schools.com/python/python_variables.asp)).\n",
    "\n",
    "For your first mission, you will have to correct this program, and fix its **algorithm**.\\\n",
    "We also made some tools at your disposal to verify your algorithm, they are right under exercises.\\\n",
    "Good luck !"
   ],
   "metadata": {}
  },
  {
   "cell_type": "code",
   "execution_count": null,
   "source": [
    "# There's still some trace of corruptions..\r\n",
    "# Apparently they seems to be called commentaries...\r\n",
    "\r\n",
    "def robotProgram();\r\n",
    "    max = \"Welcome\"   #   #  %###! %\r\n",
    "    goal = 15\r\n",
    "    victory = \"Success !\"   # # ## %%\r\n",
    "    retry = \"Not yet\"\r\n",
    "\r\n",
    "    for i in range(0, max)\r\n",
    "        if (i == goal) {    #  #%#   ##%\r\n",
    "            return \"Success !\"\r\n",
    "        }        ## #    $# %\r\n",
    "        print(i, retry)  \r\n",
    "                    # ###"
   ],
   "outputs": [],
   "metadata": {}
  },
  {
   "cell_type": "code",
   "execution_count": null,
   "source": [
    "# Testing\r\n",
    "\r\n",
    "assert(robotProgram() == 'Success !'), \"File is still corrupted\"\r\n",
    "print(\"The file isn't corrupted anymore, good job !\")"
   ],
   "outputs": [],
   "metadata": {}
  },
  {
   "cell_type": "markdown",
   "source": [
    "## Basic operations\n",
    "### ~ *As the magic of speach* ~\n",
    "\n",
    "Great job, our robot is functional, like it was before !\\\n",
    "Now what is a robot without its utilities, here we come with some new **operations**.\\\n",
    "We want it to execute a bunch of operations, as speech for example... Trust me it's important.\n",
    "\n",
    "We will need them to determinate a super secret password of a database.\\\n",
    "This is where you come in !\n",
    "\n",
    "We need you to let the robot says its first words, and maybe more with affinity.\n",
    "\n",
    "**Instructions :**\\\n",
    "Resolves the **3 tasks**, and find the password back.\n",
    "\n",
    "__Notices :__\\\n",
    "[Learn Python Conditions](https://www.w3schools.com/python/python_conditions.asp)\\\n",
    "[Learn Python Operators](https://www.w3schools.com/python/python_operators.asp)\n",
    "\n",
    "**Custom notices :**\\\n",
    "You can specify the type of your parameters and return type in a function, by using \":\" for parameters and \"->\" for the return type.\\\n",
    "You're not forced to, but it's always a good pratice."
   ],
   "metadata": {}
  },
  {
   "cell_type": "code",
   "execution_count": null,
   "source": [
    "# First, create a function that concat two strings. (Just for the train)\r\n",
    "\r\n",
    "def littleSpeech(firstWord: str, secondWord: str) -> str:\r\n",
    "    return\r\n",
    "\r\n",
    "assert(littleSpeech(\"Hello\", \" World !\") == \"Hello World !\"), \"I guess he isn't alive.\""
   ],
   "outputs": [],
   "metadata": {
    "scrolled": true
   }
  },
  {
   "cell_type": "code",
   "execution_count": null,
   "source": [
    "# Then, count the number of characters (character frequency) in a string.\r\n",
    "\r\n",
    "def characterFrequency(sentences: str) -> dict:\r\n",
    "    char = {}\r\n",
    "    for i in sentences:\r\n",
    "        if i in char:\r\n",
    "            char[i] += 1\r\n",
    "        else:\r\n",
    "            char[i] = 1\r\n",
    "    return char\r\n",
    "\r\n",
    "assert(characterFrequency(\"If you ignore both your program and yourself, you will only count your battles by your defeats. ~ Rob Tzu\") == \\\r\n",
    "    {' ': 19, 'o': 12, 'y': 8, 'u': 8, 'r': 7, 'e': 5, 't': 5, 'l': 5, 'n': 4, 'b': 4, 'a': 4, 'f': 3, 's': 3, 'i': 2, 'g': 2, 'd': 2, 'I': 1,\\\r\n",
    "        'h': 1, 'p': 1, 'm': 1, ',': 1, 'w': 1, 'c': 1, '.': 1, '~': 1, 'R': 1, 'T': 1, 'z': 1}), \"As this one is.\""
   ],
   "outputs": [],
   "metadata": {}
  },
  {
   "cell_type": "code",
   "execution_count": null,
   "source": [
    "def getCombinations(letters: list) -> list:\r\n",
    "    if len(letters) == 0:\r\n",
    "        return []\r\n",
    "\r\n",
    "    if len(letters) == 1:\r\n",
    "        return [letters]\r\n",
    "    l = []\r\n",
    "    for i in range(len(letters)):\r\n",
    "        m = letters[i]\r\n",
    "        remLst = letters[:i] + letters[i+1:]\r\n",
    "        for p in getCombinations(remLst):\r\n",
    "            l.append([m] + p)\r\n",
    "    return l\r\n",
    "\r\n",
    "def passwordMaker(letters: str) -> list:\r\n",
    "    letters = list(letters)\r\n",
    "    tmp_list = getCombinations(letters)\r\n",
    "    my_list = []\r\n",
    "    for i in tmp_list:\r\n",
    "        my_list.append(''.join(i))\r\n",
    "    return my_list\r\n",
    "assert(\"robot\" in passwordMaker(\"tboor\")), \"This isn't the good password >:(\""
   ],
   "outputs": [],
   "metadata": {}
  },
  {
   "cell_type": "markdown",
   "source": [
    "###### / | __Database__ | \\\r\n",
    "Here we are. If you did your job well, we should obtain the password for the database, and get access to everything back.\\\r\n",
    "This might also serve for other stuff, maybe ?\r\n",
    "\r\n",
    "Good luck !"
   ],
   "metadata": {}
  },
  {
   "cell_type": "code",
   "execution_count": null,
   "source": [
    "## # Database Pa$$word # ##\r\n",
    "from hashlib import blake2b\r\n",
    "\r\n",
    "def databaseLock():\r\n",
    "    pmFrequencies = characterFrequency(\"The one who excels at solving difficulties does so before they arise. ~ Rob tzu\")\r\n",
    "    letters = []\r\n",
    "\r\n",
    "    for key, value in pmFrequencies.items():\r\n",
    "        if value >= 4:\r\n",
    "            letters.append(key)\r\n",
    "\r\n",
    "    for i in passwordMaker(letters):\r\n",
    "        if blake2b(i.encode('UTF-8')).hexdigest() == \"78f1ce059586050456dfcdb88a5da760b39ad9a06f24c9bc7268830d67b9a4b65b55bd0b5ace4e8636f1de59cbb58b1fb8989fb044ba4fa4d5cd325cf5e0d7fd\":\r\n",
    "            print(\"Good job ! The password is '\" + i + \"'.\")\r\n",
    "            return\r\n",
    "\r\n",
    "    print(\"Next time buddy.\")\r\n",
    "\r\n",
    "# If you succeeded, great job, you serve our society for the greatest.\r\n",
    "databaseLock()"
   ],
   "outputs": [],
   "metadata": {}
  },
  {
   "cell_type": "markdown",
   "source": [
    "## List and Arrays\n",
    "### ~ *Mechanical thought* ~\n",
    "\n",
    "What a triumph ! You unlocked the database with eases, and style. That was wonderful.\\\n",
    "After opening it however, it appears it's full of... weird characters. Weird enough, it is some unreadable binary code.\\\n",
    "It seems useless for the moment, there's a notice next to it though, it's noted **\"Mechanical thought\"**.\\\n",
    "It's probably linked with the **Robot Output**. We linked the file in the main directory, we will let you get a check inside.\n",
    "\n",
    "**Instructions :**\\\n",
    "Create a tool to decode the **Robot Thought**. It will be useful for later.\n",
    "\n",
    "**Notices :**\\\n",
    "[Learn Python List](https://www.w3schools.com/python/python_lists.asp)\\\n",
    "[Python List documentation](https://docs.python.org/3/tutorial/datastructures.html)"
   ],
   "metadata": {}
  },
  {
   "cell_type": "code",
   "execution_count": null,
   "source": [
    "# Before getting into it, here's a non exaustive list of operations that are used in lists.\r\n",
    "# You're free to test them at your needs. \r\n",
    "\r\n",
    "x = [1, 2, 3, 4, 5, 6]\r\n",
    "\r\n",
    "length = len(x) # Return the element length.\r\n",
    "print(\"Length :\", length)\r\n",
    "\r\n",
    "print(\"Begin :\", x[:3]) # x[begin:end]. In this case, the list end at the third element, starting from the first element.\r\n",
    "print(\"End :\", x[3:]) # Here it does the opposite, it start from the third element to the end of the list\r\n",
    "print(\"Start from the end :\", x[-2:]) # Little tip in python allowing to start at the end of the list. It will start at the element -2 and finish at the end."
   ],
   "outputs": [],
   "metadata": {}
  },
  {
   "cell_type": "code",
   "execution_count": null,
   "source": [
    "x.extend([7,8]) # Allows to add multiple elements in a list.\r\n",
    "x.append(9) # Allows to add one element at a time in a list.\r\n",
    "print(x)"
   ],
   "outputs": [],
   "metadata": {}
  },
  {
   "cell_type": "code",
   "execution_count": null,
   "source": [
    "y = [10, 11, 12]\r\n",
    "listOfLists = [x, y]\r\n",
    "listMerged = x + y\r\n",
    "\r\n",
    "print(\"List of lists :\", listOfLists)\r\n",
    "print(\"Merged list :\", listMerged)"
   ],
   "outputs": [],
   "metadata": {}
  },
  {
   "cell_type": "code",
   "execution_count": null,
   "source": [
    "z = [2, 3, 1]\r\n",
    "\r\n",
    "ascendingSort = z.sort() # Sort the list in the ascending order.\r\n",
    "print(\"Ascending sort :\", z)\r\n",
    "\r\n",
    "descendingSort = z.sort(reverse=True)  # Parameters in methods. Feels free to see more on the Internet.\r\n",
    "print(\"Descending sort :\", z)"
   ],
   "outputs": [],
   "metadata": {}
  },
  {
   "cell_type": "markdown",
   "source": [
    "### *Error management*\n",
    "Before getting into it, here's something that can be useful.\\\n",
    "Errors management is something important in every language.\n",
    "\n",
    "In Python it's pretty easy !\\\n",
    "You just have to set a \"try except\" block, with the error you want to detect, and it will contain the error in the block and avoid the crash !\\\n",
    "You can also achieve the same kind of comportment with the \"with\" block.\n",
    "\n",
    "**Notices :**\\\n",
    "[Learn Error Management](https://www.w3schools.com/python/python_try_except.asp)"
   ],
   "metadata": {}
  },
  {
   "cell_type": "code",
   "execution_count": null,
   "source": [
    "def myHandmadeDivisor(nb1, nb2):\r\n",
    "    try:\r\n",
    "        result = nb1 / nb2\r\n",
    "        print(result)\r\n",
    "    except ZeroDivisionError as e:\r\n",
    "        print(e)\r\n",
    "    finally:\r\n",
    "        print(\"program finished\\n\")\r\n",
    "\r\n",
    "myHandmadeDivisor(44, 24)\r\n",
    "myHandmadeDivisor(44, 0) # Error\r\n"
   ],
   "outputs": [],
   "metadata": {}
  },
  {
   "cell_type": "markdown",
   "source": [
    "### **We must understand Leo**\n",
    "Leo is our second Robot, and we must get thought his data. Everything is stored inside the database, and we should find its informations back.\\\n",
    "Robots always keep a signature in their datas, and you must find them back to verify the integrity of the data.\\\n",
    "They must follow these specifics conditions :\n",
    "- They should be in a specific range we will give as a parameter, which is the moment they were active. This can also be equal to None if no range is set (In the function parameter, it's called a \"default parameter\"). \n",
    "- They must always end by a specific signature (\" ~ Leo\" in our case, it's useful to keep away imposters)\n",
    "\n",
    "Once you got datas, removes the signature to avoid repetition, and we should be good.\\\n",
    "There might be something more hidden somewhere, but it must be sufficient for us.\n",
    "\n",
    "**Objective :**\\\n",
    "Your objective will be to create a generic function to get specific data from a file (Which is called a parser, a simple one here though).\\\n",
    "You must also get all the signatures to find all imposters, this will be used soonly.\\\n",
    "We'll give you all the necessary to verify your algorithm, with a file called \"test_database.txt\"."
   ],
   "metadata": {}
  },
  {
   "cell_type": "code",
   "execution_count": null,
   "source": [
    "def getData(data: list, signature: str, range : tuple = None) -> list: # It must return the list of the valid data from Leo, without the signature\r\n",
    "    new_data = []\r\n",
    "    for i in data:\r\n",
    "        current = i.split(\"\\\"\")\r\n",
    "        if (current[2] == \" ~ Leo\"):\r\n",
    "            new_data.append(i.split(\"\\\"\")[1])\r\n",
    "    return new_data\r\n",
    "\r\n",
    "def getSignatures(data: list, range: tuple = None) -> list:\r\n",
    "    signatures = []\r\n",
    "    for i in data: \r\n",
    "        signatures.append(i.split(\"\\\"\")[2])\r\n",
    "    return signatures\r\n",
    "\r\n",
    "with open(\"../test_database.txt\") as file:\r\n",
    "    file_content = file.read().splitlines()\r\n",
    "leoData = getData(file_content, \" ~ Leo\", (0, 30))\r\n",
    "\r\n",
    "assert(leoData == [\"Appear weak when you are strong, and strong when you are weak.\",\r\n",
    "\"Let your plans be dark and impenetrable as night, and when you move, fall like a thunderbolt.\",\r\n",
    "\"Treat your men as you would your own beloved sons. And they will follow you into the deepest valley.\",\r\n",
    "\"The wise warrior avoids the battle.\",\r\n",
    "\"You have to believe in yourself.\"]), \"You still need to continue...\"\r\n",
    "\r\n",
    "print(\"Well done !\")"
   ],
   "outputs": [],
   "metadata": {}
  },
  {
   "cell_type": "markdown",
   "source": [
    "## Special list and modularity\r\n",
    "### *~ Other kind of thought ? ~*\r\n",
    "\r\n",
    "Great, we have all the tools to get Leo's data back !\\\r\n",
    "The problem now, and our main concern is that datas are really difficult to use, they are not really usable (Sun Tzu would say otherwise).\\\r\n",
    "We will transform them in a type that's more usable, which will be JSON in this case !\\\r\n",
    "In other words, you still have a lot of works.\\\r\n",
    "We will transform Leo's test datas into a JSON file.\r\n",
    "\r\n",
    "**Notice :**\\\r\n",
    "[Learn Python Dictionnaries](https://www.w3schools.com/python/python_dictionaries.asp)\\\r\n",
    "[Introducing JSON](https://www.json.org/json-en.html)\r\n"
   ],
   "metadata": {}
  },
  {
   "cell_type": "markdown",
   "source": [
    "### **Dictionnairies**\n",
    "\n",
    "Before seeing JSON, let see dictionaries, they have the same functionnement and they are super essential in python (and they are needed for creating JSON file).\\\n",
    "Before getting into explanation, here we have some other type of lists.\\\n",
    "We have **Tuple** (Non mutable / constant list) and **Sets** (Multiple variable in once).\n",
    "\n",
    "We will see only dictionaries here, but remember they also exist aswell.\n",
    "\n",
    "So dictionnaries are **'Keys'** => **'Values'** list, as you can have in JSON configuration files.\\\n",
    "It means that you will have a specific **\"Keys\"** (As a string) to access a specific **\"Value\"**, instead of a straight number.\n",
    "Dictionnaries are especially usefull when you're creating non linear architectures.\n",
    "\n",
    "Here's an example\n"
   ],
   "metadata": {}
  },
  {
   "cell_type": "code",
   "execution_count": null,
   "source": [
    "# Here we define the dictionnary (Synthax : {\"Key\": Value})\r\n",
    "dictionnary = {\"robot\": \"This one is a little robot\", \"big_robot\": \"This one is a BIG robot\", \"advanced_robot\": \"This one is a smart robot\"}\r\n",
    "print(dictionnary[\"robot\"])\r\n",
    "print(dictionnary[\"big_robot\"])\r\n",
    "\r\n",
    "SELECTOR = (\"big_robot\", \"advanced_robot\") # Tuple\r\n",
    "for i in SELECTOR:\r\n",
    "    print(dictionnary[i]) # We can use strings as a key. This is super usefull combining this with constant or inputs.\r\n",
    "\r\n",
    "# Here's a more complex examples, it defines the calcul just by sending the characters in a list of functions.\r\n",
    "operators = {\"+\" : lambda x,y:x+y, \"-\" : lambda x,y:x-y} # Lambdas are some sort of one line functions. Consider them as little function.\r\n",
    "calcul = \"1+3\"\r\n",
    "operators[calcul[1]](int(calcul[0]), int(calcul[2]))"
   ],
   "outputs": [],
   "metadata": {}
  },
  {
   "cell_type": "markdown",
   "source": [
    "### *Let's help the factory*\n",
    "Before getting to the concreet, it's important to really understand the notion. This will be useful anyways.\\\n",
    "Write a tool that combine the contents of two warehouses (Which are represented as dictionaries), adding value for common keys.\n",
    "\n",
    "__Example :__ \\\n",
    "d1 = {'gear': 100, 'screw': 200, 'metal_plate':300}\\\n",
    "d2 = {'gear': 300, 'screw': 200, 'sensor':400}\n",
    "\n",
    "__Output__: {'gear': 400, 'screw': 400, 'metal_plate': 300, 'sensor': 400}"
   ],
   "metadata": {}
  },
  {
   "cell_type": "code",
   "execution_count": null,
   "source": [
    "def dictCounter(d1: dict, d2: dict) -> dict:\r\n",
    "    output = {}\r\n",
    "    return output\r\n",
    "\r\n",
    "assert(dictCounter({'a': 200, 'b': 100, 'd': 100}, {'a': 150, 'c': 100, 'e': 300, 'b': 100}) ==\\\r\n",
    "{'a': 350, 'b': 200, 'c': 100, 'd': 100, 'e': 300})\r\n",
    "print(\"Good job ! We don't have to count letters anymore.\")"
   ],
   "outputs": [],
   "metadata": {}
  },
  {
   "cell_type": "markdown",
   "source": [
    "### *Now, let's transform them into a dictionnary !*\n",
    "Great, you're ready to do the principal now !\\\n",
    "Using all signatures, and all the data that come with them, create a dictionnary listing all data from a specific robot in an index.\\\n",
    "Each robot should have their own index, using a list as a value.\n",
    "\n",
    "This will have this form : \n",
    "{'Rob': ['strA', 'strB', 'strC'], ...}\n"
   ],
   "metadata": {}
  },
  {
   "cell_type": "code",
   "execution_count": 78,
   "source": [
    "def dataToDict(file: str, signatures: list):\r\n",
    "    dictionnary = {}\r\n",
    "    for i in signatures:\r\n",
    "        dictionnary[i.split(' ')[2]] = getData(file, i)\r\n",
    "    return dictionnary\r\n",
    "\r\n",
    "signatures = getSignatures(file_content)\r\n",
    "assert(dataToDict(file_content, signatures)[\"Leo\"] == ['Appear weak when you are strong, and strong when you are weak.',\r\n",
    "  'Let your plans be dark and impenetrable as night, and when you move, fall like a thunderbolt.',\r\n",
    "  'Treat your men as you would your own beloved sons. And they will follow you into the deepest valley.',\r\n",
    "  'The wise warrior avoids the battle.',\r\n",
    "  'You have to believe in yourself.']), \"Next time :(\"\r\n",
    "\r\n",
    "print(\"What a nice dictionnary, well done !\")"
   ],
   "outputs": [
    {
     "output_type": "stream",
     "name": "stdout",
     "text": [
      "What a nice dictionnary, well done !\n"
     ]
    }
   ],
   "metadata": {}
  },
  {
   "cell_type": "markdown",
   "source": [
    "### *JSON Implementation*\r\n",
    "\r\n",
    "**JSON Files**, or more generally named **\"Configuration Files\"** are some \"Key\" => \"Value\" stockage synthaxes (Exactly like dictionnaries, you will quickly see the link !),\\\r\n",
    "like the other you could have already seen in the past (As XML (With an HTML Balise synthaxes), yaml, ...).\\\r\n",
    "It's important to note that you can stock anything in the \"Value\" place (As a string, to a float, a list and even another dictionnary).\\\r\n",
    "They are widly used to stock data in a more **generalised**, **easiest**, and **humanely comprehensible** way, likely used in API for example\\\r\n",
    "(Application Programming Interface, which is a way to communicate with an application (web, ...)).\\\r\n",
    "To get you a clearer thought, here's an example right below (Taken from the official website [JSON Example](https://json.org/example.html)).\r\n",
    "\r\n",
    "```json\r\n",
    "{\r\n",
    "    \"menu\": {\r\n",
    "        \"id\": \"file\",\r\n",
    "        \"value\": \"File\",\r\n",
    "        \"popup\": {\r\n",
    "            \"menuitem\": [{\r\n",
    "                    \"value\": \"New\",\r\n",
    "                    \"onclick\": \"CreateNewDoc()\"\r\n",
    "                },\r\n",
    "                {\r\n",
    "                    \"value\": \"Open\",\r\n",
    "                    \"onclick\": \"OpenDoc()\"\r\n",
    "                },\r\n",
    "                {\r\n",
    "                    \"value\": \"Close\",\r\n",
    "                    \"onclick\": \"CloseDoc()\"\r\n",
    "                }\r\n",
    "            ]\r\n",
    "        }\r\n",
    "    }\r\n",
    "}\r\n",
    "```\r\n",
    "In the second line, **\"id\"** is the key for the value **\"file\"**. When it's translated in a dictionnary, it means : ```{\"id\": \"file\"}```.\\\r\n",
    "I think you start to make the connection between the two, they have the exact same synthaxes !\\\r\n",
    "This will be really usefull to understand the rest.\r\n",
    "\r\n",
    "In the first line, **menu** is the key to an object (Or another dictionnary).\\\r\n",
    "To access the **id** item, you'll have to translated it as : data[\"menu\"][\"id\"].\r\n",
    "\r\n",
    "At the opposite, **menuitem** is a list of object (Or a list of dictionnaries), and if you compare it again to python, it's just a list of value, with no keys.\\\r\n",
    "To access the second value, it can be translated as : data[\"menu\"][\"menuitem\"][2][\"value\"].\\\r\n",
    "In variable, it correspond to {\"menuitem\":[{\"value\":\"New\", ...}]}.\\\r\n",
    "It's again the exact same synthaxes ! (There are no spaces, but in a way you can put it the exact same way, it will always work).\\\r\n",
    "Once you got this, it begin to be really easy to understand everything, and so use it in Python !\r\n",
    "\r\n",
    "Now, let's try to convert this dictionnary into a json file, that's sorted alphabetically, and write it into \"data.json\" file."
   ],
   "metadata": {}
  },
  {
   "cell_type": "code",
   "execution_count": 90,
   "source": [
    "import json\r\n",
    "\r\n",
    "def dictToJSON(dictData: dict):\r\n",
    "    with open(\"data.json\", \"w\") as file:\r\n",
    "        json.dump(dictData, file, sort_keys=True)\r\n",
    "    return\r\n",
    "\r\n",
    "dictData = dataToDict(file_content, signatures)\r\n",
    "with open(\"data.json\", \"r\") as file:\r\n",
    "    assert(file.read()[:200] == '{\"Florian\": [\"Appear weak when you are strong, and strong when you are weak.\", \"Let your plans be dark and impenetrable as night, and when you move, fall like a thunderbolt.\", \"Treat your men as you w'), \"I hope you didn't copy my assert...\"\r\n",
    "\r\n",
    "print(\"Json is too easy anyways\")"
   ],
   "outputs": [
    {
     "output_type": "stream",
     "name": "stdout",
     "text": [
      "Json is too easy anyways\n"
     ]
    }
   ],
   "metadata": {}
  },
  {
   "cell_type": "markdown",
   "source": [
    "### *Let's decode now !*\r\n",
    "By using all your work, we will be able to attack the real database !\\\r\n",
    "We will **decode** all the data, **get** its content by using our previously made function and **understand** its meaning.\\\r\n",
    "Understanding data is essential in any data analysis work, and it should absolutely not be negliged. In our case it shouldn't be too complex.\r\n",
    "\r\n",
    "Encoding was made using the key we find out in the database section, from our knowledge. If the key is simple enough, it can generally be determined back with some knowledge of the data.\r\n",
    "\r\n",
    "*What does it means ?*\r\n",
    "\r\n",
    "XOR (Or Exclusive or) is a special binary operation caracterised with the '^' symbol (i.g : 1 ^ 2).\\\r\n",
    "It interact directly with the binary value at the opposite of normal opperations, as any other binary operations (OR as '|', AND as '&').\\\r\n",
    "'a' is equal to 97 in ascii when binary is 01100001. If you're not sure of what I said, check that really nice link : [Learn XOR operation](https://www.101computing.net/xor-encryption-algorithm/))\\\r\n",
    "XOR has a speciality, and this is why it's really interesting, and used in cryptography.\\\r\n",
    "If you admit \"a = b ^ c\", any other combinations would also be correct (\"c = b ^ a\", \"b = c ^ a\"). It means that if you have 2 of the three elements, you will always get the last one.\\\r\n",
    "With our data, we have one of the element, and the key would be the second. By applying that knowledge, you can understand how to get the last element.\\\r\n",
    "It wont get much deeper in this section, but if you're curious enough here's a link with a lot of interesting tips and tricks with XOR : [XOR Tricks](https://florian.github.io/xor-trick/)\\\r\n",
    "With what you learnt, let's decode !\r\n"
   ],
   "metadata": {}
  },
  {
   "cell_type": "code",
   "execution_count": null,
   "source": [
    "def decodeData(data: str) -> str:\r\n",
    "    return\r\n",
    "\r\n",
    "with open(\"database.txt\") as file:\r\n",
    "    data = file.read()\r\n",
    "decodedData = decodeData(data)"
   ],
   "outputs": [],
   "metadata": {}
  },
  {
   "cell_type": "markdown",
   "source": [
    "## *The moment of truth*\n",
    "Now, with all the tools you made, you can decode the database ! Woohoo !\\\n",
    "Assemble and try to decode what it says, and put everything in a new file called \"database.json\".\\\n",
    "I wish you the best of my luck."
   ],
   "metadata": {}
  },
  {
   "cell_type": "code",
   "execution_count": null,
   "source": [
    "# Write your code right there\r\n"
   ],
   "outputs": [],
   "metadata": {}
  },
  {
   "cell_type": "markdown",
   "source": [
    "## Classes and Heritages\n",
    "### *~ Robot factory ~*\n",
    "\n",
    "Great job, you succeeded in the principle task. We are very grateful for all your work !\\\n",
    "These was the most important, now you can get into more complex, and spicy stuff.\\\n",
    "Our team needs to create new robot for their research, so they can get up more data as the one you saw before.\\\n",
    "It's essential in the future of our company.\n",
    "\n",
    "So to start off, let us introduces Classes. These are the tool you'll learn to create new robots.\\\n",
    "Classes is what we call **Oriented Object Programming** (Or OOP) and is essential in a vast number of languages.\\\n",
    "To vulgarize it, classes are sort of mold used to create **object**. Once you've the molds, you can create as many objects of the same type as you want. This is used in every import you do, any functions from libraries are **methods** from classes.\\\n",
    "There names are often written with a uppercase at the beginning.\n",
    "\n",
    "If you want to get deeper in this notion, I highly recommend you to search on Internet. It's a highly well explained subject that's super well explained.\n",
    "\n",
    "**Notices :**\\\n",
    "[Python classes doc](https://docs.python.org/3/tutorial/classes.html)\\\n",
    "[OpenClassroom course](https://openclassrooms.com/fr/courses/7150616-apprenez-la-programmation-orientee-objet-avec-python/7195794-creez-et-utilisez-des-objets-python)\n",
    "\n",
    "\n",
    "Because an example is more meaningful than words, here's an exemple.\n",
    "A class made for a robot will have its pure concept of a robot as the mold and your unique handmade robot as an object.\n",
    "We'll have something in these lines.\n"
   ],
   "metadata": {}
  },
  {
   "cell_type": "code",
   "execution_count": null,
   "source": [
    "class Robot:\r\n",
    "    # Variable of a class are called attributes.\r\n",
    "    # These are accessible from the body of the class with no instanciation at any moment, and can be considered as \"global variable\".\r\n",
    "    cur_robot = []\r\n",
    "\r\n",
    "    # Here's what we call a \"constructor\", it's the part that create the object itself, using instance atribute.\r\n",
    "    # This is also called the \"instanciation\".\r\n",
    "    def __init__(self, name = \"unnamed\") -> None:    # \"name\" parameter has a default value \"unnamed\"\r\n",
    "        if (name in self.cur_robot):\r\n",
    "            raise ValueError(\"This robot already exist.\")    # Error managing line. If we have two robots with the same name, this will stop the program\r\n",
    "        \r\n",
    "        self.cur_robot.append(name) # Self is the variable of the instance. It defines the object.\r\n",
    "        self.name = name\r\n",
    "        self.inventory = []\r\n",
    "        \r\n",
    "    # \"Method\" are the functions of an objects. It will use its attributes.\r\n",
    "    # It will interact, and changes the instances of the class.\r\n",
    "    def add_item(self, item: str):\r\n",
    "        if (item not in self.inventory):\r\n",
    "            self.inventory.append(item)\r\n",
    "    \r\n",
    "    def speak(self):\r\n",
    "        print(\"Hello, my name is \" + self.name)\r\n",
    "   \r\n",
    "\r\n",
    "print(Robot.cur_robot)\r\n",
    "Steve = Robot(\"Steve\")\r\n",
    "print(Robot.cur_robot)\r\n",
    "Steve.speak()"
   ],
   "outputs": [],
   "metadata": {}
  },
  {
   "cell_type": "markdown",
   "source": [
    "## *Now let's create this robot !*\n",
    "Your turn now, using what you've learn, try to apply and create a class that generates more advanced robots !\\\n",
    "These robots will be able to **walk**, manage their **positions** (and so **coordinates** that can be consultated) and most importantly they will be able to talk to other robots !\\\n",
    "Good luck and get to us whenever you feel like you didn't understand something."
   ],
   "metadata": {}
  },
  {
   "cell_type": "code",
   "execution_count": null,
   "source": [
    "class AdvancedRobot:\r\n",
    "    def __init__(self, name, coordinates=[0 ,0]) -> None:\r\n",
    "        pass\r\n",
    "\r\n",
    "    def walk(self, positions: list) -> None:\r\n",
    "        pass\r\n",
    "\r\n",
    "    def getPositions(self) -> list: # This one can print too, its your choice !\r\n",
    "        return\r\n",
    "\r\n",
    "    def interact(self, AdvancedRobot) -> str: # Do a way to print and return the name of the other robot. (In the form of \"Hello {Name}\")\r\n",
    "        return"
   ],
   "outputs": [],
   "metadata": {}
  },
  {
   "cell_type": "code",
   "execution_count": null,
   "source": [
    "# Verifications\r\n",
    "\r\n",
    "AlbertLeRobot = AdvancedRobot(\"Albert\")\r\n",
    "AlbertLeRobot.walk([1, 3])\r\n",
    "assert(AlbertLeRobot.getPositions() == [1, 3]), f\"No getter for the coordinates\"\r\n",
    "AlbertLeRobot.walk([2, -2])\r\n",
    "assert(AlbertLeRobot.getPositions() == [3, 1]), f\"Incorrect getter\"\r\n",
    "MikaelLeRobot = AdvancedRobot(\"Mikael\")\r\n",
    "assert(AlbertLeRobot.interact(MikaelLeRobot) == \"Hello Mikael\")\r\n",
    "\r\n",
    "print(\"Good job, everything is working great !\")\r\n"
   ],
   "outputs": [],
   "metadata": {}
  },
  {
   "cell_type": "markdown",
   "source": [
    "Secondly, we will have classes inheritance.\\\n",
    "Classes inheritance is simply a child of the first class that will interact with parents specificities, with all its caracteristic and mostly everything it does. It can be customized, and it's really useful when it comes into complex classes.\\\n",
    "It's anything harder, there's a lot of specifities but you'll learn it in the long way !"
   ],
   "metadata": {}
  },
  {
   "cell_type": "code",
   "execution_count": null,
   "source": [
    "class BigRobot(Robot):\r\n",
    "    def __init__(self, name):\r\n",
    "        super().__init__(name=name)\r\n",
    "        \r\n",
    "    def speak(self):\r\n",
    "        print(\"HELLO I'M THE BIG ROBOT, MY NAME IS \" + self.name.capitalize())\r\n",
    "\r\n",
    "big_steve = BigRobot(\"Josh\")\r\n",
    "big_steve.speak()"
   ],
   "outputs": [],
   "metadata": {}
  },
  {
   "cell_type": "markdown",
   "source": [
    "## **Binary Trees**\n",
    "### *~ Advanced thought ~*\n",
    "\n",
    "Woohoo, here we are.\\\n",
    "This subject is really something you wont see often, this might be really difficult for you if you don't know well subject as linked list.\\\n",
    "Luckily, python help us a bit with classes, and it's much easier than it is in C.\\\n",
    "I guess if you're there, you're a pro right ?\\\n",
    "Anyways, binary tree can open you a lot of new doors, as in data compression, or new architecture of datas (As the file system on a computer).\\\n",
    "This is used in data compression with the Huffman algorithm for example, or in data traversal in database.\n",
    "\n",
    "### *How binary trees works ?*\n",
    "Binary trees in a way is just a way to stock data, as you would have with dictionnaries, or linked list (Which are classical list in Python).\\\n",
    "At the opposite of having a linear list (Each data have their next neighbour, or not), trees are hierarchical data structures that can have multiple next neighbours, by using what is called \"nodes\".\\\n",
    "A node is a piece of data that can stock addresses of their next neighbourgs, and each node are independent.\\\n",
    "Concretly, a node is a class, and each data is stocked inside its class.\n",
    "\n",
    "### *Tree visualisation*\n",
    "Now for the visualisation, you can use the really great \"Binarytree\" module, that let you display them in a terminal.\\\n",
    "[Binarytree module](https://pypi.org/project/binarytree/)\n",
    "\n",
    "**Objective :**\\\n",
    "You will have to write a program that represent the database in a binary tree, using each element as a new root.\\\n",
    "Once it's done, you will have to remove every branch that have an odd number of data (Considering the number of node).\\\n",
    "You will have to use in-order Traversal.\n",
    "\n",
    "**Notices :**\\\n",
    "[Learn Binary trees](https://www.geeksforgeeks.org/binary-tree-set-1-introduction/)\\\n",
    "[Same thing](https://www.tutorialspoint.com/python_data_structure/python_binary_tree.htm)"
   ],
   "metadata": {}
  },
  {
   "cell_type": "code",
   "execution_count": null,
   "source": [
    "# Node class\r\n",
    "\r\n",
    "class Node:\r\n",
    "   def __init__(self, data):\r\n",
    "      self.left = None\r\n",
    "      self.right = None\r\n",
    "      self.data = data"
   ],
   "outputs": [],
   "metadata": {}
  },
  {
   "cell_type": "code",
   "execution_count": null,
   "source": [
    "# First display the tree"
   ],
   "outputs": [],
   "metadata": {}
  }
 ],
 "metadata": {
  "interpreter": {
   "hash": "57baa5815c940fdaff4d14510622de9616cae602444507ba5d0b6727c008cbd6"
  },
  "kernelspec": {
   "name": "python3",
   "display_name": "Python 3.7.8 64-bit"
  },
  "language_info": {
   "codemirror_mode": {
    "name": "ipython",
    "version": 3
   },
   "file_extension": ".py",
   "mimetype": "text/x-python",
   "name": "python",
   "nbconvert_exporter": "python",
   "pygments_lexer": "ipython3",
   "version": "3.7.8"
  }
 },
 "nbformat": 4,
 "nbformat_minor": 5
}