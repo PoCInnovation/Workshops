{
 "cells": [
  {
   "cell_type": "markdown",
   "source": [
    "# Learn Python Basics"
   ],
   "metadata": {}
  },
  {
   "cell_type": "markdown",
   "source": [
    "## Welcome !\r\n",
    "This workshop was made to help you discover **Python Basic** and some advanced stuff that could be useful in your cursus.\\\r\n",
    "It's entirely interactive using Jupyter Notebook, so don't hesitate to do some tests on your own.\\\r\n",
    "\r\n",
    "> This workshop is mostly destinated to people who have never touched Python in depth, with some little code knowledge. We will cover easy and hard stuff, so good luck if you're new there !\r\n",
    "\r\n",
    "Its purpose will be to expand and improve the capacity of our little robot, and maybe even get to its final form.\\\r\n",
    "I hope you guys are ready, you'll have a lot of work to get throught !\\\r\n",
    "Throughout this workshop, you will learn a lot of new stuff so don’t forget to take notes and don’t be shy, the supervising staff is here to answer all your questions.\r\n",
    "\r\n",
    "I hope you're ready, let’s go!  "
   ],
   "metadata": {}
  },
  {
   "cell_type": "markdown",
   "source": [
    "## What is Python exactly ?\r\n",
    "To start, **Python** is an interpreted high-level programming language that's focused on its readability and its simple synthax, which facilitates a lot collaborations.\\\r\n",
    "It's widly used in the research domains and the world of mathematics, mostly by Data Scientists and Researcher in a lot of domains."
   ],
   "metadata": {}
  },
  {
   "cell_type": "markdown",
   "source": [
    "## Python Synthax\r\n",
    "### ~ *Lost in space* ~\r\n",
    "\r\n",
    "Houston, we have a problem !\r\n",
    "\r\n",
    "We sent a file to our **Robot** in space and it got corrupted, it's now full of incorrect synthaxes !\\\r\n",
    "We need your help !\r\n",
    "They leave us a really great notice but it's really hard to read for us. I'm sure it can be useful for you ([Learn Python Variable](https://www.w3schools.com/python/python_variables.asp)).\r\n",
    "\r\n",
    "For your first mission, you will have to correct this program, and fix its **algorithm**.\\\r\n",
    "We also made some tools at your disposal to verify your algorithm, they are right under exercises.\\\r\n",
    "Good luck !"
   ],
   "metadata": {}
  },
  {
   "cell_type": "code",
   "execution_count": null,
   "source": [
    "# There's still some trace of corruptions..\r\n",
    "# Apparently they seems to be called commentaries...\r\n",
    "\r\n",
    "def robotProgram() -> str;\r\n",
    "    max = \"Welcome\"   #   #  %###! %\r\n",
    "    goal = 15\r\n",
    "    victory = \"Success !\"   # # ## %%\r\n",
    "    retry = \"Not yet\"\r\n",
    "\r\n",
    "    for i in range(0, max)\r\n",
    "        if (i == goal) {    #  #%#   ##%\r\n",
    "            return \"Success !\"\r\n",
    "        }        ## #    $# %\r\n",
    "        print(i, retry)  \r\n",
    "                    # ###"
   ],
   "outputs": [],
   "metadata": {}
  },
  {
   "cell_type": "code",
   "execution_count": null,
   "source": [
    "# Testing\r\n",
    "\r\n",
    "assert(robotProgram() == 'Success !'), \"File is still corrupted\"\r\n",
    "print(\"The file isn't corrupted anymore, good job !\")"
   ],
   "outputs": [],
   "metadata": {}
  },
  {
   "cell_type": "markdown",
   "source": [
    "## Basic operations\r\n",
    "### ~ *As the magic of speach* ~\r\n",
    "\r\n",
    "Great job, our robot is functional, like it was before !\\\r\n",
    "Now what is a robot without its utilities, here we come with some new **operations**.\\\r\n",
    "We want it to execute a bunch of operations, as speach for example... Trust me it's important.\r\n",
    "\r\n",
    "We will need all these operations to determinate the password of a computer.\\\r\n",
    "This is where you come in !\r\n",
    "\r\n",
    "We need you to let the robot says its first words, and maybe more with affinity.\r\n",
    "\r\n",
    "__Notices :__\\\r\n",
    "[Learn Python Operators](https://www.w3schools.com/python/python_operators.asp)\\\r\n",
    "[Standard operators Python](https://docs.python.org/3/library/operator.html)"
   ],
   "metadata": {}
  },
  {
   "cell_type": "code",
   "execution_count": null,
   "source": [
    "# First, create a function that concat two strings.\r\n",
    "\r\n",
    "def littleSpeach(firstWord: str, secondWord: str) -> str:\r\n",
    "    return\r\n",
    "\r\n",
    "assert(littleSpeach(\"Hello\", \" World !\") == \"Hello World !\"), \"I guess he isn't alive\""
   ],
   "outputs": [],
   "metadata": {
    "scrolled": true
   }
  },
  {
   "cell_type": "code",
   "execution_count": null,
   "source": [
    "# Then, count the number of characters (character frequency) in a string.\r\n",
    "# If you don't know your robot or yourself, each battle will be a defeat\r\n",
    "\r\n",
    "def characterFrequency(sentences: str) -> list:\r\n",
    "    return\r\n",
    "\r\n",
    "assert(characterFrequency(\"If you don't know your robot or yourself, each battle will be a defeat. ~ Rob Tzu\"))"
   ],
   "outputs": [],
   "metadata": {}
  },
  {
   "cell_type": "code",
   "execution_count": null,
   "source": [
    "# I think that was a bit simple for your talent.\r\n",
    "# Now, write a program that create all possible strings by using 'a', 'e', 'i', 'o', 'u'. Use the characters exactly once."
   ],
   "outputs": [],
   "metadata": {}
  },
  {
   "cell_type": "markdown",
   "source": [
    "Ok, so you are clearly a professional! Let’s see if we can make things less easy for you because, obviously, you are good for this.  "
   ],
   "metadata": {}
  },
  {
   "cell_type": "markdown",
   "source": [
    "## Conditions"
   ],
   "metadata": {}
  },
  {
   "cell_type": "markdown",
   "source": [
    "It’s time for you to create a function that will allow our robot to know how much there is multiple of 3 and 5 between 0 and 7854. For this kind of function, the modulo sign “%” is important and necessary so don’t be afraid to find the signification of it.  \n",
    "\n",
    "[Learn Python Conditions](https://www.w3schools.com/python/python_conditions.asp)\n",
    "[Standard Python Condition](https://python.doctor/page-apprendre-conditions-structures-conditionnelles-if-else-python-cours-debutant)\n"
   ],
   "metadata": {}
  },
  {
   "cell_type": "code",
   "execution_count": null,
   "source": [
    "## Write your function here\r\n",
    "\r\n",
    "## Print your result"
   ],
   "outputs": [],
   "metadata": {}
  },
  {
   "cell_type": "markdown",
   "source": [
    "Is your result equal to 3665?\n",
    "Go quickly to the next step!"
   ],
   "metadata": {}
  },
  {
   "cell_type": "markdown",
   "source": [
    "## List\n",
    "It is very important to understand how a list works. There are different ways to browse a list.\n",
    "\n",
    "Here are operations that we can apply on lists or numpy arrays.\n",
    "\n",
    "I invite you to remember the slicing with the operator:\n",
    "It's up to you to test and understand what the examples below do.\n",
    "\n",
    "[Learn Python List](https://docs.python.org/fr/3/tutorial/datastructures.html)"
   ],
   "metadata": {}
  },
  {
   "cell_type": "code",
   "execution_count": null,
   "source": [
    "x = [1, 2, 3, 4, 5, 6]\r\n",
    "print(len(x))"
   ],
   "outputs": [],
   "metadata": {}
  },
  {
   "cell_type": "code",
   "execution_count": null,
   "source": [
    "x[:3]"
   ],
   "outputs": [],
   "metadata": {}
  },
  {
   "cell_type": "code",
   "execution_count": null,
   "source": [
    "x[3:]"
   ],
   "outputs": [],
   "metadata": {}
  },
  {
   "cell_type": "code",
   "execution_count": null,
   "source": [
    "x[-2:]"
   ],
   "outputs": [],
   "metadata": {}
  },
  {
   "cell_type": "code",
   "execution_count": null,
   "source": [
    "x.extend([7,8])\r\n",
    "x"
   ],
   "outputs": [],
   "metadata": {}
  },
  {
   "cell_type": "code",
   "execution_count": null,
   "source": [
    "x.append(9)\r\n",
    "x"
   ],
   "outputs": [],
   "metadata": {}
  },
  {
   "cell_type": "code",
   "execution_count": null,
   "source": [
    "y = [10, 11, 12]\r\n",
    "listOfLists = [x, y]\r\n",
    "listOfLists"
   ],
   "outputs": [],
   "metadata": {}
  },
  {
   "cell_type": "code",
   "execution_count": null,
   "source": [
    "y[1]"
   ],
   "outputs": [],
   "metadata": {}
  },
  {
   "cell_type": "code",
   "execution_count": null,
   "source": [
    "z = [3, 2, 1]\r\n",
    "z.sort()\r\n",
    "z"
   ],
   "outputs": [],
   "metadata": {}
  },
  {
   "cell_type": "code",
   "execution_count": null,
   "source": [
    "z.sort(reverse=True)\r\n",
    "z"
   ],
   "outputs": [],
   "metadata": {}
  },
  {
   "cell_type": "markdown",
   "source": [
    "**Now is the time to test the robot's accuracy and comprehesion.**\n",
    "\n",
    "Writes a program that allows it to delete all words with a size other than seven characters."
   ],
   "metadata": {}
  },
  {
   "cell_type": "code",
   "execution_count": null,
   "source": [
    "my_list = [\r\n",
    "    \"It's   \", \"Hello\", \"Yet\", \"Maybe\"\r\n",
    ", \"No\", \"For\", \"Yes\", \"Success\", \"Oups\", \"Above\", \"AIIIe\", \"AHAH\"]\r\n",
    "\r\n",
    "# your code goes here\r\n",
    "\r\n",
    "# Print result"
   ],
   "outputs": [],
   "metadata": {}
  },
  {
   "cell_type": "code",
   "execution_count": null,
   "source": [
    "# Exercice : Write a Python program to remove consecutive duplicates of a given list.\r\n",
    "\r\n",
    "# Original list:\r\n",
    "# [0, 0, 1, 2, 3, 4, 4, 5, 6, 6, 6, 7, 8, 9, 4, 4]\r\n",
    "# After removing consecutive duplicates:\r\n",
    "# [0, 1, 2, 3, 4, 5, 6, 7, 8, 9, 4]\r\n",
    "\r\n",
    "def remove_duplicate(original_list: list):\r\n",
    "    return\r\n",
    "\r\n",
    "assert(remove_duplicate([0, 0, 1, 2, 3, 4, 4, 5, 6, 6, 6, 7, 8, 9, 4, 4]) == [0, 1, 2, 3, 4, 5, 6, 7, 8, 9, 4])\r\n",
    "print(\"Good job !\")"
   ],
   "outputs": [],
   "metadata": {}
  },
  {
   "cell_type": "markdown",
   "source": [
    "## Modularity\n",
    "In this language you can call differents librairies or function in differents files.\n",
    "\n",
    "Write two function and use the module \"math\":\n",
    "\n",
    "Example:\n",
    "\n",
    "value = math.sum(3 + 4)\n",
    "print(value) ## Commentaire: 7\n",
    "\n",
    "You must create function that return the square root of parameter number and another that return the exponential.\n",
    "\n",
    "[Learn Module Python](https://docs.python.org/3/reference/import.html)\n",
    "[Standard Module Python](https://docs.python.org/3/tutorial/modules.html)"
   ],
   "metadata": {}
  },
  {
   "cell_type": "code",
   "execution_count": null,
   "source": [
    "## EXAMPLE CODE\r\n",
    "\r\n",
    "##Import your module (you can precise the function that you want)\r\n",
    "import math\r\n",
    "\r\n",
    "nbr_square = 65\r\n",
    "base = 4\r\n",
    "exponent = 18\r\n",
    "\r\n",
    "## Set variable and call the function of your librairies.\r\n",
    "## The function fsum return an accurate floating point sum of values in the iterable.\r\n",
    "value = math.fsum([.1, .1, .1, .1, .1, .1, .1, .1, .1, .1])\r\n",
    "\r\n",
    "## Print your variable\r\n",
    "print(value)"
   ],
   "outputs": [],
   "metadata": {}
  },
  {
   "cell_type": "markdown",
   "source": [
    "If you get 8.06225774829855 for the root square of 65 and 68719476736 for the exponential of your base. You have succeeded!"
   ],
   "metadata": {}
  },
  {
   "cell_type": "markdown",
   "source": [
    "## Special list\r\n",
    "After seeing how lists could be manipulated, here we have some other type of list.\\\r\n",
    "We have **Tuple** (Non mutable list), **Dictionnary** (Keys=>Value list) and **Sets** (Multiple variable in once).\r\n",
    "\r\n",
    "We will see only dictionaries but remember they exist aswell."
   ],
   "metadata": {}
  },
  {
   "cell_type": "markdown",
   "source": [
    "## Dictionnairies\r\n",
    "Dictionnaries are some kind of Keys => Values list, as you can have in JSON configuration files.\r\n",
    "\r\n",
    "[Learn Python Dictionnaries](https://www.w3schools.com/python/python_dictionaries.asp)"
   ],
   "metadata": {}
  },
  {
   "cell_type": "code",
   "execution_count": null,
   "source": [
    "dictionnary = {\"robot\": \"This one is a little robot\", \"big_robot\": \"This one is a BIG robot\", \"advanced_robot\": \"This one is a smart robot\"}\r\n",
    "print(dictionnary[\"robot\"])\r\n",
    "\r\n",
    "selector = [\"big_robot\", \"advanced_robot\"]\r\n",
    "for i in selector:\r\n",
    "    print(dictionnary[i])\r\n",
    "\r\n",
    "operators = {\"+\" : lambda x,y:x+y, \"-\" : lambda x,y:x-y}\r\n",
    "calcul = \"1+3\"\r\n",
    "operators[calcul[1]](int(calcul[0]), int(calcul[2]))"
   ],
   "outputs": [],
   "metadata": {}
  },
  {
   "cell_type": "markdown",
   "source": [
    "## Exercise\r\n",
    "Write a program that combine two dictionary, adding value for common keys.\\\r\n",
    "\\\r\n",
    "__Example :__ \\\r\n",
    "d1 = {'gear': 100, 'screw': 200, 'metal_plate':300}\\\r\n",
    "d2 = {'gear': 300, 'screw': 200, 'sensor':400}\r\n",
    "\r\n",
    "__Output__: {'gear': 400, 'screw': 400, 'metal_plate': 300, 'sensor': 400}"
   ],
   "metadata": {}
  },
  {
   "cell_type": "code",
   "execution_count": null,
   "source": [
    "def counter(d1: dict, d2: dict) -> dict:\r\n",
    "    output = {}\r\n",
    "    return output\r\n",
    "\r\n",
    "assert(counter({'a': 200, 'b': 100, 'd': 100}, {'a': 150, 'c': 100, 'e': 300, 'b': 100}) ==\\\r\n",
    "{'a': 350, 'b': 200, 'c': 100, 'd': 100, 'e': 300})\r\n",
    "print(\"Good job !\")"
   ],
   "outputs": [],
   "metadata": {}
  },
  {
   "cell_type": "markdown",
   "source": [
    "## Classes and Heritages\r\n",
    "\r\n",
    "Classes is what we call **Oriented Object Programming** (Or OOP) and is essential in a vast number of languages.\r\n",
    "To vulgarize it, classes are sort of mold used to create **object**. Once you've the molds, you can create as many objects of the same type as you want. This is used in every import you do, any functions from libraries are **methods** from classes.\r\n",
    "There names are often written with a uppercase at the beginning. \r\n",
    "\r\n",
    "If you want to get deeper in this notion, I highly recommend you to search on Internet. It's a highly well explained subject that's super well explained.\\\r\n",
    "\\\r\n",
    "[Python classes doc](https://docs.python.org/3/tutorial/classes.html)\\\r\n",
    "[OpenClassroom course](https://openclassrooms.com/fr/courses/7150616-apprenez-la-programmation-orientee-objet-avec-python/7195794-creez-et-utilisez-des-objets-python)\r\n",
    "\r\n",
    "\r\n",
    "Because an example is more meaningful than words, here's an exemple.\r\n",
    "A class made for a robot will have its pure concept of a robot as the mold and your unique handmade robot as an object.\r\n",
    "We'll have something in these lines.\r\n"
   ],
   "metadata": {}
  },
  {
   "cell_type": "code",
   "execution_count": null,
   "source": [
    "class Robot:\r\n",
    "    # Variable of a class are called attributes.\r\n",
    "    # These are accessible from the body of the class with no instanciation at any moment, and can be considered as \"global variable\".\r\n",
    "    cur_robot = []\r\n",
    "\r\n",
    "    # Here's what we call a \"constructor\", it's the part that create the object itself, using instance atribute.\r\n",
    "    # This is also called the \"instanciation\".\r\n",
    "    def __init__(self, name = \"unnamed\") -> None:    # \"name\" parameter has a default value \"unnamed\"\r\n",
    "        if (name in self.cur_robot):\r\n",
    "            raise ValueError(\"This robot already exist.\")    # Error managing line. If we have two robots with the same name, this will stop the program\r\n",
    "        \r\n",
    "        self.cur_robot.append(name) # Self is the variable of the instance. It defines the object.\r\n",
    "        self.name = name\r\n",
    "        self.inventory = []\r\n",
    "        \r\n",
    "    # \"Method\" are the functions of an objects. It will use its attributes.\r\n",
    "    # It will interact, and changes the instances of the class.\r\n",
    "    def add_item(self, item: str):\r\n",
    "        if (item not in self.inventory):\r\n",
    "            self.inventory.append(item)\r\n",
    "    \r\n",
    "    def speak(self):\r\n",
    "        print(\"Hello, my name is \" + self.name)\r\n",
    "   \r\n",
    "\r\n",
    "print(Robot.cur_robot)\r\n",
    "Steve = Robot(\"Steve\")\r\n",
    "print(Robot.cur_robot)\r\n",
    "Steve.speak()"
   ],
   "outputs": [],
   "metadata": {}
  },
  {
   "cell_type": "markdown",
   "source": [
    "## Application\n",
    "Your turn now, using what you've learn, try to apply and create a class that generates more advanced robots !\n",
    "These robots will be able to **walk**, manage their **positions** (and so **coordinates** that can be consultated) and most importantly they will be able to talk to other robots !\n",
    "Good luck and get to us whenever you feel like you didn't understand something."
   ],
   "metadata": {}
  },
  {
   "cell_type": "code",
   "execution_count": null,
   "source": [
    "class AdvancedRobot:\r\n",
    "    def __init__(self, name, coordinates=[0 ,0]) -> None:\r\n",
    "        pass\r\n",
    "\r\n",
    "    def walk(self, positions: list) -> None:\r\n",
    "        pass\r\n",
    "\r\n",
    "    def getPositions(self) -> list: # This one can print too, its your choice !\r\n",
    "        return\r\n",
    "\r\n",
    "    def interact(self, AdvancedRobot) -> str: # Do a way to print and return the name of the other robot. (In the form of \"Hello {Name}\")\r\n",
    "        return"
   ],
   "outputs": [],
   "metadata": {}
  },
  {
   "cell_type": "code",
   "execution_count": null,
   "source": [
    "# Verifications\r\n",
    "\r\n",
    "AlbertLeRobot = AdvancedRobot(\"Albert\")\r\n",
    "AlbertLeRobot.walk([1, 3])\r\n",
    "assert(AlbertLeRobot.getPositions() == [1, 3]), f\"No getter for the coordinates\"\r\n",
    "AlbertLeRobot.walk([2, -2])\r\n",
    "assert(AlbertLeRobot.getPositions() == [3, 1]), f\"Incorrect getter\"\r\n",
    "MikaelLeRobot = AdvancedRobot(\"Mikael\")\r\n",
    "assert(AlbertLeRobot.interact(MikaelLeRobot) == \"Hello Mikael\")\r\n",
    "\r\n",
    "print(\"Good job, everything is working great !\")\r\n"
   ],
   "outputs": [],
   "metadata": {}
  },
  {
   "cell_type": "markdown",
   "source": [
    "Secondly, we will have classes inheritance. Classes inheritance is simply a child of the first class that will interact with parents specificities, with all its caracteristic and mostly everything it does. It can be customized, and it's really useful when it comes into complex classes.\n",
    "It's anything harder, there's a lot of specifities but you'll learn it in the long way !"
   ],
   "metadata": {}
  },
  {
   "cell_type": "code",
   "execution_count": null,
   "source": [
    "class BigRobot(Robot):\r\n",
    "    def __init__(self, name):\r\n",
    "        super().__init__(name=name)\r\n",
    "        \r\n",
    "    def speak(self):\r\n",
    "        print(\"HELLO I'M THE BIG ROBOT, MY NAME IS \" + self.name.capitalize())\r\n",
    "\r\n",
    "big_steve = BigRobot(\"Josh\")\r\n",
    "big_steve.speak()"
   ],
   "outputs": [],
   "metadata": {}
  },
  {
   "cell_type": "markdown",
   "source": [
    "## Final exercise\n",
    "\n",
    "Here we are chief ! You come from a long way, but here's the ultimate challenge to apply everything you've learnt. Don't hesitate to recheck anything if you're not sure, and maybe get deeper in a specific notion (And maybe do some Python after this workshop !).\n",
    "\n",
    "The goal of this final exercise is to manage a factory of robot, that are made for listing and sorting elements. These aren't entirely complete, but they can sort a lot of material, and you've to create and adapt the system to make it extensible to all type of data. Good luck !\n",
    "Par contre j'ai pas ton temps, donc débrouille toi là. T'es grand, casse pas les couilles."
   ],
   "metadata": {}
  },
  {
   "cell_type": "code",
   "execution_count": null,
   "source": [
    "class Products:\r\n",
    "    product_type = None\r\n",
    "    products = []\r\n",
    "\r\n",
    "    def __init__(self, products: list, product_type: str) -> None:\r\n",
    "        self.product_type = product_type\r\n",
    "        self.products = products\r\n",
    "\r\n",
    "\r\n",
    "class ListingRobot:\r\n",
    "    \r\n",
    "    def __init__(self) -> None:\r\n",
    "        pass\r\n",
    "    \r\n",
    "    def add_item(self, item: str) -> None:\r\n",
    "        pass\r\n",
    "\r\n",
    "    def remove_item(self, item_id: int = 0, item_name: str = None) -> None:\r\n",
    "        pass\r\n",
    "\r\n",
    "    def find_item(self, item_id: int = 0, item_name: str = None) -> str:\r\n",
    "        pass\r\n",
    "\r\n",
    "    def sort_items(self) -> None:\r\n",
    "        pass\r\n",
    "\r\n",
    "    def show_item(self) -> None:\r\n",
    "        pass\r\n"
   ],
   "outputs": [],
   "metadata": {}
  }
 ],
 "metadata": {
  "interpreter": {
   "hash": "57baa5815c940fdaff4d14510622de9616cae602444507ba5d0b6727c008cbd6"
  },
  "kernelspec": {
   "name": "python3",
   "display_name": "Python 3.7.8 64-bit"
  },
  "language_info": {
   "codemirror_mode": {
    "name": "ipython",
    "version": 3
   },
   "file_extension": ".py",
   "mimetype": "text/x-python",
   "name": "python",
   "nbconvert_exporter": "python",
   "pygments_lexer": "ipython3",
   "version": "3.7.8"
  }
 },
 "nbformat": 4,
 "nbformat_minor": 5
}