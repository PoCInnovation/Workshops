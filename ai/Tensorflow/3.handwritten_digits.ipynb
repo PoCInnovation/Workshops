{
 "cells": [
  {
   "cell_type": "markdown",
   "metadata": {
    "colab_type": "text",
    "id": "tOoyQ70H00_s"
   },
   "source": [
    "## MNIST Handwritten Digits\n",
    "\n",
    "In the previous notebook, you could see how to classify clothes through the Fashion MNIST. There is in fact another similar dataset named MNIST which corresponds to images including the digits from 0 to 9 handwritten: https://en.wikipedia.org/wiki/MNIST_database.\n",
    "\n",
    "The goal of this exercise is to build a neural network capable of correctly classifying these images with an accuracy greater than 99%, without a fixed number of epochs, i.e. you will have to stop the training as soon as you will have reached this accurary.\n",
    "\n",
    "**Instructions**:\n",
    "- You must perform the classification in less than 10 epochs, it means that it is possible to define it to 10, but not more.\n",
    "- As soon as the accuracy of 99% is reached, you must stop the training and display: \"99% reached, exercise successful!\"\n",
    "- Write your code only in the designated fields.\n",
    "\n",
    "**Notes**:\n",
    "- Warning, you are asked to reach the accuracy (and not the loss)\n",
    "- If you add other variables, make sure they have the same name as the one used in the class."
   ]
  },
  {
   "cell_type": "code",
   "execution_count": null,
   "metadata": {
    "colab": {},
    "colab_type": "code",
    "id": "9rvXQGAA0ssC"
   },
   "outputs": [],
   "source": [
    "import tensorflow as tf\n",
    "print(tf.__version__)\n",
    "\n",
    "def train_mnist():\n",
    "\n",
    "    ### Start of code ### (~ 5 lines of code)\n",
    "\n",
    "    ### End of code ###\n",
    "\n",
    "    mnist = tf.keras.datasets.mnist\n",
    "    (x_train, y_train),(x_test, y_test) = mnist.load_data()\n",
    "    \n",
    "    ### Start of code ### (~ 2 lines of code)\n",
    "\n",
    "    ### End of code ###\n",
    "    \n",
    "    model = tf.keras.models.Sequential([\n",
    "        ### Start of code ### \n",
    "\n",
    "        ### End of code ###\n",
    "    ])\n",
    "\n",
    "    model.compile(optimizer='adam',\n",
    "                  loss='sparse_categorical_crossentropy',\n",
    "                  metrics=['acc'])\n",
    "    \n",
    "    # model fitting\n",
    "    history = model.fit(\n",
    "      ### Start of code ###\n",
    "\n",
    "      ### End of code ###\n",
    "    )\n",
    "    return len(history.epoch), history.history['acc'][-1]\n",
    "\n",
    "train_mnist()"
   ]
  }
 ],
 "metadata": {
  "colab": {
   "collapsed_sections": [],
   "name": "Exercise2-Question.ipynb",
   "provenance": [],
   "version": "0.3.2"
  },
  "kernelspec": {
   "display_name": "Python 3.10.6 64-bit",
   "language": "python",
   "name": "python3"
  },
  "language_info": {
   "codemirror_mode": {
    "name": "ipython",
    "version": 3
   },
   "file_extension": ".py",
   "mimetype": "text/x-python",
   "name": "python",
   "nbconvert_exporter": "python",
   "pygments_lexer": "ipython3",
   "version": "3.10.6"
  },
  "vscode": {
   "interpreter": {
    "hash": "97cc609b13305c559618ec78a438abc56230b9381f827f22d070313b9a1f3777"
   }
  }
 },
 "nbformat": 4,
 "nbformat_minor": 1
}
