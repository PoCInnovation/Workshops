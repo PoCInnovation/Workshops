{
 "cells": [
  {
   "cell_type": "markdown",
   "metadata": {
    "colab_type": "text",
    "id": "mw2VBrBcgvGa"
   },
   "source": [
    "# Introduction to Tensorflow\n",
    "\n",
    "In the previous workshops, you implemented from scratch all the functions needed to create a model. There are actually libraries that have already done this for you in an optimized way. The goal of this workshop will be to discover one of them: Tensorflow.\n",
    "\n",
    "\n",
    "**You will perform the following exercise:**\n",
    "\n",
    "You are a real estate agent and you want to understand the price of a house in a given area. For the exercise, it is assumed that the price depends on only two factors: fixed amount + number of rooms.\n",
    "\n",
    "Imagine that the fixed amount is equal to 50,000 euros and that each room leads to an additional 50,000 euros. We would then have the price of a house with one bedroom equal to 100k, with 2 bedrooms 150k etc.\n",
    "\n",
    "|Base house| 1 bedroom | 2 bedrooms| 9 bedrooms\n",
    "|--------|---------|---------|---------|\n",
    "|50 000 €|100 000 €|150 000 €|?|\n",
    "\n",
    "\n",
    "How would you create a neural network that can learn this relationship, so that it can predict that a 9-bedroom house has an estimated value of 500k?\n",
    "\n",
    "**Instructions:**\n",
    "- Use Keras API\n",
    "- Use Tensorflow functions directly\n",
    "- Search and read the doc\n",
    "- Fill in only the fields determined by # Your code here #"
   ]
  },
  {
   "cell_type": "markdown",
   "metadata": {},
   "source": [
    "> Tip: Your neural network will perform better if you set house prices to lower values. You can change the price scale by dividing the results by 10, 100 or even 1000."
   ]
  },
  {
   "cell_type": "code",
   "execution_count": null,
   "metadata": {
    "colab": {},
    "colab_type": "code",
    "id": "PUNO2E6SeURH"
   },
   "outputs": [],
   "source": [
    "import tensorflow as tf\n",
    "import numpy as np\n",
    "from tensorflow import keras\n",
    "\n",
    "model = # Votre code ici #\n",
    "model.compile(# Votre code ici #)\n",
    "x = # Votre code ici #\n",
    "y = # Votre code ici #\n",
    "\n",
    "y = np.divide(y, 10_000) # normalization of values\n",
    "\n",
    "model.fit(# Votre code ici #)\n",
    "\n",
    "prediction = model.predict([9.0])\n",
    "\n",
    "np.multiply(y, 10_000) # denormalization"
   ]
  },
  {
   "cell_type": "markdown",
   "metadata": {},
   "source": [
    "The output should be, of course, a value close to 500 000 €."
   ]
  },
  {
   "cell_type": "markdown",
   "metadata": {},
   "source": [
    "Check out the `2.fashion_mnist.ipynb` notebook to learn more about the usage of Tensorflow !"
   ]
  }
 ],
 "metadata": {
  "colab": {
   "name": "Exercise 1 - House Prices - Question.ipynb",
   "provenance": [],
   "version": "0.3.2"
  },
  "kernelspec": {
   "display_name": "Python 3.10.6 64-bit",
   "language": "python",
   "name": "python3"
  },
  "language_info": {
   "codemirror_mode": {
    "name": "ipython",
    "version": 3
   },
   "file_extension": ".py",
   "mimetype": "text/x-python",
   "name": "python",
   "nbconvert_exporter": "python",
   "pygments_lexer": "ipython3",
   "version": "3.10.6"
  },
  "vscode": {
   "interpreter": {
    "hash": "97cc609b13305c559618ec78a438abc56230b9381f827f22d070313b9a1f3777"
   }
  }
 },
 "nbformat": 4,
 "nbformat_minor": 1
}
