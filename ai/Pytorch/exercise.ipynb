{
 "cells": [
  {
   "cell_type": "markdown",
   "id": "55ca99a8",
   "metadata": {
    "pycharm": {
     "name": "#%% md\n"
    }
   },
   "source": [
    "> This Jupyter Notebook contains the second part of the workshop, if you have not done the first one I invite you to do it before starting this one!"
   ]
  },
  {
   "cell_type": "markdown",
   "id": "80d3f1fe",
   "metadata": {
    "pycharm": {
     "name": "#%% md\n"
    }
   },
   "source": [
    "First of all, I hope you have understood the theoretical part of this workshop. Indeed, the latter will be very useful for this part! If you have any questions about the first part, this is the time to ask the supervisors.\n",
    "\n",
    "You will need to create a modell predicting the garment on a 28 x 28 pixel image. You are free to create the model you want, I advise you to start with the simplest and improve it as you go along.\n",
    "\n",
    "Obviously, I'm not going to let you start without a little help. Below you will find an incomplete code that will allow you to do this workshop. All you have to do is fill in the missing parts marked with comments starting with ###. You will also have to modify the hyper parameters (EPOCH, BATCH_SIZE, LR).\n",
    "\n",
    "We will use the [Fashion-MNIST dataset](https://github.com/zalandoresearch/fashion-mnist), which contains standardised clothing images.\n",
    "\n",
    "### It's up to you!"
   ]
  },
  {
   "cell_type": "code",
   "execution_count": null,
   "id": "10dda7a1",
   "metadata": {
    "pycharm": {
     "name": "#%%\n"
    }
   },
   "outputs": [],
   "source": [
    "import numpy as np\n",
    "\n",
    "import torch\n",
    "import torch.nn as nn\n",
    "import torch.nn.functional as F\n",
    "import torch.optim as optim\n",
    "import torchvision\n",
    "import torchvision.transforms as transforms\n",
    "\n",
    "import matplotlib.pyplot as plt\n",
    "\n",
    "from tqdm import tqdm\n",
    "\n",
    "from sklearn.metrics import accuracy_score"
   ]
  },
  {
   "cell_type": "code",
   "execution_count": null,
   "id": "828b7b20",
   "metadata": {
    "pycharm": {
     "name": "#%%\n"
    }
   },
   "outputs": [],
   "source": [
    "class NeuralNetwork(nn.Module):\n",
    "    def __init__(self):\n",
    "        super(NeuralNetwork, self).__init__()\n",
    "\n",
    "        # Convolution layer\n",
    "        self.conv1 = None\n",
    "        self.conv2 = None\n",
    "        self.max_pool = None\n",
    "        # --------------------------------\n",
    "\n",
    "        self.dropout = None\n",
    "\n",
    "        # Fully connected layer\n",
    "        self.linear1 = None\n",
    "        self.linear2 = None\n",
    "        # --------------------------------\n",
    "\n",
    "    def forward(self, x):\n",
    "        # Enter your code here: you can use the functions above as a guide\n",
    "\n",
    "\n",
    "\n",
    "\n",
    "\n",
    "\n",
    "        ### Don't forget the activation functions\n",
    "        return x"
   ]
  },
  {
   "cell_type": "code",
   "execution_count": null,
   "id": "209cf05d",
   "metadata": {
    "pycharm": {
     "name": "#%%\n"
    }
   },
   "outputs": [],
   "source": [
    "network = NeuralNetwork()"
   ]
  },
  {
   "cell_type": "markdown",
   "id": "4bb64a7c",
   "metadata": {},
   "source": [
    "For this exercise, we will use real data provided by FashionMNIST:"
   ]
  },
  {
   "cell_type": "code",
   "execution_count": null,
   "id": "dbd9541a",
   "metadata": {
    "pycharm": {
     "name": "#%%\n"
    }
   },
   "outputs": [],
   "source": [
    "# Hyper parameters\n",
    "EPOCH = 2\n",
    "BATCH_SIZE = 64\n",
    "LEARNING_RATE = 0.001\n",
    "\n",
    "# Convert and normalize input images\n",
    "transform = transforms.Compose([\n",
    "    transforms.ToTensor(),\n",
    "    transforms.Normalize((0.1307,), (0.3081,))\n",
    "])\n",
    "\n",
    "# Load data\n",
    "train_set = torchvision.datasets.FashionMNIST(root='data', train=True, download=True, transform=transform)\n",
    "test_set = torchvision.datasets.FashionMNIST(root='data', train=False, download=True, transform=transform)\n",
    "\n",
    "# Select a batch of data\n",
    "train_loader = torch.utils.data.DataLoader(train_set, batch_size=BATCH_SIZE, shuffle=True)\n",
    "test_loader = torch.utils.data.DataLoader(test_set, batch_size=BATCH_SIZE, shuffle=True)\n",
    "\n",
    "# Define label names\n",
    "classes = ('T-shirt/top', 'Trouser', 'Pullover', 'Dress', 'Coat', 'Sandal', 'Shirt', 'Sneaker', 'Bag', 'Ankle boot')"
   ]
  },
  {
   "cell_type": "code",
   "execution_count": null,
   "id": "6d3dbe41",
   "metadata": {
    "pycharm": {
     "name": "#%%\n"
    }
   },
   "outputs": [],
   "source": [
    "# Display the image passed as input to the model\n",
    "def img_show(img):\n",
    "    np_img = img.numpy()\n",
    "    plt.imshow(np.transpose(np_img, (1, 2, 0)))\n",
    "    plt.show()\n",
    "\n",
    "\n",
    "img_show(next(iter(train_loader))[0][0])"
   ]
  },
  {
   "cell_type": "code",
   "execution_count": null,
   "id": "8f18b20f",
   "metadata": {
    "pycharm": {
     "name": "#%%\n"
    }
   },
   "outputs": [],
   "source": [
    "# Load a loss calculator and optimizer\n",
    "### Define criterion and optimizer\n",
    "criterion = None\n",
    "optimizer = None"
   ]
  },
  {
   "cell_type": "code",
   "execution_count": null,
   "id": "e205bd05",
   "metadata": {
    "pycharm": {
     "name": "#%%\n"
    }
   },
   "outputs": [],
   "source": [
    "iteration = 0\n",
    "\n",
    "train_accuracies = np.zeros(EPOCH)\n",
    "test_accuracies = np.zeros(EPOCH)\n",
    "\n",
    "for iteration in range(EPOCH):\n",
    "    average_loss = 0.0\n",
    "\n",
    "    print(\"――――――――――――――――――――――――――――――――――――――――――――――――――\")\n",
    "\n",
    "    # Training\n",
    "    total = 0\n",
    "    success = 0\n",
    "    for inputs, labels in tqdm(train_loader):\n",
    "        # Enter your code here: ~ 5 lines of code\n",
    "        \n",
    "        \n",
    "        \n",
    "        \n",
    "        \n",
    "        ###\n",
    "\n",
    "        _, predicted = torch.max(output.data, 1)\n",
    "        total += labels.size(0)\n",
    "        success += (predicted == labels.data).sum()\n",
    "\n",
    "    train_accuracies[iteration] = 100.0 * success / total\n",
    "    # -------------------------------------------------------------------\n",
    "\n",
    "    # Testing\n",
    "    total = 0\n",
    "    success = 0\n",
    "    for inputs, labels in tqdm(test_loader):\n",
    "        output = None\n",
    "\n",
    "        _, predicted = torch.max(output.data, 1)\n",
    "        total += labels.size(0)\n",
    "        success += (predicted == labels.data).sum()\n",
    "    test_accuracies[iteration] = 100.0 * success / total\n",
    "    # -------------------------------------------------------------------\n",
    "\n",
    "    print(\"Epoch %d, train accuracy %d, test accuracy %d\" % (\n",
    "        iteration,\n",
    "        train_accuracies[iteration],\n",
    "        test_accuracies[iteration]\n",
    "    ))"
   ]
  },
  {
   "cell_type": "markdown",
   "id": "55e71084",
   "metadata": {
    "pycharm": {
     "name": "#%% md\n"
    }
   },
   "source": [
    "### Improvements\n",
    "\n",
    "Can you make the model work? Have you managed to create a basic model but don't know how to improve it? This part is for you!"
   ]
  },
  {
   "cell_type": "markdown",
   "id": "4d62c258",
   "metadata": {
    "pycharm": {
     "name": "#%% md\n"
    }
   },
   "source": [
    "1. You process images, have you used convolutions? [Conv2d](https://pytorch.org/docs/stable/generated/torch.nn.Conv2d.html#torch.nn.Conv2d)\n",
    "2. Did you use the pooling operation after your convolution? [MaxPool2d](https://pytorch.org/docs/stable/generated/torch.nn.MaxPool2d.html#torch.nn.MaxPool2d)\n",
    "3. Have you used the dropout to avoid overfitting? [Dropout](https://pytorch.org/docs/stable/generated/torch.nn.Dropout.html#torch.nn.Dropout)\n",
    "4. Have you tested other activation functions?"
   ]
  },
  {
   "cell_type": "markdown",
   "id": "c4a5d2a5",
   "metadata": {
    "pycharm": {
     "name": "#%% md\n"
    }
   },
   "source": [
    "Now that you're proud of your model, don't hesitate to share it with others! Also, feel free to compare your models to see what works well!"
   ]
  }
 ],
 "metadata": {
  "kernelspec": {
   "display_name": "Python 3.10.4 64-bit",
   "language": "python",
   "name": "python3"
  },
  "language_info": {
   "codemirror_mode": {
    "name": "ipython",
    "version": 3
   },
   "file_extension": ".py",
   "mimetype": "text/x-python",
   "name": "python",
   "nbconvert_exporter": "python",
   "pygments_lexer": "ipython3",
   "version": "3.10.4"
  },
  "vscode": {
   "interpreter": {
    "hash": "916dbcbb3f70747c44a77c7bcd40155683ae19c65e1c03b4aa3499c5328201f1"
   }
  }
 },
 "nbformat": 4,
 "nbformat_minor": 5
}
