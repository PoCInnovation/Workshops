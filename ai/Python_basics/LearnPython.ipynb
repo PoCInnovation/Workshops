{
 "cells": [
  {
   "cell_type": "markdown",
   "id": "c56f66bb",
   "metadata": {},
   "source": [
    "# Learn Python Basics"
   ]
  },
  {
   "cell_type": "markdown",
   "id": "f1de29fe",
   "metadata": {},
   "source": [
    "## Welcome !\n",
    "This workshop was made to help you discover **Python Basics** and some advanced stuff that could be useful in your cursus.\\\n",
    "It's entirely interactive using Jupyter Notebook, so don't hesitate to do some tests on your own.\n",
    "\n",
    "> This workshop is mostly destinated to people who have never touched Python in depth, with some little code knowledge. We will cover easy and hard stuff, so good luck if you're new there !\n",
    "\n",
    "Its purpose will be to expand and improve the capacity of our little robot, and maybe even get to its final form.\\\n",
    "I hope you guys are ready, you'll have a lot of work to get throught !\\\n",
    "Throughout this workshop, you will learn a lot of new stuff so don’t forget to take notes and don’t be shy, the supervising staff is here to answer all your questions.\n",
    "\n",
    "I hope you're ready. Let’s go!"
   ]
  },
  {
   "cell_type": "markdown",
   "id": "e43fc61d",
   "metadata": {},
   "source": [
    "## What is Python exactly ?\n",
    "To start of, **Python** is an interpreted high-level programming language that's focused on its readability and its simple synthax, which facilitates a lot collaborations.\\\n",
    "It allows non programmers to translate their research works into a working result.\\\n",
    "It's widly used in the research domains and the world of mathematics, mostly by Data Scientists and Researcher in a lot of domains."
   ]
  },
  {
   "cell_type": "markdown",
   "id": "43282589",
   "metadata": {},
   "source": [
    "## Python Synthax\n",
    "### ~ *Lost in space* ~\n",
    "\n",
    "Houston, we have a problem !\n",
    "\n",
    "We sent a file to our **Robot** in space and it got corrupted, it's now full of incorrect synthaxes !\\\n",
    "We need your help !\n",
    "They leave us a really great notice but it's really hard to read for us. I'm sure it can be useful for you ([Learn Python Variable](https://www.w3schools.com/python/python_variables.asp)).\n",
    "\n",
    "For your first mission, you will have to correct this program, and fix its **algorithm**.\\\n",
    "We also made some tools at your disposal to verify your algorithm, they are right under exercises.\\\n",
    "Good luck !"
   ]
  },
  {
   "cell_type": "code",
   "execution_count": null,
   "id": "92e2e894",
   "metadata": {},
   "outputs": [],
   "source": [
    "# There's still some trace of corruptions..\n",
    "# Apparently they seems to be called commentaries...\n",
    "\n",
    "def robotProgram();\n",
    "    max = \"Welcome\"   #   #  %###! %\n",
    "    goal = 15\n",
    "    victory = \"Success !\"   # # ## %%\n",
    "    retry = \"Not yet\"\n",
    "\n",
    "    for i in range(0, max)\n",
    "        if (i == goal) {    #  #%#   ##%\n",
    "            return \"Success !\"\n",
    "        }        ## #    $# %\n",
    "    print(i, retry)  \n",
    "                    # ###\n",
    "\n",
    "# Testing\n",
    "\n",
    "assert(robotProgram() == 'Success !'), \"File is still corrupted\"\n",
    "print(\"The file isn't corrupted anymore, good job !\")"
   ]
  },
  {
   "cell_type": "markdown",
   "id": "9e666d37",
   "metadata": {},
   "source": [
    "## Basic operations\n",
    "### ~ *As the magic of speach* ~\n",
    "\n",
    "Great job, our robot is functional, like it was before !\\\n",
    "Now what is a robot without its utilities, here we come with some new **operations**.\\\n",
    "We want it to execute a bunch of operations, as speech for example... Trust me it's important.\n",
    "\n",
    "We will need them to determinate a super secret password of a database.\\\n",
    "This is where you come in !\n",
    "\n",
    "We need you to let the robot says its first words, and maybe more with affinity.\n",
    "\n",
    "**Instructions :**\\\n",
    "Resolves the **3 tasks**, and find the password back.\n",
    "\n",
    "__Notices :__\\\n",
    "[Learn Python Conditions](https://www.w3schools.com/python/python_conditions.asp)\\\n",
    "[Learn Python Operators](https://www.w3schools.com/python/python_operators.asp)\n",
    "\n",
    "**Custom notices :**\\\n",
    "You can specify the type of your parameters and return type in a function, by using \":\" for parameters and \"->\" for the return type.\\\n",
    "You're not forced to, but it's always a good pratice."
   ]
  },
  {
   "cell_type": "code",
   "execution_count": null,
   "id": "8ad0a52e",
   "metadata": {
    "scrolled": true
   },
   "outputs": [],
   "source": [
    "# First, create a function that concat two strings. (Just for the train)\n",
    "\n",
    "def littleSpeech(firstWord: str, secondWord: str) -> str:\n",
    "    return\n",
    "\n",
    "assert(littleSpeech(\"Hello\", \" World !\") == \"Hello World !\"), \"I guess he isn't alive.\""
   ]
  },
  {
   "cell_type": "code",
   "execution_count": null,
   "id": "1c51fa84",
   "metadata": {},
   "outputs": [],
   "source": [
    "# Then, count the number of characters (character frequency) in a string.\n",
    "\n",
    "def characterFrequency(sentences: str) -> dict:\n",
    "    return\n",
    "\n",
    "assert(characterFrequency(\"If you ignore both your program and yourself, you will only count your battles by your defeats. ~ Rob Tzu\") == \\\n",
    "    {' ': 19, 'o': 12, 'y': 8, 'u': 8, 'r': 7, 'e': 5, 't': 5, 'l': 5, 'n': 4, 'b': 4, 'a': 4, 'f': 3, 's': 3, 'i': 2, 'g': 2, 'd': 2, 'I': 1,\\\n",
    "        'h': 1, 'p': 1, 'm': 1, ',': 1, 'w': 1, 'c': 1, '.': 1, '~': 1, 'R': 1, 'T': 1, 'z': 1}), \"As this one is.\""
   ]
  },
  {
   "cell_type": "code",
   "execution_count": null,
   "id": "dc30f8c3",
   "metadata": {},
   "outputs": [],
   "source": [
    "# Now the hardest task.\n",
    "# Write a program that create all possible strings by using a list of letter.\n",
    "# They must be returned after the operation.\n",
    "\n",
    "def passwordMaker(letters: str) -> list:\n",
    "    return\n",
    "assert(\"robot\" in passwordMaker(\"tboor\")), \"This isn't the good password >:(\""
   ]
  },
  {
   "cell_type": "markdown",
   "id": "0ebf5df5",
   "metadata": {},
   "source": [
    "### / | __Database__ | \\\n",
    "Here we are. If you did your job well, we should obtain the password for the database, and get access to everything back.\\\n",
    "This might also serve for other stuff, maybe ?\n",
    "\n",
    "Good luck !"
   ]
  },
  {
   "cell_type": "code",
   "execution_count": null,
   "id": "8c61cadf",
   "metadata": {},
   "outputs": [],
   "source": [
    "## # Database Pa$$word # ##\n",
    "from hashlib import blake2b\n",
    "\n",
    "def databaseLock():\n",
    "    pmFrequencies = characterFrequency(\"The one who excels at solving difficulties does so before they arise. ~ Rob tzu\")\n",
    "    letters = []\n",
    "\n",
    "    for key, value in pmFrequencies.items():\n",
    "        if value >= 4:\n",
    "            letters.append(key)\n",
    "\n",
    "    for i in passwordMaker(letters):\n",
    "        if blake2b(i.encode('UTF-8')).hexdigest() == \"78f1ce059586050456dfcdb88a5da760b39ad9a06f24c9bc7268830d67b9a4b65b55bd0b5ace4e8636f1de59cbb58b1fb8989fb044ba4fa4d5cd325cf5e0d7fd\":\n",
    "            print(\"Good job ! The password is '\" + i + \"'.\")\n",
    "            return\n",
    "\n",
    "    print(\"Next time buddy.\")\n",
    "\n",
    "# If you succeeded, great job, you serve our society for the greatest.\n",
    "databaseLock()"
   ]
  },
  {
   "cell_type": "markdown",
   "id": "6bc4ab08",
   "metadata": {},
   "source": [
    "## List and Arrays\n",
    "### ~ *Mechanical thought* ~\n",
    "\n",
    "What a triumph ! You unlocked the database with eases, and style. That was wonderful.\\\n",
    "After opening it however, it appears it's full of... weird characters. Weird enough, it is some unreadable binary code.\\\n",
    "It seems useless for the moment, there's a notice next to it though, it's noted **\"Mechanical thought\"**.\\\n",
    "It's probably linked with the **Robot Output**. We linked the file in the main directory, we will let you get a check inside.\n",
    "\n",
    "**Instructions :**\\\n",
    "Create a tool to decode the **Robot Thought**. It will be useful for later.\n",
    "\n",
    "**Notices :**\\\n",
    "[Learn Python List](https://www.w3schools.com/python/python_lists.asp)\\\n",
    "[Python List documentation](https://docs.python.org/3/tutorial/datastructures.html)"
   ]
  },
  {
   "cell_type": "code",
   "execution_count": null,
   "id": "bcf5cbe7",
   "metadata": {},
   "outputs": [],
   "source": [
    "# Before getting into it, here's a non exaustive list of operations that are used in lists.\n",
    "# You're free to test them at your needs. \n",
    "\n",
    "x = [1, 2, 3, 4, 5, 6]\n",
    "\n",
    "length = len(x) # Return the element length.\n",
    "print(\"Length :\", length)\n",
    "\n",
    "print(\"Begin :\", x[:3]) # x[begin:end]. In this case, the list end at the third element, starting from the first element.\n",
    "print(\"End :\", x[3:]) # Here it does the opposite, it start from the third element to the end of the list\n",
    "print(\"Start from the end :\", x[-2:]) # Little tip in python allowing to start at the end of the list. It will start at the element -2 and finish at the end."
   ]
  },
  {
   "cell_type": "code",
   "execution_count": null,
   "id": "2c7db9c2",
   "metadata": {},
   "outputs": [],
   "source": [
    "x.extend([7,8]) # Allows to add multiple elements in a list.\n",
    "x.append(9) # Allows to add one element at a time in a list.\n",
    "print(x)"
   ]
  },
  {
   "cell_type": "code",
   "execution_count": null,
   "id": "d24bbe1a",
   "metadata": {},
   "outputs": [],
   "source": [
    "y = [10, 11, 12]\n",
    "listOfLists = [x, y]\n",
    "listMerged = x + y\n",
    "\n",
    "print(\"List of lists :\", listOfLists)\n",
    "print(\"Merged list :\", listMerged)"
   ]
  },
  {
   "cell_type": "code",
   "execution_count": null,
   "id": "d2f4cc84",
   "metadata": {},
   "outputs": [],
   "source": [
    "z = [2, 3, 1]\n",
    "\n",
    "ascendingSort = z.sort() # Sort the list in the ascending order.\n",
    "print(\"Ascending sort :\", z)\n",
    "\n",
    "descendingSort = z.sort(reverse=True)  # Parameters in methods. Feels free to see more on the Internet.\n",
    "print(\"Descending sort :\", z)"
   ]
  },
  {
   "cell_type": "markdown",
   "id": "4c346f5e",
   "metadata": {},
   "source": [
    "### *Error management*\n",
    "Before getting into it, here's something that can be useful.\\\n",
    "Errors management is something important in every language.\n",
    "\n",
    "In Python it's pretty easy !\\\n",
    "You just have to set a \"try except\" block, with the error you want to detect, and it will contain the error in the block and avoid the crash !\\\n",
    "You can also achieve the same kind of comportment with the ```with``` block.\n",
    "\n",
    "**Notices :**\\\n",
    "[Learn Error Management](https://www.w3schools.com/python/python_try_except.asp)"
   ]
  },
  {
   "cell_type": "code",
   "execution_count": null,
   "id": "f2820a73",
   "metadata": {},
   "outputs": [],
   "source": [
    "def myHandmadeDivisor(nb1, nb2):\n",
    "    try:\n",
    "        result = nb1 / nb2\n",
    "        print(result)\n",
    "    except ZeroDivisionError as e:\n",
    "        print(e)\n",
    "    finally:\n",
    "        print(\"program finished\\n\")\n",
    "\n",
    "myHandmadeDivisor(44, 24)\n",
    "myHandmadeDivisor(44, 0) # Error"
   ]
  },
  {
   "cell_type": "markdown",
   "id": "f8c46942",
   "metadata": {},
   "source": [
    "### **We must understand Leo**\n",
    "Leo is our second Robot, and we must get thought his data. Everything is stored inside the database, and we should find its informations back.\\\n",
    "Robots always keep a signature in their datas, and you must find them back to verify the integrity of the data.\\\n",
    "They must follow these specifics conditions :\n",
    "- They should be in a specific range we will give as a parameter, which is the moment they were active. This can also be equal to None if no range is set (In the function parameter, it's called a \"default parameter\"). \n",
    "- They must always end by a specific signature (\" ~ Leo\" in our case, it's useful to keep away imposters)\n",
    "\n",
    "Once you got datas, removes the signature to avoid repetition, and we should be good.\\\n",
    "There might be something more hidden somewhere, but it must be sufficient for us.\n",
    "\n",
    "**Objective :**\\\n",
    "Your objective will be to create a generic function to get specific data from a file (Which is called a parser, a simple one here though).\\\n",
    "It must get a signature in parameter for getting specific robot data, and None if you want them all.\\\n",
    "You must also get all the signatures to find all imposters, this will be used soonly.\\\n",
    "We'll give you all the necessary to verify your algorithm, with a file called \"test_database.txt\".\\\n",
    "You might use Re-Gex for that task (Regular expression)."
   ]
  },
  {
   "cell_type": "code",
   "execution_count": null,
   "id": "bb86b0b7",
   "metadata": {},
   "outputs": [],
   "source": [
    "def getData(data: list, signature: str, range : tuple = None) -> list: # It must return the list of the valid data from Leo, without the signature \n",
    "    return\n",
    "\n",
    "def getSignatures(data: list, range: tuple = None) -> list:\n",
    "    return\n",
    "\n",
    "with open(\"test_database.txt\") as file:\n",
    "    file_content = file.read().splitlines()\n",
    "\n",
    "leoData = getData(file_content, \" ~ Leo\", (0, 30))\n",
    "signatures = getSignatures(file_content)\n",
    "\n",
    "assert(leoData == [\"\\\"Appear weak when you are strong, and strong when you are weak.\\\"\",\n",
    "\"\\\"Let your plans be dark and impenetrable as night, and when you move, fall like a thunderbolt.\\\"\",\n",
    "\"\\\"Treat your men as you would your own beloved sons. And they will follow you into the deepest valley.\\\"\",\n",
    "\"\\\"The wise warrior avoids the battle.\\\"\",\n",
    "\"\\\"You have to believe in yourself.\\\"\"]), \"You still need to continue...\"\n",
    "\n",
    "assert(signatures == [' ~ Leo', ' ~ Rob', ' ~ Ulrich', ' ~ Leo', ' ~ Thomas', ' ~ Simon', ' ~ uXXas', ' ~ Riot', ' ~ Santa08', ' ~ Leo', ' ~ Rob', ' ~ Rob', ' ~ Mortadelle', ' ~ Frank', ' ~ Stephane', ' ~ Jules', ' ~ Lactel', ' ~ Sodebo', ' ~ Rob', ' ~ Vivia', ' ~ Leo', ' ~ Volvic', ' ~ Rob', ' ~ Roman', ' ~ Lisa', ' ~ Mikael', ' ~ Leo', ' ~ Jules', ' ~ Mikael', ' ~ Florian', ' ~ Jules']), \"Something is wrong in these signatures...\"\n",
    "print(\"Well done !\")"
   ]
  },
  {
   "cell_type": "markdown",
   "id": "dc5f819b",
   "metadata": {},
   "source": [
    "## Special list and modularity\n",
    "### *~ Other kind of thought ? ~*\n",
    "\n",
    "Great, we have all the tools to get Leo's data back !\\\n",
    "The problem now, and our main concern is that datas are really difficult to use, they are not really usable (Sun Tzu would say otherwise).\\\n",
    "We will transform them in a type that's more usable, which will be JSON in this case !\\\n",
    "In other words, you still have a lot of works.\\\n",
    "We will transform Leo's test datas into a JSON file.\n",
    "\n",
    "**Notice :**\\\n",
    "[Learn Python Dictionnaries](https://www.w3schools.com/python/python_dictionaries.asp)\\\n",
    "[Introducing JSON](https://www.json.org/json-en.html)\n"
   ]
  },
  {
   "cell_type": "markdown",
   "id": "307a84f3",
   "metadata": {},
   "source": [
    "### **Dictionnairies**\n",
    "\n",
    "Before seeing JSON, let see dictionaries, they have the same functionnement and they are super essential in python (and they are needed for creating JSON file).\\\n",
    "Before getting into explanation, here we have some other type of lists.\\\n",
    "We have **Tuple** (Non mutable / constant list) and **Sets** (Multiple variable in once).\n",
    "\n",
    "We will see only dictionaries here, but remember they also exist aswell.\n",
    "\n",
    "So dictionnaries are **'Keys'** => **'Values'** list, as you can have in JSON configuration files.\\\n",
    "It means that you will have a specific **\"Keys\"** (As a string) to access a specific **\"Value\"**, instead of a straight number.\n",
    "Dictionnaries are especially usefull when you're creating non linear architectures.\n",
    "\n",
    "Here's an example\n"
   ]
  },
  {
   "cell_type": "code",
   "execution_count": null,
   "id": "be261df9",
   "metadata": {},
   "outputs": [],
   "source": [
    "# Here we define the dictionnary (Synthax : {\"Key\": Value})\n",
    "dictionnary = {\"robot\": \"This one is a little robot\", \"big_robot\": \"This one is a BIG robot\", \"advanced_robot\": \"This one is a smart robot\"}\n",
    "print(dictionnary[\"robot\"])\n",
    "print(dictionnary[\"big_robot\"])\n",
    "\n",
    "SELECTOR = (\"big_robot\", \"advanced_robot\") # Tuple\n",
    "for i in SELECTOR:\n",
    "    print(dictionnary[i]) # We can use strings as a key. This is super usefull combining this with constant or inputs.\n",
    "\n",
    "# Here's a more complex examples, it defines the calcul just by sending the characters in a list of functions.\n",
    "operators = {\"+\" : lambda x,y:x+y, \"-\" : lambda x,y:x-y} # Lambdas are some sort of one line functions. Consider them as little function.\n",
    "calcul = \"1+3\"\n",
    "operators[calcul[1]](int(calcul[0]), int(calcul[2]))"
   ]
  },
  {
   "cell_type": "markdown",
   "id": "559ae46c",
   "metadata": {},
   "source": [
    "### *Let's help the factory*\n",
    "Before getting to the concreet, it's important to really understand the notion. This will be useful anyways.\\\n",
    "Write a tool that combine the contents of two warehouses (Which are represented as dictionaries), adding value for common keys.\n",
    "\n",
    "__Example :__ \\\n",
    "d1 = {'gear': 100, 'screw': 200, 'metal_plate':300}\\\n",
    "d2 = {'gear': 300, 'screw': 200, 'sensor':400}\n",
    "\n",
    "__Output__: {'gear': 400, 'screw': 400, 'metal_plate': 300, 'sensor': 400}"
   ]
  },
  {
   "cell_type": "code",
   "execution_count": null,
   "id": "cf3dfa3a",
   "metadata": {},
   "outputs": [],
   "source": [
    "def dictCounter(d1: dict, d2: dict) -> dict:\n",
    "    return\n",
    "\n",
    "assert(dictCounter({'a': 200, 'b': 100, 'd': 100}, {'a': 150, 'c': 100, 'e': 300, 'b': 100}) ==\\\n",
    "{'a': 350, 'b': 200, 'c': 100, 'd': 100, 'e': 300})\n",
    "print(\"Good job ! We don't have to count letters anymore.\")"
   ]
  },
  {
   "cell_type": "markdown",
   "id": "998a4e6d",
   "metadata": {},
   "source": [
    "### *Now, let's transform them into a dictionnary !*\n",
    "Great, you're ready to do the principal now !\\\n",
    "Using all signatures, and all the data that come with them, create a dictionnary listing all data from a specific robot in an index.\\\n",
    "Each robot should have their own index, using a list as a value.\n",
    "\n",
    "This will have this form : \n",
    "{'Rob': ['strA', 'strB', 'strC'], ...}\n"
   ]
  },
  {
   "cell_type": "code",
   "execution_count": null,
   "id": "2ba4088e",
   "metadata": {},
   "outputs": [],
   "source": [
    "def dataToDict(file: str, signatures: list):\n",
    "    return\n",
    "\n",
    "signatures = getSignatures(file_content)\n",
    "assert(dataToDict(file_content, signatures)[\"Leo\"] == ['\\\"Appear weak when you are strong, and strong when you are weak.\\\"',\n",
    "  '\\\"Let your plans be dark and impenetrable as night, and when you move, fall like a thunderbolt.\\\"',\n",
    "  '\\\"Treat your men as you would your own beloved sons. And they will follow you into the deepest valley.\\\"',\n",
    "  '\\\"The wise warrior avoids the battle.\\\"',\n",
    "  '\\\"You have to believe in yourself.\\\"']), \"Next time :(\"\n",
    "\n",
    "print(\"What a nice dictionnary, well done !\")"
   ]
  },
  {
   "cell_type": "markdown",
   "id": "e2d1e909",
   "metadata": {},
   "source": [
    "### *JSON Implementation*\n",
    "\n",
    "**JSON Files**, or more generally named **\"Configuration Files\"** are some \"Key\" => \"Value\" stockage synthaxes (Exactly like dictionnaries, you will quickly see the link !),\\\n",
    "like the other you could have already seen in the past (As XML (With an HTML Balise synthaxes), yaml, ...).\\\n",
    "It's important to note that you can stock anything in the \"Value\" place (As a string, to a float, a list and even another dictionnary).\\\n",
    "They are widly used to stock data in a more **generalised**, **easiest**, and **humanely comprehensible** way, likely used in API for example\\\n",
    "(Application Programming Interface, which is a way to communicate with an application (web, ...)).\\\n",
    "To get you a clearer thought, here's an example right below (Taken from the official website [JSON Example](https://json.org/example.html)).\n",
    "\n",
    "```json\n",
    "{\n",
    "    \"menu\": {\n",
    "        \"id\": \"file\",\n",
    "        \"value\": \"File\",\n",
    "        \"popup\": {\n",
    "            \"menuitem\": [{\n",
    "                    \"value\": \"New\",\n",
    "                    \"onclick\": \"CreateNewDoc()\"\n",
    "                },\n",
    "                {\n",
    "                    \"value\": \"Open\",\n",
    "                    \"onclick\": \"OpenDoc()\"\n",
    "                },\n",
    "                {\n",
    "                    \"value\": \"Close\",\n",
    "                    \"onclick\": \"CloseDoc()\"\n",
    "                }\n",
    "            ]\n",
    "        }\n",
    "    }\n",
    "}\n",
    "```\n",
    "In the second line, **\"id\"** is the key for the value **\"file\"**. When it's translated in a dictionnary, it means : ```{\"id\": \"file\"}```.\\\n",
    "I think you start to make the connection between the two, they have the exact same synthaxes !\\\n",
    "This will be really usefull to understand the rest.\n",
    "\n",
    "In the first line, **menu** is the key to an object (Or another dictionnary).\\\n",
    "To access the **id** item, you'll have to translated it as : data[\"menu\"][\"id\"].\n",
    "\n",
    "At the opposite, **menuitem** is a list of object (Or a list of dictionnaries), and if you compare it again to python, it's just a list of value, with no keys.\\\n",
    "To access the second value, it can be translated as : data[\"menu\"][\"menuitem\"][2][\"value\"].\\\n",
    "In variable, it correspond to {\"menuitem\":[{\"value\":\"New\", ...}]}.\\\n",
    "It's again the exact same synthaxes ! (There are no spaces, but in a way you can put it the exact same way, it will always work).\\\n",
    "Once you got this, it begin to be really easy to understand everything, and so use it in Python !\n",
    "\n",
    "Now, let's try to convert this dictionnary into a json file, and write it into \"data.json\" file."
   ]
  },
  {
   "cell_type": "code",
   "execution_count": null,
   "id": "3d68a8b1",
   "metadata": {},
   "outputs": [],
   "source": [
    "import json\n",
    "\n",
    "def dictToJSON(dictData: dict):\n",
    "    return\n",
    "\n",
    "dictData = dataToDict(file_content, signatures)\n",
    "dictToJSON(dictData)\n",
    "with open(\"data.json\", \"r\") as file:\n",
    "    string = file.read()\n",
    "    assert(string[:100] == '{\"Leo\": [\"\\\\\"Appear weak when you are strong, and strong when you are weak.\\\\\"\", \"\\\\\"Let your plans be '), \"I hope you didn't copy my assert...\"\n",
    "\n",
    "print(\"Json is too easy anyways\")"
   ]
  },
  {
   "cell_type": "markdown",
   "id": "c38f76d1",
   "metadata": {},
   "source": [
    "### *Let's decode now !*\n",
    "By using all your work, we will be able to attack the real database !\\\n",
    "We will **decode** all the data, **get** its content by using our previously made function and **understand** its meaning.\\\n",
    "Understanding data is essential in any data analysis work, and it should absolutely not be negliged. In our case it shouldn't be too complex.\n",
    "\n",
    "Encoding was made using the key we find out in the database section, from our knowledge. If the key is simple enough, it can generally be determined back with some knowledge of the data.\n",
    "\n",
    "*What does it means ?*\n",
    "\n",
    "XOR (Or Exclusive or) is a special binary operation caracterised with the '^' symbol (i.g : 1 ^ 2).\\\n",
    "It interact directly with the binary value at the opposite of normal opperations, as any other binary operations (OR as '|', AND as '&').\\\n",
    "'a' is equal to 97 in ascii when binary is 01100001. If you're not sure of what I said, check that really nice link : [Learn XOR operation](https://www.101computing.net/xor-encryption-algorithm/)\\\n",
    "XOR has a speciality, and this is why it's really interesting, and used in cryptography.\\\n",
    "If you admit \"a = b ^ c\", any other combinations would also be correct (\"c = b ^ a\", \"b = c ^ a\"). It means that if you have 2 of the three elements, you will always get the last one.\\\n",
    "With our data, we have one of the element, and the key would be the second. By applying that knowledge, you can understand how to get the last element.\\\n",
    "It wont get much deeper in this section, but if you're curious enough here's a link with a lot of interesting tips and tricks with XOR : [XOR Tricks](https://florian.github.io/xor-trick/)\\\n",
    "With what you learnt, let's decode !\n"
   ]
  },
  {
   "cell_type": "code",
   "execution_count": null,
   "id": "066f67de",
   "metadata": {},
   "outputs": [],
   "source": [
    "def decodeData(data: str) -> str:\n",
    "    return\n",
    "\n",
    "with open(\"./database.txt\") as file:\n",
    "    data = file.read()\n",
    "\n",
    "decodedData = decodeData(data)\n",
    "\n",
    "assert(decodedData[:39] == '{\"id\": 0, \"user\": \"Rochelle\", \"password'), \"Bad key.\"\n",
    "\n",
    "with open(\"database.json\", \"w\") as file:\n",
    "    file.write(decodedData)\n",
    "print(\"Your data as been writed in 'database.json'.\")"
   ]
  },
  {
   "cell_type": "markdown",
   "id": "21b994da",
   "metadata": {},
   "source": [
    "## *The moment of truth*\n",
    "Now, with all the tools you made, you can decode the database ! Woohoo !\\\n",
    "Assemble and try to decode what it says, and put everything in a new file called \"data.json\".\\\n",
    "I wish you the best of my luck."
   ]
  },
  {
   "cell_type": "code",
   "execution_count": null,
   "id": "d6361d0f",
   "metadata": {},
   "outputs": [],
   "source": [
    "import json\n",
    "\n",
    "with open(\"database.json\", \"r\") as file:\n",
    "    data = file.read().splitlines()\n",
    "\n",
    "signatures = getSignatures(data)\n",
    "jsonData = dataToDict(data, signatures)\n",
    "\n",
    "assert(jsonData[\"Rodney\"][0] == json.dumps({'id': 6, 'user': 'Etta', 'password': 'fX_!F[\\nr@hySnR$OVdHBK\\\\y{]t<<G0\\n{_a>>QbR].FU*', 'data': [{'nightgown': 1525}, {'synthetic': 8357}, {'armistice': 3923}]})), \"Apparently the dictionnary isn't correct.\"\n",
    "\n",
    "with open(\"data.json\", \"w\") as file:\n",
    "    json.dump(jsonData, file)\n",
    "print(\"File as been writed in data.json.\")"
   ]
  },
  {
   "cell_type": "markdown",
   "id": "2b93a18d",
   "metadata": {},
   "source": [
    "## Classes and Heritages\n",
    "### *~ Robot factory ~*\n",
    "\n",
    "Great job, you succeeded in the principle task. We are very grateful for all your work !\\\n",
    "These was the most important, now you can get into more complex, and spicy stuff.\\\n",
    "Our team needs to create new robot for their research, so they can get up more data as the one you saw before.\\\n",
    "It's essential in the future of our company.\n",
    "\n",
    "So to start off, let us introduces Classes. These are the tool you'll learn to create new robots.\\\n",
    "Classes is what we call **Oriented Object Programming** (Or OOP) and is essential in a vast number of languages.\\\n",
    "To vulgarize it, classes are sort of mold used to create **object**. Once you've the molds, you can create as many objects of the same type as you want. This is used in every import you do, any functions from libraries are **methods** from classes.\\\n",
    "There names are often written with a uppercase at the beginning.\n",
    "\n",
    "If you want to get deeper in this notion, I highly recommend you to search on Internet. It's a highly well explained subject that's super well explained.\n",
    "\n",
    "**Notices :**\\\n",
    "[Python classes doc](https://docs.python.org/3/tutorial/classes.html)\\\n",
    "[OpenClassroom course](https://openclassrooms.com/fr/courses/7150616-apprenez-la-programmation-orientee-objet-avec-python/7195794-creez-et-utilisez-des-objets-python)\n",
    "\n",
    "\n",
    "Because an example is more meaningful than words, here's an exemple.\n",
    "A class made for a robot will have its pure concept of a robot as the mold and your unique handmade robot as an object.\n",
    "We'll have something in these lines.\n"
   ]
  },
  {
   "cell_type": "code",
   "execution_count": null,
   "id": "4f15bc7a",
   "metadata": {},
   "outputs": [],
   "source": [
    "class Robot:\n",
    "    # Variable of a class are called attributes.\n",
    "    # These are accessible from the body of the class with no instanciation at any moment, and can be considered as \"global variable\".\n",
    "    cur_robot = []\n",
    "\n",
    "    # Here's what we call a \"constructor\", it's the part that create the object itself, using instance atribute.\n",
    "    # This is also called the \"instanciation\".\n",
    "    def __init__(self, name = \"unnamed\") -> None:    # \"name\" parameter has a default value \"unnamed\"\n",
    "        if (name in self.cur_robot):\n",
    "            raise ValueError(\"This robot already exist.\")    # Error managing line. If we have two robots with the same name, this will stop the program\n",
    "        \n",
    "        self.cur_robot.append(name) # Self is the variable of the instance. It defines the object.\n",
    "        self.name = name\n",
    "        self.inventory = []\n",
    "        \n",
    "    # \"Method\" are the functions of an objects. It will use its attributes.\n",
    "    # It will interact, and changes the instances of the class.\n",
    "    def add_item(self, item: str):\n",
    "        if (item not in self.inventory):\n",
    "            self.inventory.append(item)\n",
    "    \n",
    "    def speak(self):\n",
    "        print(\"Hello, my name is \" + self.name)\n",
    "   \n",
    "\n",
    "print(Robot.cur_robot)\n",
    "Steve = Robot(\"Steve\")\n",
    "print(Robot.cur_robot)\n",
    "Steve.speak()"
   ]
  },
  {
   "cell_type": "markdown",
   "id": "40168057",
   "metadata": {},
   "source": [
    "## *Now let's create this robot !*\n",
    "Your turn now, using what you've learn, try to apply and create a class that generates more advanced robots !\\\n",
    "These robots will be able to **walk**, manage their **positions** (and so **coordinates** that can be consultated) and most importantly they will be able to talk to other robots !\\\n",
    "Good luck and get to us whenever you feel like you didn't understand something."
   ]
  },
  {
   "cell_type": "code",
   "execution_count": null,
   "id": "96ef4afb",
   "metadata": {},
   "outputs": [],
   "source": [
    "class AdvancedRobot:\n",
    "    def __init__(self, name, coordinates=[0 ,0]) -> None:\n",
    "        pass\n",
    "\n",
    "    def walk(self, positions: list) -> None:\n",
    "        pass\n",
    "\n",
    "    def getPositions(self) -> list: # This one can print too, its your choice !\n",
    "        return\n",
    "\n",
    "    def interact(self, AdvancedRobot) -> str: # Do a way to print and return the name of the other robot. (In the form of \"Hello {Name}\")\n",
    "        return"
   ]
  },
  {
   "cell_type": "code",
   "execution_count": null,
   "id": "5495da0a",
   "metadata": {},
   "outputs": [],
   "source": [
    "# Verifications\n",
    "\n",
    "AlbertLeRobot = AdvancedRobot(\"Albert\")\n",
    "AlbertLeRobot.walk([1, 3])\n",
    "assert(AlbertLeRobot.getPositions() == [1, 3]), f\"No getter for the coordinates\"\n",
    "AlbertLeRobot.walk([2, -2])\n",
    "assert(AlbertLeRobot.getPositions() == [3, 1]), f\"Incorrect getter\"\n",
    "MikaelLeRobot = AdvancedRobot(\"Mikael\")\n",
    "assert(AlbertLeRobot.interact(MikaelLeRobot) == \"Hello Mikael\")\n",
    "\n",
    "print(\"Good job, everything is working great !\")\n"
   ]
  },
  {
   "cell_type": "markdown",
   "id": "914aa41d",
   "metadata": {},
   "source": [
    "Secondly, we will have classes inheritance.\\\n",
    "Classes inheritance is simply a child of the first class that will interact with parents specificities, with all its caracteristic and mostly everything it does. It can be customized, and it's really useful when it comes into complex classes.\\\n",
    "It's anything harder, there's a lot of specifities but you'll learn it in the long way !"
   ]
  },
  {
   "cell_type": "code",
   "execution_count": null,
   "id": "0c658544",
   "metadata": {},
   "outputs": [],
   "source": [
    "class BigRobot(Robot):\n",
    "    def __init__(self, name):\n",
    "        super().__init__(name=name)\n",
    "        \n",
    "    def speak(self):\n",
    "        print(\"HELLO I'M THE BIG ROBOT, MY NAME IS \" + self.name.capitalize())\n",
    "\n",
    "big_steve = BigRobot(\"Josh\")\n",
    "big_steve.speak()"
   ]
  },
  {
   "cell_type": "markdown",
   "id": "0fbdc2ce",
   "metadata": {},
   "source": [
    "## Congratz !\n",
    "Good job, your job is done for now.\\\n",
    "You got way above our expectation, and you're entirely ready to do Python in any other mission. You're a really good soldier.\n",
    "\n",
    "If you want to learn more, I suggest you to now learn really advanced and hidden Python specifities, and mostly modules as Numpy, Pandas and more !\\\n",
    "Have a good day !"
   ]
  }
 ],
 "metadata": {
  "interpreter": {
   "hash": "916dbcbb3f70747c44a77c7bcd40155683ae19c65e1c03b4aa3499c5328201f1"
  },
  "kernelspec": {
   "display_name": "Python 3.9.5 64-bit",
   "name": "python3"
  },
  "language_info": {
   "codemirror_mode": {
    "name": "ipython",
    "version": 3
   },
   "file_extension": ".py",
   "mimetype": "text/x-python",
   "name": "python",
   "nbconvert_exporter": "python",
   "pygments_lexer": "ipython3",
   "version": "3.9.5"
  }
 },
 "nbformat": 4,
 "nbformat_minor": 5
}
