{
 "cells": [
  {
   "cell_type": "markdown",
   "metadata": {},
   "source": [
    "## 1. ***Réseaux de Neurones***\n",
    "\n",
    "---\n",
    "\n",
    "Bienvenue à tous :)\n",
    "\n",
    "Vous êtes ici pour comprendre ce qu'il y a à l'intérieur d'un réseau de neurones et essayer de le recréer avec Torch !\n",
    "\n",
    "**Pour l'instant, nous allons nous concentrer sur la manière dont les réseaux de neurones effectuent des calculs.**\n"
   ]
  },
  {
   "cell_type": "markdown",
   "metadata": {},
   "source": [
    "- Chaque neurone dans un réseau de neurones effectue des calculs à l'aide de paramètres appelés poids. Ces poids sont déterminés par des opérations matricielles.\n",
    "- Chaque neurone possède autant de poids que de connexions avec les neurones de la couche suivante.\n",
    "\n",
    "*Voici une illustration pour mieux comprendre :*\n",
    "\n",
    "![alt text](../../Source/matrix_multiplication.png)"
   ]
  },
  {
   "cell_type": "markdown",
   "metadata": {},
   "source": [
    "### Multiplication Matricielle pour Comprendre les Poids\n",
    "\n",
    "*Votre objectif est de découvrir vous-même comment les réseaux effectuent les calculs entre deux couches !*\n",
    "\n",
    "**Équation :**\n",
    "\n",
    "$$\n",
    "N1 \\times X1 = N2\n",
    "$$\n",
    "\n",
    "**Soit :**\n",
    "\n",
    "- **Entrée (N1) :** Une matrice 1x4 : *[0, 1, 0, 1]*\n",
    "- **Sortie souhaitée (N2) :** Une matrice 1x4 *[1, 0, 1, 0]*\n",
    "- **Matrice des Poids (X1) :** Une matrice 4x4 que vous devez déterminer.\n",
    "\n",
    "Vous devez exprimer la multiplication matricielle comme suit :\n",
    "\n",
    "$$\n",
    "N2 = N1 \\times X1 = \\begin{pmatrix} 0_{a} & 1_{b} & 0_{c} & 1_{d} \\end{pmatrix} \\times \\begin{pmatrix}\n",
    "w_{a1} & w_{a2} & w_{a3} & w_{a4} \\\\\n",
    "w_{b1} & w_{b2} & w_{b3} & w_{b4} \\\\\n",
    "w_{c1} & w_{c2} & w_{c3} & w_{c4} \\\\\n",
    "w_{d1} & w_{d2} & w_{d3} & w_{d4}\n",
    "\\end{pmatrix} = \\begin{pmatrix} 1 & 0 & 1 & 0 \\end{pmatrix}\n",
    "$$\n",
    "\n",
    "N'hésitez pas à consulter la [documentation NumPy](https://numpy.org/doc/stable/) si nécessaire.\n"
   ]
  },
  {
   "cell_type": "code",
   "execution_count": null,
   "metadata": {},
   "outputs": [],
   "source": [
    "import numpy as np\n",
    "\n",
    "N1 = np.array([0, 1, 0, 1])\n",
    "N2 = np.array([1, 0, 1, 0])\n",
    "\n",
    "# TODO: Complète la matrice X1\n",
    "\n",
    "X1 = ...\n",
    "\n",
    "result = N1 @ X1 # l'operateur @ est utilisé pour les multiplications de matrices\n",
    "\n",
    "print(\"Résultat après multiplication :\")\n",
    "print(result ,\"vs\", N2)\n",
    "\n",
    "assert np.array_equal(result, N2)"
   ]
  },
  {
   "cell_type": "markdown",
   "metadata": {},
   "source": [
    "Ce que vous venez de faire manuellement est, en essence, ce que fait un modèle de réseau de neurones pendant l'entraînement. Le modèle essaie de trouver les valeurs optimales pour les poids **X1** qui transforment l'entrée **N1** en la sortie souhaitée **N2**. Ce processus implique d'ajuster les poids de manière itérative jusqu'à ce que les prédictions du modèle correspondent étroitement aux valeurs cibles réelles.\n",
    "\n",
    "1. **Somme Pondérée avec Biais** : Un neurone n'utilise pas seulement la somme pondérée de ses entrées. Il ajoute également un terme de biais. Le biais permet au neurone de décaler sa fonction d'activation pour mieux s'adapter aux données. Mathématiquement, cela peut être représenté comme suit :\n",
    "\n",
    "   $$\n",
    "   y_i = \\sum_{j=1}^{n} w_{ij} x_j + b_i\n",
    "   $$\n",
    "\n",
    "   Ici :\n",
    "   - $W_i$ représente les poids (ou coefficients).\n",
    "   - $X_i$ représente les entrées.\n",
    "   - $b_i$ est le terme de biais qui est ajouté à la somme pondérée.\n",
    "\n",
    "   Voici un exemple ci-dessous :\n"
   ]
  },
  {
   "cell_type": "code",
   "execution_count": null,
   "metadata": {},
   "outputs": [],
   "source": [
    "b = 1.0\n",
    "\n",
    "N2 = N1 @ X1 + b\n",
    "\n",
    "print(\"Resultat après addition :\", N2)"
   ]
  },
  {
   "cell_type": "markdown",
   "metadata": {},
   "source": [
    "---\n",
    "\n",
    "Les réseaux de neurones peuvent être représentés de plusieurs manières, comme les Couches Entièrement Connectées (Fully Connected Layers) ou même les Réseaux de Neurones Convolutionnels (Convolutional Neural Networks), qui sont les deux types de réseaux de neurones les plus simples. PyTorch est conçu pour faciliter la définition de tous ces types de modèles en fonction de nos besoins. Il gère les multiplications matricielles sous-jacentes et optimise ces opérations pour nous.\n",
    "\n",
    "Essayez de découvrir comment représenter des couches linéaires ou convolutionnelles dans [PyTorch](https://pytorch.org/docs/stable/index.html).\n"
   ]
  },
  {
   "cell_type": "code",
   "execution_count": null,
   "metadata": {},
   "outputs": [],
   "source": [
    "import torch.nn as nn\n",
    "\n",
    "# Création d'une couche linéaire qui connecte 4 neurones d'entrée à 4 neurones de sortie\n",
    "Linear = nn.Linear(4, 4)\n",
    "\n",
    "# Création d'une couche convolutionnelle qui connecte 4 canaux d'entrée à 4 canaux de sortie et utilise un noyau (kernel) de taille 1\n",
    "Convolution = nn.Conv2d(in_channels=4, out_channels=4, kernel_size=1)\n",
    "\n",
    "print(\"Linear :\", Linear)\n",
    "print(\"Linear Weight :\", Linear.weight)\n",
    "print(\"Linear Bias :\", Linear.bias)\n",
    "print(\"/\" * 50)\n",
    "print(\"Convolution\", Convolution)\n",
    "print(\"Convolution Weight\", Convolution.weight)\n",
    "print(\"Convolution Bias\", Convolution.bias)\n",
    "\n",
    "#### IMPORTANT \n",
    "# Notez que les poids et les biais sont initialisés aléatoirement par défaut par PyTorch entre -1 et 1 pour une distribution uniforme.\n"
   ]
  },
  {
   "cell_type": "markdown",
   "metadata": {},
   "source": [
    "___\n",
    "# ***Bonus***\n",
    "### Comprendre les Différences entre les Couches Linéaires et Convolutionnelles\n",
    "\n",
    "#### 1. Couches Linéaires (Couches Entièrement Connectées)\n",
    "\n",
    "- **Définition** : Les couches linéaires, également connues sous le nom de couches entièrement connectées, sont le type de couche le plus basique dans un réseau de neurones. Chaque neurone dans une couche linéaire est connecté à chaque neurone de la couche précédente, ce qui signifie qu'il reçoit des entrées de tous les neurones de la couche précédente.\n",
    "\n",
    "- **Fonction** : Ces couches effectuent une simple somme pondérée des entrées et appliquent un biais. Cela est souvent suivi par une fonction d'activation. La sortie est un vecteur de valeurs représentant la transformation des données d'entrée.\n",
    "\n",
    "- **Cas d'utilisation** : Les couches linéaires sont généralement utilisées à la fin d'un réseau pour des tâches telles que la classification, où chaque neurone de sortie peut représenter une classe différente.\n",
    "\n",
    "- ![alt text](../../Source/linear_layer.png)\n",
    "\n",
    "#### 2. Couches Convolutionnelles (Couches Conv)\n",
    "\n",
    "- **Définition** : Les couches convolutionnelles sont conçues pour apprendre automatiquement et de manière adaptative des hiérarchies spatiales de caractéristiques à partir des données d'entrée. Contrairement aux couches linéaires, les couches convolutionnelles ne sont pas entièrement connectées. Elles utilisent une région plus petite appelée filtre ou noyau pour parcourir les données d'entrée.\n",
    "\n",
    "- **Fonction** : Les couches convolutionnelles appliquent ces filtres aux données d'entrée (par exemple, une image) pour produire des cartes de caractéristiques. Cette opération est appelée convolution, ce qui aide à détecter des caractéristiques telles que les bords, les textures et les motifs dans les données.\n",
    "\n",
    "- **Cas d'utilisation** : Les couches convolutionnelles sont couramment utilisées dans des tâches de traitement d'images, telles que dans les réseaux de neurones convolutionnels (CNN) pour la reconnaissance d'images, la détection d'objets, et plus encore, où la capture des caractéristiques spatiales est cruciale.\n",
    "\n",
    "- ![alt text](../../Source/convolutional_layer.png)\n"
   ]
  },
  {
   "cell_type": "markdown",
   "metadata": {},
   "source": [
    "Si vous souhaitez approfondir vos connaissances sur les neurones, veuillez consulter [1.1.1 le neurone artificiel](<1.1.1 le_neurone_artificiel.ipynb>) :)"
   ]
  }
 ],
 "metadata": {
  "kernelspec": {
   "display_name": "poc_venv",
   "language": "python",
   "name": "python3"
  },
  "language_info": {
   "name": "python",
   "version": "3.12.3"
  }
 },
 "nbformat": 4,
 "nbformat_minor": 2
}
