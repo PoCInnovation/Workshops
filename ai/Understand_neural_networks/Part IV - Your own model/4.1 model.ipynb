{
 "cells": [
  {
   "cell_type": "markdown",
   "metadata": {},
   "source": [
    "# ***Your model***\n",
    "\n"
   ]
  },
  {
   "cell_type": "markdown",
   "metadata": {},
   "source": [
    "___\n",
    "Well done, you'r arrived here ! For now you understand each concept of a neural network and how training it but you did'nt create one...\n",
    "Don't worry this final part concist to recreate a neural network to find detect a number on a 28*28 image !\n",
    "To understand how work ,CNN or FNN please go check the bonus part [here](<../Part I - The Forward Pass/1.1 concept_of_neural_network.ipynb>)"
   ]
  },
  {
   "cell_type": "code",
   "execution_count": 2,
   "metadata": {},
   "outputs": [],
   "source": [
    "import torch\n",
    "import torchvision\n",
    "import torchvision.transforms as transforms\n",
    "import torch.nn as nn\n",
    "import torch.optim as optim\n",
    "import torch.nn.functional as F\n",
    "\n",
    "#pretrained information\n",
    "transform = transforms.Compose([\n",
    "    transforms.ToTensor(),\n",
    "    transforms.Normalize((0.5,), (0.5,))\n",
    "])\n",
    "\n",
    "# datastets MNIST\n",
    "train_dataset = torchvision.datasets.MNIST(root='./data', train=True, download=True, transform=transform)\n",
    "test_dataset = torchvision.datasets.MNIST(root='./data', train=False, download=True, transform=transform)\n",
    "\n",
    "# Setup data loader\n",
    "train_loader = torch.utils.data.DataLoader(train_dataset, batch_size=64, shuffle=True)\n",
    "test_loader = torch.utils.data.DataLoader(test_dataset, batch_size=64, shuffle=False)\n"
   ]
  },
  {
   "cell_type": "markdown",
   "metadata": {},
   "source": [
    "Above there is the data that are prepared for taining you can skip this part but don't hesitate to dive into each componnent for understanding it's meaning ! \n",
    "\n",
    "*we are here to help you also :)*"
   ]
  },
  {
   "cell_type": "code",
   "execution_count": 3,
   "metadata": {},
   "outputs": [],
   "source": [
    "import torch\n",
    "import torch.nn as nn\n",
    "import torch.optim as optim\n",
    "import torch.nn.functional as F\n",
    "\n",
    "LEARNING_RATE = 0.001\n",
    "\n",
    "class MNISTModel(nn.Module):\n",
    "    def __init__(self):\n",
    "        super(MNISTModel, self).__init__()\n",
    "        self.flatten = nn.Flatten()\n",
    "        self.fc1 = ... # 28*28 -> what you want\n",
    "        self.fc2 = ...\n",
    "        ...\n",
    "        self.fc3 = ... # what you want -> 10\n",
    "\n",
    "        # Loss function and optimizer\n",
    "        self.loss = ...\n",
    "        self.optimizer = ... # use parameters and learning rate\n",
    "        \n",
    "        # Device setup\n",
    "        self.device = torch.device('cuda' if torch.cuda.is_available() else 'cpu')\n",
    "        self.to(self.device)\n",
    "\n",
    "    def forward(self, x):\n",
    "        # TODO: implement \n",
    "        ...\n",
    "        return x\n",
    "    \n",
    "    def train_model(self, epochs, train_loader, model_path):\n",
    "        self.train()  # Put the model in training mode\n",
    "        for epoch in range(epochs):\n",
    "            for i, data in enumerate(train_loader):\n",
    "                inputs, labels = data\n",
    "                inputs, labels = inputs.to(self.device), labels.to(self.device)  # Move data to the correct device\n",
    "                \n",
    "                # TODO: implement the training loop\n",
    "                    # Zero the parameter gradients\n",
    "                    # Forward pass\n",
    "                    # Compute the loss\n",
    "                    # Backward pass\n",
    "                    # Optimize\n",
    "                ...\n",
    "\n",
    "            print(f'\\033[91mEpoch {epoch + 1}/{epochs}\\033[0m, \\033[93mLoss: {loss.item():.4f}\\033[0m')\n",
    "        \n",
    "        print('Finished Training saving model...')\n",
    "        \n",
    "        # Save the model\n",
    "        torch.save(self.state_dict(), model_path)\n",
    "\n",
    "\n",
    "        \n",
    "    def test_model(self, test_loader):\n",
    "        self.eval()\n",
    "        correct = 0\n",
    "        total = 0\n",
    "        with torch.no_grad():\n",
    "            for data in test_loader:\n",
    "                images, labels = data\n",
    "                images, labels = images.to(self.device), labels.to(self.device)\n",
    "                outputs = self(images)\n",
    "                _, predicted = torch.max(outputs.data, 1)\n",
    "                total += labels.size(0)\n",
    "                correct += (predicted == labels).sum().item()\n",
    "\n",
    "        print(f'Accuracy of the network on the {total} test images: {100 * correct / total:.2f}%')\n"
   ]
  },
  {
   "cell_type": "code",
   "execution_count": 4,
   "metadata": {},
   "outputs": [],
   "source": [
    "model = MNISTModel()"
   ]
  },
  {
   "cell_type": "code",
   "execution_count": null,
   "metadata": {},
   "outputs": [],
   "source": [
    "model.train_model(4, train_loader, \"mnist_model\") # you can change the number of epochs if you want \n",
    "\n",
    "# mnist_model is the name of the file where the model will be saved"
   ]
  },
  {
   "cell_type": "code",
   "execution_count": null,
   "metadata": {},
   "outputs": [],
   "source": [
    "model.test_model(test_loader)"
   ]
  },
  {
   "cell_type": "code",
   "execution_count": null,
   "metadata": {},
   "outputs": [],
   "source": [
    "# work in progress\n",
    "\n",
    "# import importlib\n",
    "# import visualizer\n",
    "# import threading\n",
    "# # Recharger le module si nécessaire\n",
    "# importlib.reload(visualizer)\n",
    "\n",
    "# from visualizer import visualize_model\n",
    "\n",
    "# flask_thread = threading.Thread(target=visualize_model, args=(model, 5001))\n",
    "# flask_thread.start()\n",
    "\n",
    "# print(\"Server is running on http://127.0.0.1:5001\")"
   ]
  }
 ],
 "metadata": {
  "kernelspec": {
   "display_name": "Python 3",
   "language": "python",
   "name": "python3"
  },
  "language_info": {
   "codemirror_mode": {
    "name": "ipython",
    "version": 3
   },
   "file_extension": ".py",
   "mimetype": "text/x-python",
   "name": "python",
   "nbconvert_exporter": "python",
   "pygments_lexer": "ipython3",
   "version": "3.12.6"
  }
 },
 "nbformat": 4,
 "nbformat_minor": 2
}
