{
 "cells": [
  {
   "cell_type": "markdown",
   "metadata": {},
   "source": [
    "<img src=\"./image/hsfrsl.jpg\"/>\n",
    "\n",
    "# Introduction #\n",
    "\n",
    "In this workshop, we will try to predict the price of houses in the city of Boston and its surroundings.\\\n",
    "To do this, the workshop will be divided into several parts:\n",
    "   - Data processing\n",
    "   - Creation of the model\n",
    "   - Interpretation of the results.\n",
    "        \n",
    "Pour cela nous utiliserons la librairie sklearn : [sklearn](https://scikit-learn.org)\n"
   ]
  },
  {
   "cell_type": "markdown",
   "metadata": {},
   "source": [
    "## Import ##\n",
    "\n",
    "- `pandas`: data manipulation and analysis\n",
    "- `numpy`: support for large, multi-dimensional arrays and matrices, along with a large collection of high-level mathematical functions to operate on these arrays\n",
    "- `matplotlib`: Matplotlib allows you to visualize data in the form of graphs\n",
    "- `seaborn`: Seaborn allows from matplotlib to visualize data and to integrate pandas structures"
   ]
  },
  {
   "cell_type": "code",
   "execution_count": null,
   "metadata": {},
   "outputs": [],
   "source": [
    "import pandas as pd\n",
    "import numpy as np\n",
    "import matplotlib.pyplot as plt\n",
    "import seaborn as sns"
   ]
  },
  {
   "cell_type": "markdown",
   "metadata": {},
   "source": [
    "# Data processing 1.1 #\n",
    "\n",
    "## dataset ##\n",
    "\n",
    "Sklearn proposes to load datasets.\\\n",
    "You can see the list of datasets available here : [datasets](https://scikitlearn.org/stable/datasets/toy_dataset.html)\n",
    "\n",
    "The dataset we are interested in is called : Boston house prices dataset\\\n",
    "To perform this task, you must import the function that allows to load this dataset from sklearn.datasets.\\\n",
    "with the parameter `return_X_y=False`\\\n",
    "name the variable `boston_dataset`\n",
    "\n",
    "load_boston : [load_boston](https://scikit-learn.org/stable/modules/generated/sklearn.datasets.load_boston.html)\\\n",
    "Don't forget to import the function with : `from sklearn.datasets import load_boston`"
   ]
  },
  {
   "cell_type": "code",
   "execution_count": null,
   "metadata": {},
   "outputs": [],
   "source": [
    "# chargez la dataset de boston (~ 2 lignes)\n",
    "\n",
    "# début du code\n",
    "\n",
    "\n",
    "#fin du code"
   ]
  },
  {
   "cell_type": "markdown",
   "metadata": {},
   "source": [
    "### description of the dataset ###\n",
    "\n",
    "you must now print the description of the dataset with the `DESCR` attribute\\\n",
    "you can use an attribute of an object as follows: `object_name.attribute`\n"
   ]
  },
  {
   "cell_type": "code",
   "execution_count": null,
   "metadata": {},
   "outputs": [],
   "source": [
    "# affichez la description de votre dataset (~ 1 ligne)\n",
    "\n",
    "#début du code\n",
    "\n",
    "#fin du code"
   ]
  },
  {
   "cell_type": "markdown",
   "metadata": {},
   "source": [
    "## dataframe ##\n",
    "\n",
    "Now create a dataframe using panda.\\\n",
    "name the variable `boston`\n",
    "- data = data from the dataset\n",
    "- columns = features names of the dataset\n",
    "\n",
    "What is a dataframe : [dataframe](https://pandas.pydata.org/pandas-docs/stable/user_guide/dsintro.html#dataframe)\\\n",
    "Usage : [pd.DataFrame](https://pandas.pydata.org/pandas-docs/stable/reference/api/pandas.DataFrame.html)"
   ]
  },
  {
   "cell_type": "code",
   "execution_count": null,
   "metadata": {},
   "outputs": [],
   "source": [
    "#Vous devez créer un dataframe (~ 1 ligne)\n",
    "\n",
    "#début du code\n",
    "\n",
    "#fin du code"
   ]
  },
  {
   "cell_type": "markdown",
   "metadata": {},
   "source": [
    "### Add house prices to your dataframe ###\n",
    "\n",
    "You need to add the house price to your dataframe using the target attribute of your dataset.\\\n",
    "Display the head of your dataframe : [head](https://pandas.pydata.org/pandas-docs/stable/reference/api/pandas.DataFrame.head.html)"
   ]
  },
  {
   "cell_type": "code",
   "execution_count": null,
   "metadata": {},
   "outputs": [],
   "source": [
    "#Vous devez rajouter une colonne à votre dataframe boston['PRICE'] = ... (~ 1 ligne)\n",
    "from IPython.display import display\n",
    "\n",
    "#début du code\n",
    "boston['PRICE'] = None\n",
    "#fin du code"
   ]
  },
  {
   "cell_type": "markdown",
   "metadata": {},
   "source": [
    "If all is well you should see that each feature indicates 0, this indicates that the dataframe does not contain null values"
   ]
  },
  {
   "cell_type": "code",
   "execution_count": null,
   "metadata": {},
   "outputs": [],
   "source": [
    "print(boston.isnull().sum())"
   ]
  },
  {
   "cell_type": "markdown",
   "metadata": {},
   "source": [
    "# Data processing 1.2 #\n",
    "\n",
    "## adjust data and visualize ##\n",
    "\n",
    "The dataset is from the 1970's, one dollar from that time equals six today,\\\n",
    "to make the prices consistent with our time, multiply the house prices by six.\n",
    "\n",
    "How do you multiply all the prices?\\\n",
    "Find out how to use numpy. [np.multiply](https://numpy.org/doc/stable/reference/generated/numpy.multiply.html)\n",
    "\n",
    "Once the prices are multiplied you should see a graph of data\\\n",
    "representing the ratio of the number of houses to the prices."
   ]
  },
  {
   "cell_type": "code",
   "execution_count": null,
   "metadata": {},
   "outputs": [],
   "source": [
    "#Vous devez multiplier toute les prix par 6 (~ 1 ligne)\n",
    "\n",
    "#début du code\n",
    "\n",
    "#fin du code\n",
    "\n",
    "sns.set(rc={'figure.figsize':(11.7,8.27)}, palette=\"flare\")\n",
    "sns.histplot(boston[\"PRICE\"], bins=30)\n",
    "plt.show()\n"
   ]
  },
  {
   "cell_type": "markdown",
   "metadata": {},
   "source": [
    "## correlation ##\n",
    "\n",
    "seaborn allows us to get a heatmap to see the correlation between the different features of the houses.\n",
    "\n",
    "The correlation coefficient ranges from -1 to 1.\\\n",
    "If the value is close to 1, it means that there is a strong positive correlation between the two variables.\\\n",
    "When it is close to -1, the variables have a strong negative correlation.\n",
    "\n",
    "Choose the two features that most influence the price of the houses.\\\n",
    "Keep them in mind"
   ]
  },
  {
   "cell_type": "code",
   "execution_count": null,
   "metadata": {},
   "outputs": [],
   "source": [
    "correlation_matrix = boston.corr().round(2)\n",
    "sns.set(rc={'figure.figsize':(11.7,8.27)}, palette=\"flare\")\n",
    "sns.heatmap(data=correlation_matrix, annot=True)\n",
    "plt.show()"
   ]
  },
  {
   "cell_type": "markdown",
   "metadata": {},
   "source": [
    "# Data processing 1.3 #\n",
    "\n",
    "## Input & Label ##\n",
    "\n",
    "\n",
    "Our dataset is now ready and you have the two features you want to use for your model in your mind.\n",
    "\n",
    "In practice it is possible to use more than two features, in the context of an introduction we will only use two.\n",
    "\n",
    "We will create two variables `X` and `Y`.\\\n",
    "`X` will represent our input and `Y` our labels.\n",
    "\n",
    "`Y` is the price of the houses.\\\n",
    "`X` corresponds to a dataframe, where we concatenate our two features.\\\n",
    "The two columns of our dataframe `X` will keep the name of the one used in the dataset.\n",
    "\n",
    "To concatenate : [concatenate](https://numpy.org/doc/stable/reference/generated/numpy.c_.html)"
   ]
  },
  {
   "cell_type": "code",
   "execution_count": null,
   "metadata": {},
   "outputs": [],
   "source": [
    "#Vous devez créer votre input X, un dataframe de deux colonnes et Y contenant la colonne des prix des maisons\n",
    "#(~ 2 Lignes)\n",
    "\n",
    "#début du code\n",
    "X = None\n",
    "Y = None\n",
    "#fin du code"
   ]
  },
  {
   "cell_type": "markdown",
   "metadata": {},
   "source": [
    "## Split data ##\n",
    "\n",
    "Now that our data are ready, it is necessary to split our data into a training set and an evaluation set.\n",
    "\n",
    "Indeed, the training set allows us to improve the model.\\\n",
    "But if we test the model on our training data,\\\n",
    "the result is biased because the model already knows the data.\n",
    "\n",
    "Thus, we use evaluation data on which the model has not been trained to have valid results.\\\n",
    "We want to have 80% of the data for training and 20% for evaluation.\n",
    "\n",
    "<img src=\"./image/split.png\"/>\n",
    "\n",
    "Split data : [train_test_split](https://scikit-learn.org/stable/modules/generated/sklearn.model_selection.train_test_split.html)"
   ]
  },
  {
   "cell_type": "code",
   "execution_count": null,
   "metadata": {},
   "outputs": [],
   "source": [
    "#Maintenant que vos données sont prêtes, découpez vos données en un jeu d'entraînement, et un d'évaluation.\n",
    "#Utilisez la fonction train_test_split (~ 1 ligne)\n",
    "\n",
    "from sklearn.model_selection import train_test_split\n",
    "\n",
    "#début du code\n",
    "X_train, X_test, Y_train, Y_test = None\n",
    "#fin du code\n",
    "\n",
    "print(X_train.shape)\n",
    "print(X_test.shape)\n",
    "print(Y_train.shape)\n",
    "print(Y_test.shape)"
   ]
  },
  {
   "cell_type": "markdown",
   "metadata": {},
   "source": [
    "# Model 1.1 #\n",
    "\n",
    "## Create the model ##\n",
    "\n",
    "Pour notre modèle on utilise un modèle de regression linéaire.\n",
    "\n",
    "<img src=\"./image/regression.png\"/>\n",
    "\n",
    "Une regression linéaire, permet de trouver une fonction affine qui modèlise au mieux notre relation entre les features et les prix.\n",
    "\n",
    "Pour cela on importe la modèle de regression linéaire de scikit-learn\\\n",
    "nommé la variable : `house_price_model`\n",
    "\n",
    "Create model : [LinearRegression](https://scikit-learn.org/stable/modules/generated/sklearn.linear_model.LinearRegression.html)\\\n",
    "Don't forget to import the function with : `from sklearn.linear_model import LinearRegression`\n"
   ]
  },
  {
   "cell_type": "code",
   "execution_count": null,
   "metadata": {},
   "outputs": [],
   "source": [
    "#Importez et créer un modèle de regresion linéaire à partir de Scikit-Learn (~ 2 Lignes)\n",
    "\n",
    "#début du code\n",
    "\n",
    "\n",
    "#fin du code"
   ]
  },
  {
   "cell_type": "markdown",
   "metadata": {},
   "source": [
    "## Train the model ##\n",
    "\n",
    "Our model needs training to find the best relationship between our features and house prices.\n",
    "\n",
    "To do this we use the `fit` method of the linear model of Scikit-learn\\\n",
    "Use the training data X and Y.\n",
    "\n",
    "Use `fit` method like this : `house_price_model.fit(parameters)`"
   ]
  },
  {
   "cell_type": "code",
   "execution_count": null,
   "metadata": {},
   "outputs": [],
   "source": [
    "#Entrainez votre modèle avec vos données d'entraînement. (~ 1 Ligne)\n",
    "\n",
    "#début du code\n",
    "\n",
    "#fin du code"
   ]
  },
  {
   "cell_type": "markdown",
   "metadata": {},
   "source": [
    "## Evaluate your model ##\n",
    "\n",
    "Once your model is trained, it is important to evaluate it to observe its performance.\n",
    "\n",
    "To do this, use the predict method for your model.\\\n",
    "Give it your test data as input.\n",
    "\n",
    "Store the result in a variable named :  `y_test_predict`\n",
    "\n",
    "Use `predict` method like this : `house_price_model.predict(parameters)`"
   ]
  },
  {
   "cell_type": "code",
   "execution_count": null,
   "metadata": {},
   "outputs": [],
   "source": [
    "#Recuperez les prédictions pour vos données d'évaluation (~ 1 Ligne)\n",
    "\n",
    "#début du code\n",
    "predict = None\n",
    "#fin du code"
   ]
  },
  {
   "cell_type": "markdown",
   "metadata": {},
   "source": [
    "# Model 1.2 #\n",
    "\n",
    "## Error ##\n",
    "\n",
    "To evaluate our model, it is interesting to calculate the error of our model.\\\n",
    "For that we use the RMSE function, it allows to obtain the root of the mean square error.\\\n",
    "The lower the error of our model, the better it is.\n",
    "\n",
    "This may seem very mathematical and complex.\\\n",
    "But it corresponds to the difference between the real value and the prediction to which we apply\\\n",
    "a square root to get back to the unit y\n",
    "\n",
    "Formula : \n",
    "\n",
    "<img src=\"./image/rmse.png\"/>\n",
    "\n",
    "Compute the root mean squared error for our model,\\\n",
    "learn about the mse function of sklearn and the application of the square root to an array.\n",
    "\n",
    "mse : [mean_squared_error](https://scikit-learn.org/stable/modules/generated/sklearn.metrics.mean_squared_error.html)\\\n",
    "apply square root on arrays : [numpy sqrt](https://numpy.org/doc/stable/reference/generated/numpy.sqrt.html)"
   ]
  },
  {
   "cell_type": "code",
   "execution_count": null,
   "metadata": {},
   "outputs": [],
   "source": [
    "#Calculez la racine de l'erreur quadratique moyenne (Root Mean Squared Error. RMSE) (~ 1 ligne)\n",
    "\n",
    "#début du code\n",
    "rmse = None\n",
    "#fin du code\n",
    "\n",
    "print(rmse)"
   ]
  },
  {
   "cell_type": "markdown",
   "metadata": {},
   "source": [
    "## Coefficient of determination ##\n",
    "\n",
    "Even if the values to be predicted are all of the same order of magnitude, the RMSE can be difficult to interpret.\\\n",
    "Let's imagine that our model is used to predict sales prices.\\\n",
    "If we work with DVDs, an error of 10€ will be important. If we work with cars, an error of 10€ will be very small.\n",
    "\n",
    "For this reason, one can choose to normalize the sum of squares of the residuals not by the number of points n in the dataset,\\\n",
    "but by a measure of what would be a reasonable error: the sum of the distances between each of the values to be predicted and their mean.\\\n",
    "The result is called the relative square error, or RSE for Relative Squared Error.\n",
    "\n",
    "<img src=\"./image/RSE.png\"/>\n",
    "\n",
    "You will often meet, instead of the CSR, its complementary to 1,\\\n",
    "noted R²= 1-RSE It is the coefficient of determination. \n",
    "\n",
    "<img src=\"./image/r2.png\"/>\n",
    "\n",
    "Calculez R² pour votre modèle, pour cela utilisez la fonction que propose scikit-learn\\\n",
    "r2_score : [r2](https://scikit-learn.org/stable/modules/generated/sklearn.metrics.r2_score.html)"
   ]
  },
  {
   "cell_type": "code",
   "execution_count": null,
   "metadata": {},
   "outputs": [],
   "source": [
    "#Calculez r2 pour votre modèle\n",
    "\n",
    "#début du code\n",
    "r2 = None\n",
    "#fin du code\n",
    "\n",
    "print(r2)"
   ]
  },
  {
   "cell_type": "markdown",
   "metadata": {},
   "source": [
    "# Model 1.3 #\n",
    "\n",
    "## Verify shape ##\n",
    "\n",
    "Your model takes as input an array, you have defined its size when creating the model. \\\n",
    "Normally, the shape should be equal to (m, 2) where `m` is the number of samples in your data set."
   ]
  },
  {
   "cell_type": "code",
   "execution_count": null,
   "metadata": {},
   "outputs": [],
   "source": [
    "print(X_test.shape)"
   ]
  },
  {
   "cell_type": "markdown",
   "metadata": {},
   "source": [
    "## create an input ##\n",
    "\n",
    "To get a prediction, you will create a numpy array of dimension (1, 2).\\\n",
    "The two values must correspond to possible values of the two features of your model.\n",
    "\n",
    "create array : [np.array](https://numpy.org/doc/stable/reference/generated/numpy.array.html)"
   ]
  },
  {
   "cell_type": "code",
   "execution_count": null,
   "metadata": {},
   "outputs": [],
   "source": [
    "#Créer un np array contenant une valeur pour chaque features de votre modèle (~ 1 ligne)\n",
    "\n",
    "#début du code\n",
    "data = None\n",
    "#fin du code"
   ]
  },
  {
   "cell_type": "markdown",
   "metadata": {},
   "source": [
    "## get prediction ##\n",
    "\n",
    "Use the `data` variable defined above to get the price prediction based on the features.\\\n",
    "You should get a plausible price if you succeeded in the different steps.\n",
    "\n",
    "Have fun changing the values of `data` to see different predictions.\n"
   ]
  },
  {
   "cell_type": "code",
   "execution_count": null,
   "metadata": {},
   "outputs": [],
   "source": [
    "#Recuperer la prédiction du prix pour votre maison en fonction des données que vous avez choisi sur l'étape précedente\n",
    "\n",
    "#début du code\n",
    "predict = None\n",
    "#fin du code\n",
    "\n",
    "print(str(int(predict[0] * 1000)) + \"€\")"
   ]
  },
  {
   "cell_type": "markdown",
   "metadata": {},
   "source": [
    "## Conclusion ##\n",
    "\n",
    "I hope that this workshop has allowed you to learn more about the implementation of predictive models.\\\n",
    "Artificial intelligence is developing more and more within companies.\n",
    "\n",
    "We can be sure that in the future we will hear more and more about it."
   ]
  },
  {
   "cell_type": "code",
   "execution_count": null,
   "metadata": {},
   "outputs": [],
   "source": [
    "print(\"Thank you for participating in this workshop\")"
   ]
  },
  {
   "cell_type": "code",
   "execution_count": null,
   "metadata": {},
   "outputs": [],
   "source": []
  }
 ],
 "metadata": {
  "kernelspec": {
   "display_name": "Python 3",
   "language": "python",
   "name": "python3"
  },
  "language_info": {
   "codemirror_mode": {
    "name": "ipython",
    "version": 3
   },
   "file_extension": ".py",
   "mimetype": "text/x-python",
   "name": "python",
   "nbconvert_exporter": "python",
   "pygments_lexer": "ipython3",
   "version": "3.8.5"
  }
 },
 "nbformat": 4,
 "nbformat_minor": 4
}
