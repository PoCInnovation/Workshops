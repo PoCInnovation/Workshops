{
 "cells": [
  {
   "cell_type": "code",
   "execution_count": null,
   "metadata": {},
   "outputs": [],
   "source": [
    "import tensorflow as tf\n",
    "tf.test.is_built_with_cuda()"
   ]
  },
  {
   "cell_type": "markdown",
   "metadata": {
    "colab_type": "text",
    "id": "R6gHiH-I7uFa"
   },
   "source": [
    "# Increase the accuracy of Computer Vision with convolutional networks\n",
    "\n",
    "In the previous workshop, you saw how to recognize clothes through a neural network made up of 3 layers. You were able to experiment the impact of the different parameters of the model such as the number of neurons in the hidden layer, the number of epochs, etc. on the final accuracy.\n",
    "\n",
    "We have given you the previous code for a little reminder. Run the next cell and retain the displayed accuracy at the end of the workout."
   ]
  },
  {
   "cell_type": "code",
   "execution_count": null,
   "metadata": {
    "colab": {
     "height": 207
    },
    "colab_type": "code",
    "executionInfo": {
     "elapsed": 19572,
     "status": "ok",
     "timestamp": 1550247198665,
     "user": {
      "displayName": "Laurence Moroney",
      "photoUrl": "https://lh3.googleusercontent.com/-RcxktLY-TBk/AAAAAAAAAAI/AAAAAAAAABY/b4V4dTIqmPI/s64/photo.jpg",
      "userId": "06401446828348966425"
     },
     "user_tz": 480
    },
    "id": "xcsRtq9OLorS",
    "outputId": "027ddd16-b2d9-41a0-85aa-9da6275085e9"
   },
   "outputs": [],
   "source": [
    "mnist = tf.keras.datasets.fashion_mnist\n",
    "(training_images, training_labels), (test_images, test_labels) = mnist.load_data()\n",
    "\n",
    "training_images=training_images / 255.0\n",
    "test_images=test_images / 255.0\n",
    "\n",
    "model = tf.keras.models.Sequential([\n",
    "  tf.keras.layers.Flatten(),\n",
    "  tf.keras.layers.Dense(128, activation=tf.nn.relu),\n",
    "  tf.keras.layers.Dense(10, activation=tf.nn.softmax)\n",
    "])\n",
    "model.compile(optimizer='adam', loss='sparse_categorical_crossentropy', metrics=['accuracy'])\n",
    "\n",
    "model.fit(training_images, training_labels, epochs=5)\n",
    "test_loss = model.evaluate(test_images, test_labels)"
   ]
  },
  {
   "cell_type": "markdown",
   "metadata": {
    "colab_type": "text",
    "id": "zldEXSsF8Noz"
   },
   "source": [
    "Your accuracy is probably 89% on the train game and 87% on the validation game... not too bad... But how can you improve this score? We can use convolutions. We won't go into too much detail here, but the concept of convolutional neural networks is to learn to detect specific patterns in the content of an image.\n",
    "\n",
    "If you have ever done image processing using a filter (like here: https://en.wikipedia.org/wiki/Kernel_(image_processing), then you will be very familiar with convolutions.\n",
    "\n",
    "In short, you take a filter (usually 3x3 or 5x5) and pass it over the image. By modifying the underlying pixels according to the formula of this matrix-represented filter, you can perform operations such as edge detection. So, for example, if you look at the link above, you'll see that for a 3x3 filter set for edge detection, the middle cell is set to 8 and all of its neighbors to -1. In this case, for each pixel, you will multiply its value by 8, then subtract the value of each neighbor. Doing this for each pixel will result in a new image with improved edges.\n",
    "\n",
    "This is perfect for computer vision, because often the features that define an object only represent a part of the whole image, and the information we need is much weaker than all the pixels in the image. image. This concept then allows us to focus only on features that are highlighted.\n",
    "\n",
    "By adding convolution layers before your dense layers, the information provided to the dense layers is much more focused, and potentially more accurate.\n",
    "\n",
    "**Exercise:**\n",
    "Add convolution layers to the previous code, and see the impact there will be on the accuracy.<br>\n",
    "You must achieve a minimum of 92% accuracy on train data and 91% on validation data.\n",
    "\n",
    "**Hints**:\n",
    "- You have 60,000 images of size 28\\*28\\*1\n",
    "- Doc [Conv2D](https://www.tensorflow.org/api_docs/python/tf/keras/layers/Conv2D)\n",
    "- Doc [MaxPooling2D](https://www.tensorflow.org/api_docs/python/tf/keras/layers/MaxPool2D)"
   ]
  },
  {
   "cell_type": "code",
   "execution_count": null,
   "metadata": {
    "colab": {
     "height": 605
    },
    "colab_type": "code",
    "executionInfo": {
     "elapsed": 29440,
     "status": "ok",
     "timestamp": 1550247270616,
     "user": {
      "displayName": "Laurence Moroney",
      "photoUrl": "https://lh3.googleusercontent.com/-RcxktLY-TBk/AAAAAAAAAAI/AAAAAAAAABY/b4V4dTIqmPI/s64/photo.jpg",
      "userId": "06401446828348966425"
     },
     "user_tz": 480
    },
    "id": "C0tFgT1MMKi6",
    "outputId": "b9c48f3c-639a-4c14-ebbe-657cacca81f8"
   },
   "outputs": [],
   "source": [
    "mnist = tf.keras.datasets.fashion_mnist\n",
    "(training_images, training_labels), (test_images, test_labels) = mnist.load_data()\n",
    "\n",
    "training_images=training_images.reshape(60000, 28, 28, 1)\n",
    "training_images=training_images / 255.0\n",
    "test_images = test_images.reshape(10000, 28, 28, 1)\n",
    "test_images=test_images/255.0\n",
    "\n",
    "model = tf.keras.models.Sequential([\n",
    "  ### Start of code ### (≈ 4 lines of code)\n",
    "\n",
    "  ### End du code ###\n",
    "  tf.keras.layers.Flatten(),\n",
    "  tf.keras.layers.Dense(128, activation='relu'),\n",
    "  tf.keras.layers.Dense(10, activation='softmax')\n",
    "])\n",
    "model.compile(optimizer='adam', loss='sparse_categorical_crossentropy', metrics=['accuracy'])\n",
    "model.summary()\n",
    "\n",
    "model.fit(training_images, training_labels, epochs=5)\n",
    "test_loss = model.evaluate(test_images, test_labels)\n"
   ]
  },
  {
   "cell_type": "markdown",
   "metadata": {
    "colab_type": "text",
    "id": "uRLfZ0jt-fQI"
   },
   "source": [
    "You should have achieved close to 93% accucacy on the train data and 91% on the validation data. That's significant, you're headed in the right direction!\n",
    "\n",
    "Try running the code on more epochs, like 20 for example, and see the results! But although the train results are getting better and better, the validation results tend to decrease, due to overfitting.\n",
    "\n",
    "Review the code above, then watch step-by-step how the convolutions are constructed:"
   ]
  },
  {
   "cell_type": "markdown",
   "metadata": {
    "colab_type": "text",
    "id": "RaLX5cgI_JDb"
   },
   "source": [
    "The first step is to recover the data. You will see that there are some changes as the train data needs to be reshaped.\\\n",
    "Indeed, the first convolution expects a batch dimension.\\\n",
    "Here, since we are not working with batches, we will simply reshape our current values into a batch of size 1.\\\n",
    "So instead of `60000*28*28`, we have to provide a shape of 60000x28x28x1, and the same for the test images.\\\n",
    "Otherwise, we will get an error during training because the convolution layers failed to recognize the shapes.\n",
    "\n",
    "```py\n",
    "import tensorflow as tf\n",
    "mnist = tf.keras.datasets.fashion_mnist\n",
    "(training_images, training_labels), (test_images, test_labels) = mnist.load_data()\n",
    "training_images=training_images.reshape(60000, 28, 28, 1) ## adding a batch dimension to the training set\n",
    "training_images=training_images / 255.0\n",
    "test_images = test_images.reshape(10000, 28, 28, 1) ## adding a batch dimension to the test set\n",
    "test_images=test_images/255.0\n",
    "```"
   ]
  },
  {
   "cell_type": "markdown",
   "metadata": {
    "colab_type": "text",
    "id": "SS_W_INc_kJQ"
   },
   "source": [
    "The next step is to define your model. Now instead of giving your input layer first, you need to add a convolution layer first. The parameters are as follows:\n",
    "1. The number of convolutions you want to generate. This number is completely arbitrary, but you should usually start with a number that is a multiple of 32.\n",
    "2. The size of the convolution, in our case a 3x3 grid\n",
    "3. The activation function, in our case the ReLU which we recall, is equivalent to x when x > 0 otherwise 0\n",
    "4. In the first layer, the input data shape.\n",
    "\n",
    "You will then follow with a layer of MaxPooling which serves to compress the image, keeping the most important aspects determined by the convolution. By specifying (2,2) for the MaxPooling, the effect will be to divide the size of the image by 4. Without going into too much detail, the idea is that it creates an array of 2x2 pixels, grabs the largest value from that array, and turns those 4 pixels into 1 pixel. Iteratively through the whole image, the number of horizontal and vertical pixels will each be divided by 2, which will reduce the image by 25%.\n",
    "\n",
    "You can call the model.summary() method to visualize the size and shape of your network, and you will see that after each layer of MaxPooling, the size of the image is divided.\n",
    "\n",
    "```\n",
    "model = tf.keras.models.Sequential([\n",
    "  tf.keras.layers.Conv2D(32, (3,3), activation='relu', input_shape=(28, 28, 1)),\n",
    "  tf.keras.layers.MaxPooling2D(2, 2),\n",
    "```"
   ]
  },
  {
   "cell_type": "markdown",
   "metadata": {
    "colab_type": "text",
    "id": "RMorM6daADjA"
   },
   "source": [
    "Then add another convolution\n",
    "```\n",
    "   tf.keras.layers.Conv2D(64, (3,3), activation='relu'),\n",
    "   tf.keras.layers.MaxPooling2D(2,2)\n",
    "```"
   ]
  },
  {
   "cell_type": "markdown",
   "metadata": {
    "colab_type": "text",
    "id": "b1-x-kZF4_tC"
   },
   "source": [
    "And now flatten the output. After that you will have exactly the same neural network structure as the non convolution version\n",
    "\n",
    "```\n",
    "  tf.keras.layers.Flatten(),\n",
    "```\n",
    "\n"
   ]
  },
  {
   "cell_type": "markdown",
   "metadata": {
    "colab_type": "text",
    "id": "qPtqR23uASjX"
   },
   "source": [
    "The same dense 128, and 10 layers for the output as in the pre-convolution example.\n",
    "\n",
    "\n",
    "```\n",
    "  tf.keras.layers.Dense(128, activation='relu'),\n",
    "  tf.keras.layers.Dense(10, activation='softmax')\n",
    "])\n",
    "```\n",
    "\n"
   ]
  },
  {
   "cell_type": "markdown",
   "metadata": {
    "colab_type": "text",
    "id": "C0GSsjUhAaSj"
   },
   "source": [
    "Now you can compile your model, use the fit method for training, and evaluate loss and accuracy using the validation set.\n",
    "\n",
    "```\n",
    "model.compile(optimizer='adam', loss='sparse_categorical_crossentropy', metrics=['accuracy'])\n",
    "model.fit(training_images, training_labels, epochs=5)\n",
    "test_loss, test_acc = model.evaluate(test_images, test_labels)\n",
    "print(test_acc)\n",
    "```\n"
   ]
  },
  {
   "cell_type": "markdown",
   "metadata": {
    "colab_type": "text",
    "id": "IXx_LX3SAlFs"
   },
   "source": [
    "# Visualization of convolutions and pooling\n",
    "\n",
    "This code will allow you to visualize the convolutions graphically. The `print(test_labels[;30])` shows you the first 30 actual labels in the test set, and you can see that those at indexes 0, 23, and 28 have the same value (9). It's all about shoes. Take a look at the result of the convolution on each of these indexes, and you'll start to see some features that they have in common coming out.\n",
    "\n",
    "Feel free to change the index values to view different images."
   ]
  },
  {
   "cell_type": "code",
   "execution_count": null,
   "metadata": {
    "colab": {
     "base_uri": "https://localhost:8080/",
     "height": 68
    },
    "colab_type": "code",
    "executionInfo": {
     "elapsed": 400,
     "status": "ok",
     "timestamp": 1549465887353,
     "user": {
      "displayName": "Laurence Moroney",
      "photoUrl": "https://lh4.googleusercontent.com/-wUzpekukCVw/AAAAAAAAAAI/AAAAAAAAAHw/pQPstOOJqqE/s64/photo.jpg",
      "userId": "17858265307580721507"
     },
     "user_tz": 480
    },
    "id": "f-6nX4QsOku6",
    "outputId": "6b85ed93-6868-4c2c-b066-0808d6536878"
   },
   "outputs": [],
   "source": [
    "print(test_labels[:30])"
   ]
  },
  {
   "cell_type": "code",
   "execution_count": null,
   "metadata": {
    "colab": {
     "base_uri": "https://localhost:8080/",
     "height": 349
    },
    "colab_type": "code",
    "executionInfo": {
     "elapsed": 1429,
     "status": "ok",
     "timestamp": 1549466091111,
     "user": {
      "displayName": "Laurence Moroney",
      "photoUrl": "https://lh4.googleusercontent.com/-wUzpekukCVw/AAAAAAAAAAI/AAAAAAAAAHw/pQPstOOJqqE/s64/photo.jpg",
      "userId": "17858265307580721507"
     },
     "user_tz": 480
    },
    "id": "9FGsHhv6JvDx",
    "outputId": "e144d639-cebc-4d0a-9c7a-8571f70d6159"
   },
   "outputs": [],
   "source": [
    "import matplotlib.pyplot as plt\n",
    "\n",
    "from tensorflow.keras import models\n",
    "\n",
    "%matplotlib inline\n",
    "f, axarr = plt.subplots(3,4)\n",
    "\n",
    "FIRST_IMAGE=0\n",
    "SECOND_IMAGE=23\n",
    "THIRD_IMAGE=28\n",
    "CONVOLUTION_NUMBER = 1\n",
    "\n",
    "layer_outputs = [layer.output for layer in model.layers]\n",
    "activation_model = tf.keras.models.Model(inputs = model.input, outputs = layer_outputs)\n",
    "\n",
    "for x in range(0,4):\n",
    "  f1 = activation_model.predict(test_images[FIRST_IMAGE].reshape(1, 28, 28, 1))[x]\n",
    "  axarr[0,x].imshow(f1[0, : , :, CONVOLUTION_NUMBER], cmap='inferno')\n",
    "  axarr[0,x].grid(False)\n",
    "  f2 = activation_model.predict(test_images[SECOND_IMAGE].reshape(1, 28, 28, 1))[x]\n",
    "  axarr[1,x].imshow(f2[0, : , :, CONVOLUTION_NUMBER], cmap='inferno')\n",
    "  axarr[1,x].grid(False)\n",
    "  f3 = activation_model.predict(test_images[THIRD_IMAGE].reshape(1, 28, 28, 1))[x]\n",
    "  axarr[2,x].imshow(f3[0, : , :, CONVOLUTION_NUMBER], cmap='inferno')\n",
    "  axarr[2,x].grid(False)"
   ]
  },
  {
   "cell_type": "markdown",
   "metadata": {
    "colab_type": "text",
    "id": "8KVPZqgHo5Ux"
   },
   "source": [
    "**Exercises:**\n",
    "\n",
    "1. Try to modify the convolutions. Change the 32s to 16 or 64. What impact will this have on accuracy and/or training time?\n",
    "\n",
    "2. Remove the final convolution. What impact will this have on accuracy or training time?\n",
    "\n",
    "3. Why not add more convolution? What impact will this have on accuracy or training time? Experiment.\n",
    "\n",
    "4. Remove all convolutions except the first? What will be the impact? Experiment.\n",
    "\n",
    "5. In the previous workshop you implemented a callback to check your loss function and stop the training as soon as a certain value is reached. Try to see if you can implement it here!"
   ]
  },
  {
   "cell_type": "markdown",
   "metadata": {},
   "source": [
    "Head over to `2.mnist.ipynb` to try it yourself !"
   ]
  }
 ],
 "metadata": {
  "colab": {
   "collapsed_sections": [],
   "name": "Course 1 - Part 6 - Lesson 2 - Notebook.ipynb",
   "provenance": [],
   "version": "0.3.2"
  },
  "kernelspec": {
   "display_name": "Python 3.10.6 64-bit",
   "language": "python",
   "name": "python3"
  },
  "language_info": {
   "codemirror_mode": {
    "name": "ipython",
    "version": 3
   },
   "file_extension": ".py",
   "mimetype": "text/x-python",
   "name": "python",
   "nbconvert_exporter": "python",
   "pygments_lexer": "ipython3",
   "version": "3.10.6"
  },
  "vscode": {
   "interpreter": {
    "hash": "97cc609b13305c559618ec78a438abc56230b9381f827f22d070313b9a1f3777"
   }
  }
 },
 "nbformat": 4,
 "nbformat_minor": 1
}
