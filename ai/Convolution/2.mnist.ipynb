{
 "cells": [
  {
   "cell_type": "markdown",
   "metadata": {},
   "source": [
    "# MNIST and convolutions\n",
    "\n",
    "In the previous notebook, you could see how to improve the accuracy of the Fashion MNIST using convolutions. In this notebook, you will need to achieve at least 99.8% (yes, 99.8!) accuracy using only a single convolution layer and a single 2D MaxPooling. You should stop training only when this accuracy is reached. You are limited to a maximum of 20 epochs, but your training must end as soon as the accuracy metric is reached. If not, you will need to revise your model.\n",
    "\n",
    "We started writing the code for you, complete it.\n",
    "\n",
    "When the accuracy of 99.8% is reached, you will have to print `99.8% reached, exercise successful!`"
   ]
  },
  {
   "cell_type": "code",
   "execution_count": null,
   "metadata": {},
   "outputs": [],
   "source": [
    "import tensorflow as tf\n",
    "print(tf.__version__)"
   ]
  },
  {
   "cell_type": "code",
   "execution_count": null,
   "metadata": {},
   "outputs": [],
   "source": [
    "def mnist_conv():\n",
    "\n",
    "    ### Start of code ### (about 5 lines of code)\n",
    "    \n",
    "    ### End of code ###\n",
    "\n",
    "    mnist = tf.keras.datasets.mnist\n",
    "    (training_images, training_labels), (test_images, test_labels) = mnist.load_data()\n",
    "    \n",
    "    ### Start of code ### (about 3-5 lines of code)\n",
    "    \n",
    "    ### End of code ###\n",
    "\n",
    "    model = tf.keras.models.Sequential([\n",
    "        ### Start of code ### (as many lines as there are layers)\n",
    "        \n",
    "        ### End of code ###\n",
    "    ])\n",
    "\n",
    "    model.compile(optimizer='adam', loss='sparse_categorical_crossentropy', metrics=['acc'])\n",
    "    history = model.fit(\n",
    "        ### Start of code ### \n",
    "        \n",
    "        ### End of code ###\n",
    "    )\n",
    "    return history.epoch, history.history['acc'][-1]\n",
    "\n",
    "_, _ = mnist_conv()"
   ]
  }
 ],
 "metadata": {
  "kernelspec": {
   "display_name": "Python 3.10.6 64-bit",
   "language": "python",
   "name": "python3"
  },
  "language_info": {
   "codemirror_mode": {
    "name": "ipython",
    "version": 3
   },
   "file_extension": ".py",
   "mimetype": "text/x-python",
   "name": "python",
   "nbconvert_exporter": "python",
   "pygments_lexer": "ipython3",
   "version": "3.10.6"
  },
  "vscode": {
   "interpreter": {
    "hash": "97cc609b13305c559618ec78a438abc56230b9381f827f22d070313b9a1f3777"
   }
  }
 },
 "nbformat": 4,
 "nbformat_minor": 2
}
